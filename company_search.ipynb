{
 "cells": [
  {
   "cell_type": "code",
   "execution_count": 1,
   "id": "4b26ba0b",
   "metadata": {},
   "outputs": [
    {
     "name": "stdout",
     "output_type": "stream",
     "text": [
      "time: 294 µs (started: 2021-11-04 19:41:53 +00:00)\n"
     ]
    }
   ],
   "source": [
    "%load_ext autotime"
   ]
  },
  {
   "cell_type": "markdown",
   "id": "ace173de",
   "metadata": {},
   "source": [
    "## Imports"
   ]
  },
  {
   "cell_type": "code",
   "execution_count": 2,
   "id": "8243ed22",
   "metadata": {},
   "outputs": [
    {
     "name": "stdout",
     "output_type": "stream",
     "text": [
      "time: 1.33 s (started: 2021-11-04 19:42:04 +00:00)\n"
     ]
    }
   ],
   "source": [
    "# for data\n",
    "import pandas as pd\n",
    "import matplotlib.pyplot as plt\n",
    "import seaborn as sns\n",
    "\n",
    "from pprint import pprint\n",
    "import json\n",
    "\n",
    "import requests\n",
    "from requests.auth import HTTPBasicAuth\n",
    "from elasticsearch import Elasticsearch, helpers\n",
    "from elasticsearch_dsl import Search, Q"
   ]
  },
  {
   "cell_type": "code",
   "execution_count": 3,
   "id": "62dd9db2",
   "metadata": {},
   "outputs": [
    {
     "name": "stdout",
     "output_type": "stream",
     "text": [
      "time: 551 µs (started: 2021-11-04 19:42:07 +00:00)\n"
     ]
    }
   ],
   "source": [
    "# ignore warnings\n",
    "# only for format's sake. Mainly future deprecation warnings, they have been heeded when necessary\n",
    "import warnings\n",
    "warnings.filterwarnings(\"ignore\")"
   ]
  },
  {
   "cell_type": "markdown",
   "id": "0cbbdee8",
   "metadata": {},
   "source": [
    "## 1. EDA"
   ]
  },
  {
   "cell_type": "markdown",
   "id": "14420486",
   "metadata": {},
   "source": [
    "### a. Load data"
   ]
  },
  {
   "cell_type": "code",
   "execution_count": 4,
   "id": "b12cf17d",
   "metadata": {},
   "outputs": [
    {
     "name": "stdout",
     "output_type": "stream",
     "text": [
      "time: 143 ms (started: 2021-11-04 19:42:10 +00:00)\n"
     ]
    }
   ],
   "source": [
    "# import data into pandas dataframe\n",
    "companies_df = pd.read_csv(\"test_dataset.csv.gz\")"
   ]
  },
  {
   "cell_type": "code",
   "execution_count": 5,
   "id": "6967e1bb",
   "metadata": {},
   "outputs": [
    {
     "data": {
      "text/html": [
       "<div>\n",
       "<style scoped>\n",
       "    .dataframe tbody tr th:only-of-type {\n",
       "        vertical-align: middle;\n",
       "    }\n",
       "\n",
       "    .dataframe tbody tr th {\n",
       "        vertical-align: top;\n",
       "    }\n",
       "\n",
       "    .dataframe thead th {\n",
       "        text-align: right;\n",
       "    }\n",
       "</style>\n",
       "<table border=\"1\" class=\"dataframe\">\n",
       "  <thead>\n",
       "    <tr style=\"text-align: right;\">\n",
       "      <th></th>\n",
       "      <th>siren</th>\n",
       "      <th>siret</th>\n",
       "      <th>denominationUniteLegale</th>\n",
       "      <th>sigleUniteLegale</th>\n",
       "      <th>enseigne1Etablissement</th>\n",
       "      <th>activitePrincipaleEtablissement</th>\n",
       "      <th>geo_adresse</th>\n",
       "      <th>geo_score</th>\n",
       "      <th>categorieJuridiqueUniteLegale</th>\n",
       "      <th>codeCommuneEtablissement</th>\n",
       "      <th>dep</th>\n",
       "    </tr>\n",
       "  </thead>\n",
       "  <tbody>\n",
       "    <tr>\n",
       "      <th>0</th>\n",
       "      <td>528342587</td>\n",
       "      <td>52834258700037</td>\n",
       "      <td>SYCORAX</td>\n",
       "      <td>NaN</td>\n",
       "      <td>NaN</td>\n",
       "      <td>70.22Z</td>\n",
       "      <td>12 La Marche 23220 Mortroux</td>\n",
       "      <td>0.94</td>\n",
       "      <td>5499.0</td>\n",
       "      <td>23136</td>\n",
       "      <td>23</td>\n",
       "    </tr>\n",
       "    <tr>\n",
       "      <th>1</th>\n",
       "      <td>829106806</td>\n",
       "      <td>82910680600013</td>\n",
       "      <td>TRAD'FUSE</td>\n",
       "      <td>NaN</td>\n",
       "      <td>NaN</td>\n",
       "      <td>90.01Z</td>\n",
       "      <td>22 Rue des Mayades 23500 Felletin</td>\n",
       "      <td>0.95</td>\n",
       "      <td>9220.0</td>\n",
       "      <td>23079</td>\n",
       "      <td>23</td>\n",
       "    </tr>\n",
       "    <tr>\n",
       "      <th>2</th>\n",
       "      <td>444608442</td>\n",
       "      <td>44460844214191</td>\n",
       "      <td>ENEDIS</td>\n",
       "      <td>NaN</td>\n",
       "      <td>NaN</td>\n",
       "      <td>35.13Z</td>\n",
       "      <td>13 La Cote Ribiere 23200 Moutier-Rozeille</td>\n",
       "      <td>0.89</td>\n",
       "      <td>5699.0</td>\n",
       "      <td>23140</td>\n",
       "      <td>23</td>\n",
       "    </tr>\n",
       "  </tbody>\n",
       "</table>\n",
       "</div>"
      ],
      "text/plain": [
       "       siren           siret denominationUniteLegale sigleUniteLegale  \\\n",
       "0  528342587  52834258700037                 SYCORAX              NaN   \n",
       "1  829106806  82910680600013               TRAD'FUSE              NaN   \n",
       "2  444608442  44460844214191                  ENEDIS              NaN   \n",
       "\n",
       "  enseigne1Etablissement activitePrincipaleEtablissement  \\\n",
       "0                    NaN                          70.22Z   \n",
       "1                    NaN                          90.01Z   \n",
       "2                    NaN                          35.13Z   \n",
       "\n",
       "                                 geo_adresse  geo_score  \\\n",
       "0                12 La Marche 23220 Mortroux       0.94   \n",
       "1          22 Rue des Mayades 23500 Felletin       0.95   \n",
       "2  13 La Cote Ribiere 23200 Moutier-Rozeille       0.89   \n",
       "\n",
       "   categorieJuridiqueUniteLegale  codeCommuneEtablissement  dep  \n",
       "0                         5499.0                     23136   23  \n",
       "1                         9220.0                     23079   23  \n",
       "2                         5699.0                     23140   23  "
      ]
     },
     "execution_count": 5,
     "metadata": {},
     "output_type": "execute_result"
    },
    {
     "name": "stdout",
     "output_type": "stream",
     "text": [
      "time: 21.4 ms (started: 2021-11-04 19:42:11 +00:00)\n"
     ]
    }
   ],
   "source": [
    "companies_df.head(3)"
   ]
  },
  {
   "cell_type": "markdown",
   "id": "0b8149c7",
   "metadata": {},
   "source": [
    "### b. Explore and clean data"
   ]
  },
  {
   "cell_type": "code",
   "execution_count": 6,
   "id": "663e9b65",
   "metadata": {},
   "outputs": [
    {
     "data": {
      "text/plain": [
       "(42302, 11)"
      ]
     },
     "execution_count": 6,
     "metadata": {},
     "output_type": "execute_result"
    },
    {
     "name": "stdout",
     "output_type": "stream",
     "text": [
      "time: 3.3 ms (started: 2021-11-04 19:42:14 +00:00)\n"
     ]
    }
   ],
   "source": [
    "companies_df.shape"
   ]
  },
  {
   "cell_type": "code",
   "execution_count": 7,
   "id": "dc9d4688",
   "metadata": {},
   "outputs": [
    {
     "name": "stdout",
     "output_type": "stream",
     "text": [
      "<class 'pandas.core.frame.DataFrame'>\n",
      "RangeIndex: 42302 entries, 0 to 42301\n",
      "Data columns (total 11 columns):\n",
      " #   Column                           Non-Null Count  Dtype  \n",
      "---  ------                           --------------  -----  \n",
      " 0   siren                            42302 non-null  int64  \n",
      " 1   siret                            42302 non-null  int64  \n",
      " 2   denominationUniteLegale          42301 non-null  object \n",
      " 3   sigleUniteLegale                 4075 non-null   object \n",
      " 4   enseigne1Etablissement           6888 non-null   object \n",
      " 5   activitePrincipaleEtablissement  42301 non-null  object \n",
      " 6   geo_adresse                      37824 non-null  object \n",
      " 7   geo_score                        42302 non-null  float64\n",
      " 8   categorieJuridiqueUniteLegale    42301 non-null  float64\n",
      " 9   codeCommuneEtablissement         42302 non-null  int64  \n",
      " 10  dep                              42302 non-null  int64  \n",
      "dtypes: float64(2), int64(4), object(5)\n",
      "memory usage: 3.6+ MB\n",
      "time: 36.4 ms (started: 2021-11-04 19:42:16 +00:00)\n"
     ]
    }
   ],
   "source": [
    "companies_df.info()"
   ]
  },
  {
   "cell_type": "code",
   "execution_count": 8,
   "id": "09bbf258",
   "metadata": {},
   "outputs": [
    {
     "name": "stdout",
     "output_type": "stream",
     "text": [
      "time: 14.8 ms (started: 2021-11-04 19:42:19 +00:00)\n"
     ]
    }
   ],
   "source": [
    "# cast columns to object type (or category for better memory management)\n",
    "for col in ['siren', 'siret', 'codeCommuneEtablissement', 'categorieJuridiqueUniteLegale', 'dep']:\n",
    "    companies_df[col] = companies_df[col].astype('object')"
   ]
  },
  {
   "cell_type": "code",
   "execution_count": 9,
   "id": "d1015c90",
   "metadata": {},
   "outputs": [
    {
     "data": {
      "text/html": [
       "<div>\n",
       "<style scoped>\n",
       "    .dataframe tbody tr th:only-of-type {\n",
       "        vertical-align: middle;\n",
       "    }\n",
       "\n",
       "    .dataframe tbody tr th {\n",
       "        vertical-align: top;\n",
       "    }\n",
       "\n",
       "    .dataframe thead th {\n",
       "        text-align: right;\n",
       "    }\n",
       "</style>\n",
       "<table border=\"1\" class=\"dataframe\">\n",
       "  <thead>\n",
       "    <tr style=\"text-align: right;\">\n",
       "      <th></th>\n",
       "      <th>siren</th>\n",
       "      <th>siret</th>\n",
       "      <th>denominationUniteLegale</th>\n",
       "      <th>sigleUniteLegale</th>\n",
       "      <th>enseigne1Etablissement</th>\n",
       "      <th>activitePrincipaleEtablissement</th>\n",
       "      <th>geo_adresse</th>\n",
       "      <th>categorieJuridiqueUniteLegale</th>\n",
       "      <th>codeCommuneEtablissement</th>\n",
       "      <th>dep</th>\n",
       "    </tr>\n",
       "  </thead>\n",
       "  <tbody>\n",
       "    <tr>\n",
       "      <th>count</th>\n",
       "      <td>42302</td>\n",
       "      <td>42302</td>\n",
       "      <td>42301</td>\n",
       "      <td>4075</td>\n",
       "      <td>6888</td>\n",
       "      <td>42301</td>\n",
       "      <td>37824</td>\n",
       "      <td>42301.0</td>\n",
       "      <td>42302</td>\n",
       "      <td>42302</td>\n",
       "    </tr>\n",
       "    <tr>\n",
       "      <th>unique</th>\n",
       "      <td>31517</td>\n",
       "      <td>42302</td>\n",
       "      <td>30235</td>\n",
       "      <td>1958</td>\n",
       "      <td>3717</td>\n",
       "      <td>1259</td>\n",
       "      <td>14484</td>\n",
       "      <td>179.0</td>\n",
       "      <td>444</td>\n",
       "      <td>2</td>\n",
       "    </tr>\n",
       "    <tr>\n",
       "      <th>top</th>\n",
       "      <td>356000745</td>\n",
       "      <td>52834258700037</td>\n",
       "      <td>LA POSTE</td>\n",
       "      <td>CACF</td>\n",
       "      <td>MAIRIE</td>\n",
       "      <td>68.20B</td>\n",
       "      <td>Hôtel de Ville Lille</td>\n",
       "      <td>5499.0</td>\n",
       "      <td>48095</td>\n",
       "      <td>23</td>\n",
       "    </tr>\n",
       "    <tr>\n",
       "      <th>freq</th>\n",
       "      <td>194</td>\n",
       "      <td>1</td>\n",
       "      <td>431</td>\n",
       "      <td>76</td>\n",
       "      <td>467</td>\n",
       "      <td>5254</td>\n",
       "      <td>550</td>\n",
       "      <td>9511.0</td>\n",
       "      <td>3895</td>\n",
       "      <td>23294</td>\n",
       "    </tr>\n",
       "  </tbody>\n",
       "</table>\n",
       "</div>"
      ],
      "text/plain": [
       "            siren           siret denominationUniteLegale sigleUniteLegale  \\\n",
       "count       42302           42302                   42301             4075   \n",
       "unique      31517           42302                   30235             1958   \n",
       "top     356000745  52834258700037                LA POSTE             CACF   \n",
       "freq          194               1                     431               76   \n",
       "\n",
       "       enseigne1Etablissement activitePrincipaleEtablissement  \\\n",
       "count                    6888                           42301   \n",
       "unique                   3717                            1259   \n",
       "top                    MAIRIE                          68.20B   \n",
       "freq                      467                            5254   \n",
       "\n",
       "                 geo_adresse  categorieJuridiqueUniteLegale  \\\n",
       "count                  37824                        42301.0   \n",
       "unique                 14484                          179.0   \n",
       "top     Hôtel de Ville Lille                         5499.0   \n",
       "freq                     550                         9511.0   \n",
       "\n",
       "        codeCommuneEtablissement    dep  \n",
       "count                      42302  42302  \n",
       "unique                       444      2  \n",
       "top                        48095     23  \n",
       "freq                        3895  23294  "
      ]
     },
     "execution_count": 9,
     "metadata": {},
     "output_type": "execute_result"
    },
    {
     "name": "stdout",
     "output_type": "stream",
     "text": [
      "time: 186 ms (started: 2021-11-04 19:42:19 +00:00)\n"
     ]
    }
   ],
   "source": [
    "# category columns description\n",
    "companies_df.describe(include='object')"
   ]
  },
  {
   "cell_type": "code",
   "execution_count": 12,
   "id": "733909c4",
   "metadata": {},
   "outputs": [
    {
     "data": {
      "text/html": [
       "<div>\n",
       "<style scoped>\n",
       "    .dataframe tbody tr th:only-of-type {\n",
       "        vertical-align: middle;\n",
       "    }\n",
       "\n",
       "    .dataframe tbody tr th {\n",
       "        vertical-align: top;\n",
       "    }\n",
       "\n",
       "    .dataframe thead th {\n",
       "        text-align: right;\n",
       "    }\n",
       "</style>\n",
       "<table border=\"1\" class=\"dataframe\">\n",
       "  <thead>\n",
       "    <tr style=\"text-align: right;\">\n",
       "      <th></th>\n",
       "      <th>siren</th>\n",
       "      <th>siret</th>\n",
       "      <th>denominationUniteLegale</th>\n",
       "      <th>sigleUniteLegale</th>\n",
       "      <th>enseigne1Etablissement</th>\n",
       "      <th>activitePrincipaleEtablissement</th>\n",
       "      <th>geo_adresse</th>\n",
       "      <th>geo_score</th>\n",
       "      <th>categorieJuridiqueUniteLegale</th>\n",
       "      <th>codeCommuneEtablissement</th>\n",
       "      <th>dep</th>\n",
       "    </tr>\n",
       "  </thead>\n",
       "  <tbody>\n",
       "    <tr>\n",
       "      <th>32</th>\n",
       "      <td>274800416</td>\n",
       "      <td>27480041600019</td>\n",
       "      <td>SERVICE DES EAUX DE GATUZIERES</td>\n",
       "      <td>NaN</td>\n",
       "      <td>NaN</td>\n",
       "      <td>41.0Z</td>\n",
       "      <td>Hôtel de Ville Lille</td>\n",
       "      <td>0.92</td>\n",
       "      <td>7510.0</td>\n",
       "      <td>48069</td>\n",
       "      <td>48</td>\n",
       "    </tr>\n",
       "    <tr>\n",
       "      <th>40</th>\n",
       "      <td>777987363</td>\n",
       "      <td>77798736300010</td>\n",
       "      <td>CUMA DU TUTET</td>\n",
       "      <td>NaN</td>\n",
       "      <td>NaN</td>\n",
       "      <td>01.61Z</td>\n",
       "      <td>Hôtel de Ville Lille</td>\n",
       "      <td>0.92</td>\n",
       "      <td>6316.0</td>\n",
       "      <td>23064</td>\n",
       "      <td>23</td>\n",
       "    </tr>\n",
       "    <tr>\n",
       "      <th>45</th>\n",
       "      <td>820734531</td>\n",
       "      <td>82073453100016</td>\n",
       "      <td>SOCIETE COMMUNALE DE CHASSE D'AUROUX</td>\n",
       "      <td>NaN</td>\n",
       "      <td>NaN</td>\n",
       "      <td>93.19Z</td>\n",
       "      <td>Hôtel de Ville Lille</td>\n",
       "      <td>0.92</td>\n",
       "      <td>9220.0</td>\n",
       "      <td>48010</td>\n",
       "      <td>48</td>\n",
       "    </tr>\n",
       "    <tr>\n",
       "      <th>194</th>\n",
       "      <td>264801135</td>\n",
       "      <td>26480113500015</td>\n",
       "      <td>CENTRE COMMUNAL D'ACTION SOCIALE</td>\n",
       "      <td>NaN</td>\n",
       "      <td>CCAS DE MOLEZON</td>\n",
       "      <td>88.99B</td>\n",
       "      <td>Hôtel de Ville Lille</td>\n",
       "      <td>0.92</td>\n",
       "      <td>7361.0</td>\n",
       "      <td>48098</td>\n",
       "      <td>48</td>\n",
       "    </tr>\n",
       "    <tr>\n",
       "      <th>399</th>\n",
       "      <td>214800153</td>\n",
       "      <td>21480015300063</td>\n",
       "      <td>COMMUNE DE PIED-DE-BORNE</td>\n",
       "      <td>NaN</td>\n",
       "      <td>ATELIER DE CHATAIGNE</td>\n",
       "      <td>68.20B</td>\n",
       "      <td>Hôtel de Ville Lille</td>\n",
       "      <td>0.92</td>\n",
       "      <td>7210.0</td>\n",
       "      <td>48015</td>\n",
       "      <td>48</td>\n",
       "    </tr>\n",
       "  </tbody>\n",
       "</table>\n",
       "</div>"
      ],
      "text/plain": [
       "         siren           siret               denominationUniteLegale  \\\n",
       "32   274800416  27480041600019        SERVICE DES EAUX DE GATUZIERES   \n",
       "40   777987363  77798736300010                         CUMA DU TUTET   \n",
       "45   820734531  82073453100016  SOCIETE COMMUNALE DE CHASSE D'AUROUX   \n",
       "194  264801135  26480113500015      CENTRE COMMUNAL D'ACTION SOCIALE   \n",
       "399  214800153  21480015300063              COMMUNE DE PIED-DE-BORNE   \n",
       "\n",
       "    sigleUniteLegale enseigne1Etablissement activitePrincipaleEtablissement  \\\n",
       "32               NaN                    NaN                           41.0Z   \n",
       "40               NaN                    NaN                          01.61Z   \n",
       "45               NaN                    NaN                          93.19Z   \n",
       "194              NaN        CCAS DE MOLEZON                          88.99B   \n",
       "399              NaN   ATELIER DE CHATAIGNE                          68.20B   \n",
       "\n",
       "              geo_adresse  geo_score categorieJuridiqueUniteLegale  \\\n",
       "32   Hôtel de Ville Lille       0.92                        7510.0   \n",
       "40   Hôtel de Ville Lille       0.92                        6316.0   \n",
       "45   Hôtel de Ville Lille       0.92                        9220.0   \n",
       "194  Hôtel de Ville Lille       0.92                        7361.0   \n",
       "399  Hôtel de Ville Lille       0.92                        7210.0   \n",
       "\n",
       "    codeCommuneEtablissement dep  \n",
       "32                     48069  48  \n",
       "40                     23064  23  \n",
       "45                     48010  48  \n",
       "194                    48098  48  \n",
       "399                    48015  48  "
      ]
     },
     "execution_count": 12,
     "metadata": {},
     "output_type": "execute_result"
    },
    {
     "name": "stdout",
     "output_type": "stream",
     "text": [
      "time: 23.9 ms (started: 2021-11-04 19:42:30 +00:00)\n"
     ]
    }
   ],
   "source": [
    "companies_df.loc[companies_df['geo_adresse']=='Hôtel de Ville Lille'].head(5)"
   ]
  },
  {
   "cell_type": "markdown",
   "id": "3f5461a8",
   "metadata": {},
   "source": [
    "* The `Hôtel de ville Lille` adress seems to come up quite a lot. I could not find the adresses online and it seems to be a data quality issue. (To be investigated)."
   ]
  },
  {
   "cell_type": "code",
   "execution_count": 13,
   "id": "3c48bb22",
   "metadata": {},
   "outputs": [
    {
     "data": {
      "text/plain": [
       "siren                                  0\n",
       "siret                                  0\n",
       "denominationUniteLegale                1\n",
       "sigleUniteLegale                   38227\n",
       "enseigne1Etablissement             35414\n",
       "activitePrincipaleEtablissement        1\n",
       "geo_adresse                         4478\n",
       "geo_score                              0\n",
       "categorieJuridiqueUniteLegale          1\n",
       "codeCommuneEtablissement               0\n",
       "dep                                    0\n",
       "dtype: int64"
      ]
     },
     "execution_count": 13,
     "metadata": {},
     "output_type": "execute_result"
    },
    {
     "name": "stdout",
     "output_type": "stream",
     "text": [
      "time: 43.6 ms (started: 2021-11-04 19:42:33 +00:00)\n"
     ]
    }
   ],
   "source": [
    "# look for missing data\n",
    "companies_df.isnull().sum()"
   ]
  },
  {
   "cell_type": "code",
   "execution_count": 14,
   "id": "5c125f94",
   "metadata": {},
   "outputs": [
    {
     "data": {
      "text/html": [
       "<div>\n",
       "<style scoped>\n",
       "    .dataframe tbody tr th:only-of-type {\n",
       "        vertical-align: middle;\n",
       "    }\n",
       "\n",
       "    .dataframe tbody tr th {\n",
       "        vertical-align: top;\n",
       "    }\n",
       "\n",
       "    .dataframe thead th {\n",
       "        text-align: right;\n",
       "    }\n",
       "</style>\n",
       "<table border=\"1\" class=\"dataframe\">\n",
       "  <thead>\n",
       "    <tr style=\"text-align: right;\">\n",
       "      <th></th>\n",
       "      <th>siren</th>\n",
       "      <th>siret</th>\n",
       "      <th>denominationUniteLegale</th>\n",
       "      <th>sigleUniteLegale</th>\n",
       "      <th>enseigne1Etablissement</th>\n",
       "      <th>activitePrincipaleEtablissement</th>\n",
       "      <th>geo_adresse</th>\n",
       "      <th>geo_score</th>\n",
       "      <th>categorieJuridiqueUniteLegale</th>\n",
       "      <th>codeCommuneEtablissement</th>\n",
       "      <th>dep</th>\n",
       "    </tr>\n",
       "  </thead>\n",
       "  <tbody>\n",
       "    <tr>\n",
       "      <th>40575</th>\n",
       "      <td>497963736</td>\n",
       "      <td>49796373600010</td>\n",
       "      <td>NaN</td>\n",
       "      <td>NaN</td>\n",
       "      <td>NaN</td>\n",
       "      <td>41.20A</td>\n",
       "      <td>Rue des Combettes Planes 48170 Châteauneuf-de-...</td>\n",
       "      <td>0.84</td>\n",
       "      <td>NaN</td>\n",
       "      <td>48043</td>\n",
       "      <td>48</td>\n",
       "    </tr>\n",
       "  </tbody>\n",
       "</table>\n",
       "</div>"
      ],
      "text/plain": [
       "           siren           siret denominationUniteLegale sigleUniteLegale  \\\n",
       "40575  497963736  49796373600010                     NaN              NaN   \n",
       "\n",
       "      enseigne1Etablissement activitePrincipaleEtablissement  \\\n",
       "40575                    NaN                          41.20A   \n",
       "\n",
       "                                             geo_adresse  geo_score  \\\n",
       "40575  Rue des Combettes Planes 48170 Châteauneuf-de-...       0.84   \n",
       "\n",
       "      categorieJuridiqueUniteLegale codeCommuneEtablissement dep  \n",
       "40575                           NaN                    48043  48  "
      ]
     },
     "execution_count": 14,
     "metadata": {},
     "output_type": "execute_result"
    },
    {
     "name": "stdout",
     "output_type": "stream",
     "text": [
      "time: 20.5 ms (started: 2021-11-04 19:42:36 +00:00)\n"
     ]
    }
   ],
   "source": [
    "companies_df.loc[companies_df['denominationUniteLegale'].isnull()]"
   ]
  },
  {
   "cell_type": "code",
   "execution_count": 15,
   "id": "5c9f186a",
   "metadata": {},
   "outputs": [
    {
     "data": {
      "text/html": [
       "<div>\n",
       "<style scoped>\n",
       "    .dataframe tbody tr th:only-of-type {\n",
       "        vertical-align: middle;\n",
       "    }\n",
       "\n",
       "    .dataframe tbody tr th {\n",
       "        vertical-align: top;\n",
       "    }\n",
       "\n",
       "    .dataframe thead th {\n",
       "        text-align: right;\n",
       "    }\n",
       "</style>\n",
       "<table border=\"1\" class=\"dataframe\">\n",
       "  <thead>\n",
       "    <tr style=\"text-align: right;\">\n",
       "      <th></th>\n",
       "      <th>siren</th>\n",
       "      <th>siret</th>\n",
       "      <th>denominationUniteLegale</th>\n",
       "      <th>sigleUniteLegale</th>\n",
       "      <th>enseigne1Etablissement</th>\n",
       "      <th>activitePrincipaleEtablissement</th>\n",
       "      <th>geo_adresse</th>\n",
       "      <th>geo_score</th>\n",
       "      <th>categorieJuridiqueUniteLegale</th>\n",
       "      <th>codeCommuneEtablissement</th>\n",
       "      <th>dep</th>\n",
       "    </tr>\n",
       "  </thead>\n",
       "  <tbody>\n",
       "    <tr>\n",
       "      <th>40575</th>\n",
       "      <td>497963736</td>\n",
       "      <td>49796373600010</td>\n",
       "      <td>NaN</td>\n",
       "      <td>NaN</td>\n",
       "      <td>NaN</td>\n",
       "      <td>41.20A</td>\n",
       "      <td>Rue des Combettes Planes 48170 Châteauneuf-de-...</td>\n",
       "      <td>0.84</td>\n",
       "      <td>NaN</td>\n",
       "      <td>48043</td>\n",
       "      <td>48</td>\n",
       "    </tr>\n",
       "  </tbody>\n",
       "</table>\n",
       "</div>"
      ],
      "text/plain": [
       "           siren           siret denominationUniteLegale sigleUniteLegale  \\\n",
       "40575  497963736  49796373600010                     NaN              NaN   \n",
       "\n",
       "      enseigne1Etablissement activitePrincipaleEtablissement  \\\n",
       "40575                    NaN                          41.20A   \n",
       "\n",
       "                                             geo_adresse  geo_score  \\\n",
       "40575  Rue des Combettes Planes 48170 Châteauneuf-de-...       0.84   \n",
       "\n",
       "      categorieJuridiqueUniteLegale codeCommuneEtablissement dep  \n",
       "40575                           NaN                    48043  48  "
      ]
     },
     "execution_count": 15,
     "metadata": {},
     "output_type": "execute_result"
    },
    {
     "name": "stdout",
     "output_type": "stream",
     "text": [
      "time: 19.8 ms (started: 2021-11-04 19:42:36 +00:00)\n"
     ]
    }
   ],
   "source": [
    "companies_df[companies_df['siren']==497963736]"
   ]
  },
  {
   "cell_type": "markdown",
   "id": "426cf892",
   "metadata": {},
   "source": [
    "* This one row has all the three missing values for **'categorieJuridiqueUniteLegal'**, **'denominationUniteLegale'** and **'activitePrincipaleEtablissement'**. And we could not find a row which contains data relating to the same company."
   ]
  },
  {
   "cell_type": "code",
   "execution_count": 16,
   "id": "2cd2e58d",
   "metadata": {},
   "outputs": [
    {
     "data": {
      "text/plain": [
       "<AxesSubplot:ylabel='None'>"
      ]
     },
     "execution_count": 16,
     "metadata": {},
     "output_type": "execute_result"
    },
    {
     "data": {
      "image/png": "[encoded data removed]",
      "text/plain": [
       "<Figure size 432x288 with 1 Axes>"
      ]
     },
     "metadata": {},
     "output_type": "display_data"
    },
    {
     "name": "stdout",
     "output_type": "stream",
     "text": [
      "time: 135 ms (started: 2021-11-04 19:42:39 +00:00)\n"
     ]
    }
   ],
   "source": [
    "# departement percentage\n",
    "companies_df.groupby('dep').size().plot(kind='pie', autopct='%.2f')"
   ]
  },
  {
   "cell_type": "code",
   "execution_count": 17,
   "id": "efc5d813",
   "metadata": {},
   "outputs": [
    {
     "data": {
      "text/html": [
       "<div>\n",
       "<style scoped>\n",
       "    .dataframe tbody tr th:only-of-type {\n",
       "        vertical-align: middle;\n",
       "    }\n",
       "\n",
       "    .dataframe tbody tr th {\n",
       "        vertical-align: top;\n",
       "    }\n",
       "\n",
       "    .dataframe thead th {\n",
       "        text-align: right;\n",
       "    }\n",
       "</style>\n",
       "<table border=\"1\" class=\"dataframe\">\n",
       "  <thead>\n",
       "    <tr style=\"text-align: right;\">\n",
       "      <th></th>\n",
       "      <th>siren</th>\n",
       "    </tr>\n",
       "  </thead>\n",
       "  <tbody>\n",
       "    <tr>\n",
       "      <th>356000745</th>\n",
       "      <td>194</td>\n",
       "    </tr>\n",
       "    <tr>\n",
       "      <th>356000000</th>\n",
       "      <td>119</td>\n",
       "    </tr>\n",
       "    <tr>\n",
       "      <th>356000919</th>\n",
       "      <td>118</td>\n",
       "    </tr>\n",
       "    <tr>\n",
       "      <th>501542021</th>\n",
       "      <td>66</td>\n",
       "    </tr>\n",
       "    <tr>\n",
       "      <th>552049447</th>\n",
       "      <td>60</td>\n",
       "    </tr>\n",
       "    <tr>\n",
       "      <th>750401176</th>\n",
       "      <td>56</td>\n",
       "    </tr>\n",
       "    <tr>\n",
       "      <th>262324700</th>\n",
       "      <td>50</td>\n",
       "    </tr>\n",
       "    <tr>\n",
       "      <th>495105918</th>\n",
       "      <td>48</td>\n",
       "    </tr>\n",
       "    <tr>\n",
       "      <th>538160656</th>\n",
       "      <td>43</td>\n",
       "    </tr>\n",
       "    <tr>\n",
       "      <th>527809339</th>\n",
       "      <td>41</td>\n",
       "    </tr>\n",
       "  </tbody>\n",
       "</table>\n",
       "</div>"
      ],
      "text/plain": [
       "           siren\n",
       "356000745    194\n",
       "356000000    119\n",
       "356000919    118\n",
       "501542021     66\n",
       "552049447     60\n",
       "750401176     56\n",
       "262324700     50\n",
       "495105918     48\n",
       "538160656     43\n",
       "527809339     41"
      ]
     },
     "execution_count": 17,
     "metadata": {},
     "output_type": "execute_result"
    },
    {
     "name": "stdout",
     "output_type": "stream",
     "text": [
      "time: 36.2 ms (started: 2021-11-04 19:42:40 +00:00)\n"
     ]
    }
   ],
   "source": [
    "# 10 most frequent companies siren numbers\n",
    "companies_df['siren'].value_counts().to_frame()[:10]"
   ]
  },
  {
   "cell_type": "code",
   "execution_count": 18,
   "id": "6068c230",
   "metadata": {},
   "outputs": [
    {
     "name": "stdout",
     "output_type": "stream",
     "text": [
      "time: 59.8 ms (started: 2021-11-04 19:42:42 +00:00)\n"
     ]
    }
   ],
   "source": [
    "# add column with siren frequency\n",
    "companies_df['frequenceEtablissement'] = companies_df['siren'].map(companies_df['siren'].value_counts())\n",
    "companies_df.sort_values(by=['frequenceEtablissement'], inplace=True, ascending=False)"
   ]
  },
  {
   "cell_type": "code",
   "execution_count": 19,
   "id": "4054b6f3",
   "metadata": {},
   "outputs": [
    {
     "data": {
      "text/plain": [
       "<AxesSubplot:ylabel='None'>"
      ]
     },
     "execution_count": 19,
     "metadata": {},
     "output_type": "execute_result"
    },
    {
     "data": {
      "image/png": "[encoded data removed]",
      "text/plain": [
       "<Figure size 432x288 with 1 Axes>"
      ]
     },
     "metadata": {},
     "output_type": "display_data"
    },
    {
     "name": "stdout",
     "output_type": "stream",
     "text": [
      "time: 136 ms (started: 2021-11-04 19:42:42 +00:00)\n"
     ]
    }
   ],
   "source": [
    "# company frequency\n",
    "companies_df[:700].groupby('denominationUniteLegale').size().plot(kind='pie', autopct='%.2f')"
   ]
  },
  {
   "cell_type": "markdown",
   "id": "873f3a5f",
   "metadata": {},
   "source": [
    "* `La poste` seems to be a winner!"
   ]
  },
  {
   "cell_type": "code",
   "execution_count": 20,
   "id": "97eaf89e",
   "metadata": {},
   "outputs": [
    {
     "name": "stdout",
     "output_type": "stream",
     "text": [
      "time: 12.1 ms (started: 2021-11-04 19:42:51 +00:00)\n"
     ]
    }
   ],
   "source": [
    "# drop added frequency column\n",
    "companies_df.drop(columns='frequenceEtablissement', inplace=True)"
   ]
  },
  {
   "cell_type": "markdown",
   "id": "52bd7fcd",
   "metadata": {},
   "source": [
    "* ###### Elasticsearch does not like missing data, and the `null_value` parameter cannot be used with a `text` field. Consequently, the missing data has to be delt with before ingestion. We chose to replace the missing data with a `Non renseigné` string."
   ]
  },
  {
   "cell_type": "code",
   "execution_count": 21,
   "id": "ecdda2c3",
   "metadata": {},
   "outputs": [
    {
     "name": "stdout",
     "output_type": "stream",
     "text": [
      "time: 103 ms (started: 2021-11-04 19:42:53 +00:00)\n"
     ]
    }
   ],
   "source": [
    "# replace missing values\n",
    "companies_df.fillna(\"Non renseigne\", inplace=True)"
   ]
  },
  {
   "cell_type": "code",
   "execution_count": 22,
   "id": "ac53057d",
   "metadata": {},
   "outputs": [
    {
     "data": {
      "text/plain": [
       "siren                              0\n",
       "siret                              0\n",
       "denominationUniteLegale            0\n",
       "sigleUniteLegale                   0\n",
       "enseigne1Etablissement             0\n",
       "activitePrincipaleEtablissement    0\n",
       "geo_adresse                        0\n",
       "geo_score                          0\n",
       "categorieJuridiqueUniteLegale      0\n",
       "codeCommuneEtablissement           0\n",
       "dep                                0\n",
       "dtype: int64"
      ]
     },
     "execution_count": 22,
     "metadata": {},
     "output_type": "execute_result"
    },
    {
     "name": "stdout",
     "output_type": "stream",
     "text": [
      "time: 36.3 ms (started: 2021-11-04 19:42:54 +00:00)\n"
     ]
    }
   ],
   "source": [
    "companies_df.isnull().sum()"
   ]
  },
  {
   "cell_type": "code",
   "execution_count": 23,
   "id": "3116643f",
   "metadata": {},
   "outputs": [
    {
     "data": {
      "text/plain": [
       "(0, 11)"
      ]
     },
     "execution_count": 23,
     "metadata": {},
     "output_type": "execute_result"
    },
    {
     "name": "stdout",
     "output_type": "stream",
     "text": [
      "time: 64.7 ms (started: 2021-11-04 19:42:54 +00:00)\n"
     ]
    }
   ],
   "source": [
    "# let's look for duplicates\n",
    "duplicate_rows_df = companies_df[companies_df.duplicated()]\n",
    "duplicate_rows_df.shape"
   ]
  },
  {
   "cell_type": "markdown",
   "id": "771239ac",
   "metadata": {},
   "source": [
    "* ##### There are no duplicates!"
   ]
  },
  {
   "cell_type": "markdown",
   "id": "dd23f1ca",
   "metadata": {},
   "source": [
    "### c. Split data"
   ]
  },
  {
   "cell_type": "markdown",
   "id": "087511de",
   "metadata": {},
   "source": [
    "* We can filter on the `dep` directly when ingesting data. But we prefer to keep the dataframes in memory for possible use later on."
   ]
  },
  {
   "cell_type": "code",
   "execution_count": 24,
   "id": "be8a9cbf",
   "metadata": {},
   "outputs": [
    {
     "data": {
      "text/plain": [
       "(23294, 11)"
      ]
     },
     "execution_count": 24,
     "metadata": {},
     "output_type": "execute_result"
    },
    {
     "name": "stdout",
     "output_type": "stream",
     "text": [
      "time: 8.3 ms (started: 2021-11-04 19:42:57 +00:00)\n"
     ]
    }
   ],
   "source": [
    "companies_creuse = companies_df.loc[companies_df['dep']==23]\n",
    "companies_creuse.shape"
   ]
  },
  {
   "cell_type": "code",
   "execution_count": 25,
   "id": "c6227798",
   "metadata": {},
   "outputs": [
    {
     "data": {
      "text/plain": [
       "(19008, 11)"
      ]
     },
     "execution_count": 25,
     "metadata": {},
     "output_type": "execute_result"
    },
    {
     "name": "stdout",
     "output_type": "stream",
     "text": [
      "time: 7.25 ms (started: 2021-11-04 19:42:57 +00:00)\n"
     ]
    }
   ],
   "source": [
    "companies_lozere=companies_df.loc[companies_df['dep']==48]\n",
    "companies_lozere.shape"
   ]
  },
  {
   "cell_type": "markdown",
   "id": "d69126c2",
   "metadata": {},
   "source": [
    "## 2. Elasticsearch"
   ]
  },
  {
   "cell_type": "markdown",
   "id": "85958c64",
   "metadata": {},
   "source": [
    "Warning: If not using a jupyter docker container, substitue `host.docker.internal`with `localhost`in all URLs."
   ]
  },
  {
   "cell_type": "markdown",
   "id": "8f3a0e4b",
   "metadata": {},
   "source": [
    "### a. Check Elasticsearch"
   ]
  },
  {
   "cell_type": "code",
   "execution_count": 31,
   "id": "e362e8ae",
   "metadata": {},
   "outputs": [
    {
     "name": "stdout",
     "output_type": "stream",
     "text": [
      "time: 15 ms (started: 2021-11-04 19:45:49 +00:00)\n"
     ]
    }
   ],
   "source": [
    "# make sure ES is up and running\n",
    "response = requests.get('http://host.docker.internal:9200', auth=HTTPBasicAuth('elastic', 'elastic'))"
   ]
  },
  {
   "cell_type": "code",
   "execution_count": 32,
   "id": "6e5cb23c",
   "metadata": {},
   "outputs": [
    {
     "name": "stdout",
     "output_type": "stream",
     "text": [
      "{'cluster_name': 'es-docker-cluster',\n",
      " 'cluster_uuid': 'VOPJ8ZmdR3-kiUTAtf13aA',\n",
      " 'name': 'elastic-sirene',\n",
      " 'tagline': 'You Know, for Search',\n",
      " 'version': {'build_date': '2021-04-20T20:56:39.040728659Z',\n",
      "             'build_flavor': 'default',\n",
      "             'build_hash': '3186837139b9c6b6d23c3200870651f10d3343b7',\n",
      "             'build_snapshot': False,\n",
      "             'build_type': 'docker',\n",
      "             'lucene_version': '8.8.0',\n",
      "             'minimum_index_compatibility_version': '6.0.0-beta1',\n",
      "             'minimum_wire_compatibility_version': '6.8.0',\n",
      "             'number': '7.12.1'}}\n",
      "time: 5.14 ms (started: 2021-11-04 19:45:51 +00:00)\n"
     ]
    }
   ],
   "source": [
    "json_data = json.loads(response.content)\n",
    "pprint(json_data)"
   ]
  },
  {
   "cell_type": "markdown",
   "id": "418fde5b",
   "metadata": {},
   "source": [
    "Yay! it works :)"
   ]
  },
  {
   "cell_type": "markdown",
   "id": "57ed25bf",
   "metadata": {},
   "source": [
    "### b. Instantiate a client instance"
   ]
  },
  {
   "cell_type": "code",
   "execution_count": 33,
   "id": "3a27823a",
   "metadata": {},
   "outputs": [
    {
     "name": "stdout",
     "output_type": "stream",
     "text": [
      "time: 866 µs (started: 2021-11-04 19:45:59 +00:00)\n"
     ]
    }
   ],
   "source": [
    "# connect to ES server using the elasticsearch-py library\n",
    "elastic_client = Elasticsearch([{'host': 'host.docker.internal', 'port': 9200}], http_auth=(\"elastic\", \"elastic\"))"
   ]
  },
  {
   "cell_type": "code",
   "execution_count": 34,
   "id": "f08062c4",
   "metadata": {},
   "outputs": [
    {
     "data": {
      "text/plain": [
       "{'name': 'elastic-sirene',\n",
       " 'cluster_name': 'es-docker-cluster',\n",
       " 'cluster_uuid': 'VOPJ8ZmdR3-kiUTAtf13aA',\n",
       " 'version': {'number': '7.12.1',\n",
       "  'build_flavor': 'default',\n",
       "  'build_type': 'docker',\n",
       "  'build_hash': '3186837139b9c6b6d23c3200870651f10d3343b7',\n",
       "  'build_date': '2021-04-20T20:56:39.040728659Z',\n",
       "  'build_snapshot': False,\n",
       "  'lucene_version': '8.8.0',\n",
       "  'minimum_wire_compatibility_version': '6.8.0',\n",
       "  'minimum_index_compatibility_version': '6.0.0-beta1'},\n",
       " 'tagline': 'You Know, for Search'}"
      ]
     },
     "execution_count": 34,
     "metadata": {},
     "output_type": "execute_result"
    },
    {
     "name": "stdout",
     "output_type": "stream",
     "text": [
      "time: 20.8 ms (started: 2021-11-04 19:46:00 +00:00)\n"
     ]
    }
   ],
   "source": [
    "elastic_client.info()"
   ]
  },
  {
   "cell_type": "markdown",
   "id": "1ee7e452",
   "metadata": {},
   "source": [
    "### c. Ingest data"
   ]
  },
  {
   "cell_type": "markdown",
   "id": "32e9d658",
   "metadata": {},
   "source": [
    "#### i. Create indices"
   ]
  },
  {
   "cell_type": "code",
   "execution_count": 36,
   "id": "d4fb2b93",
   "metadata": {},
   "outputs": [
    {
     "data": {
      "text/plain": [
       "{}"
      ]
     },
     "execution_count": 36,
     "metadata": {},
     "output_type": "execute_result"
    },
    {
     "name": "stdout",
     "output_type": "stream",
     "text": [
      "time: 13.1 ms (started: 2021-11-04 19:48:00 +00:00)\n"
     ]
    }
   ],
   "source": [
    "# returns a list of all the cluster's indices\n",
    "all_indices = elastic_client.indices.get_alias()\n",
    "all_indices"
   ]
  },
  {
   "cell_type": "code",
   "execution_count": 35,
   "id": "f56dee0c",
   "metadata": {},
   "outputs": [
    {
     "data": {
      "text/plain": [
       "{'acknowledged': True}"
      ]
     },
     "execution_count": 35,
     "metadata": {},
     "output_type": "execute_result"
    },
    {
     "name": "stdout",
     "output_type": "stream",
     "text": [
      "time: 125 ms (started: 2021-11-04 19:47:54 +00:00)\n"
     ]
    }
   ],
   "source": [
    "# delete indices\n",
    "# elastic_client.indices.delete(index='creuse_index')\n",
    "# elastic_client.indices.delete(index='lozere_index')"
   ]
  },
  {
   "cell_type": "markdown",
   "id": "293834a9",
   "metadata": {},
   "source": [
    "* We chose static mapping instead of dynamic mapping to have absolute control over the fields."
   ]
  },
  {
   "cell_type": "markdown",
   "id": "838783f6",
   "metadata": {},
   "source": [
    "Mapping schema:\n",
    "- **siren**: *keyword* (becuase it's structured content i.e ID)\n",
    "- **siret**: *keyword* (becuase it's structured content i.e ID)\n",
    "- **denominationUniteLegale**: *text*\n",
    "- **sigleUniteLegale**: *text*\n",
    "- **enseigne1Etablissement**: *text*\n",
    "- **activitePrincipaleEtablissement**: *text*\n",
    "- **geo_adresse**: *text*\n",
    "- **geo_score**: *float*\n",
    "- **categorieJuridiqueUniteLegale**: *text*\n",
    "- **codeCommuneEtablissement**: *integer*\n",
    "- **dep**: *constant keyword* (because it contains the same value)"
   ]
  },
  {
   "cell_type": "code",
   "execution_count": 37,
   "id": "f6e5c4b6",
   "metadata": {},
   "outputs": [
    {
     "name": "stdout",
     "output_type": "stream",
     "text": [
      "time: 926 µs (started: 2021-11-04 19:48:15 +00:00)\n"
     ]
    }
   ],
   "source": [
    "mapping = {\n",
    "  \"settings\": { \"number_of_shards\": 1 },\n",
    "  \"mappings\": {\n",
    "      \"properties\" : {\n",
    "        \"siren\" : {\n",
    "          \"type\" :    \"keyword\"\n",
    "        },\n",
    "        \"siret\" : {\n",
    "          \"type\" :    \"keyword\"\n",
    "        },\n",
    "        \"denominationUniteLegale\" : {\n",
    "          \"type\" :   \"text\"\n",
    "        },\n",
    "        \"sigleUniteLegale\" : {\n",
    "          \"type\" :   \"text\"\n",
    "        },\n",
    "        \"enseigne1Etablissement\" : {\n",
    "          \"type\" :   \"text\"\n",
    "        },\n",
    "        \"activitePrincipaleEtablissement\" : {\n",
    "          \"type\" :   \"text\"\n",
    "        },\n",
    "        \"geo_adresse\" : {\n",
    "          \"type\" :   \"text\"\n",
    "        },\n",
    "        \"geo_score\" : {\n",
    "          \"type\" :   \"float\"\n",
    "        },\n",
    "        \"categorieJuridiqueUniteLegale\" : {\n",
    "          \"type\" :   \"text\"\n",
    "        },\n",
    "        \"codeCommuneEtablissement\" : {\n",
    "          \"type\" :   \"integer\"\n",
    "        },\n",
    "        \"dep\" : {\n",
    "          \"type\" :   \"constant_keyword\"\n",
    "        }\n",
    "      }\n",
    "  }\n",
    "}"
   ]
  },
  {
   "cell_type": "code",
   "execution_count": 38,
   "id": "cf8401b8",
   "metadata": {},
   "outputs": [
    {
     "data": {
      "text/plain": [
       "{'acknowledged': True, 'shards_acknowledged': True, 'index': 'creuse_index'}"
      ]
     },
     "execution_count": 38,
     "metadata": {},
     "output_type": "execute_result"
    },
    {
     "name": "stdout",
     "output_type": "stream",
     "text": [
      "time: 162 ms (started: 2021-11-04 19:48:19 +00:00)\n"
     ]
    }
   ],
   "source": [
    "# create Creuse index\n",
    "elastic_client.indices.create(index='creuse_index', body=mapping)"
   ]
  },
  {
   "cell_type": "code",
   "execution_count": 39,
   "id": "a4ede383",
   "metadata": {},
   "outputs": [
    {
     "data": {
      "text/plain": [
       "{'acknowledged': True, 'shards_acknowledged': True, 'index': 'lozere_index'}"
      ]
     },
     "execution_count": 39,
     "metadata": {},
     "output_type": "execute_result"
    },
    {
     "name": "stdout",
     "output_type": "stream",
     "text": [
      "time: 125 ms (started: 2021-11-04 19:48:19 +00:00)\n"
     ]
    }
   ],
   "source": [
    "# create Lozere index\n",
    "elastic_client.indices.create(index='lozere_index', body=mapping)"
   ]
  },
  {
   "cell_type": "code",
   "execution_count": 40,
   "id": "dd57e9ad",
   "metadata": {},
   "outputs": [
    {
     "data": {
      "text/plain": [
       "{'lozere_index': {'aliases': {}}, 'creuse_index': {'aliases': {}}}"
      ]
     },
     "execution_count": 40,
     "metadata": {},
     "output_type": "execute_result"
    },
    {
     "name": "stdout",
     "output_type": "stream",
     "text": [
      "time: 12.4 ms (started: 2021-11-04 19:48:20 +00:00)\n"
     ]
    }
   ],
   "source": [
    "# returns a list of all the cluster's indices\n",
    "elastic_client.indices.get_alias()"
   ]
  },
  {
   "cell_type": "markdown",
   "id": "4000c607",
   "metadata": {},
   "source": [
    "#### ii. Ingest dataframes into indices"
   ]
  },
  {
   "cell_type": "markdown",
   "id": "e9e951b3",
   "metadata": {},
   "source": [
    "* We do so using [`helpers.bulk`](https://elasticsearch-py.readthedocs.io/en/7.9.1/helpers.html) which requires a generator, which means indexing the dataset without putting it into memory, which in turn saves resources.\n",
    "\n",
    "* Let's start by converting every row in the dataframe into a document to ingest into elasticsearch index:"
   ]
  },
  {
   "cell_type": "code",
   "execution_count": 41,
   "id": "ba2aa5a9",
   "metadata": {},
   "outputs": [
    {
     "name": "stdout",
     "output_type": "stream",
     "text": [
      "time: 695 µs (started: 2021-11-04 19:48:26 +00:00)\n"
     ]
    }
   ],
   "source": [
    "# generator loops over every row of the dataframe and converts it into an index and a document(dictionary) to ingest into an ES index\n",
    "def doc_generator(df, elastic_index):\n",
    "    df_iter = df.iterrows()\n",
    "    for index, document in df_iter:\n",
    "        yield {\n",
    "                \"_index\": elastic_index,\n",
    "                \"_id\" : index,\n",
    "                \"_source\": document.to_dict(),\n",
    "            }"
   ]
  },
  {
   "cell_type": "code",
   "execution_count": 42,
   "id": "63849bb7",
   "metadata": {},
   "outputs": [
    {
     "data": {
      "text/plain": [
       "(23294, [])"
      ]
     },
     "execution_count": 42,
     "metadata": {},
     "output_type": "execute_result"
    },
    {
     "name": "stdout",
     "output_type": "stream",
     "text": [
      "time: 5.4 s (started: 2021-11-04 19:48:32 +00:00)\n"
     ]
    }
   ],
   "source": [
    "# ingest creuse (23) dataframe into creuse_index using the helpers.bulk method \n",
    "helpers.bulk(elastic_client, doc_generator(companies_creuse, 'creuse_index')) # request_timeout=20 for network latency"
   ]
  },
  {
   "cell_type": "code",
   "execution_count": 43,
   "id": "90dacd54",
   "metadata": {},
   "outputs": [
    {
     "name": "stdout",
     "output_type": "stream",
     "text": [
      "time: 29.1 ms (started: 2021-11-04 19:48:38 +00:00)\n"
     ]
    }
   ],
   "source": [
    "request_creuse = requests.get('http://host.docker.internal:9200/creuse_index?pretty', auth=HTTPBasicAuth('elastic', 'elastic'))"
   ]
  },
  {
   "cell_type": "code",
   "execution_count": 44,
   "id": "3f6e7fb9",
   "metadata": {},
   "outputs": [
    {
     "name": "stdout",
     "output_type": "stream",
     "text": [
      "{'creuse_index': {'aliases': {},\n",
      "                  'mappings': {'properties': {'activitePrincipaleEtablissement': {'type': 'text'},\n",
      "                                              'categorieJuridiqueUniteLegale': {'type': 'text'},\n",
      "                                              'codeCommuneEtablissement': {'type': 'integer'},\n",
      "                                              'denominationUniteLegale': {'type': 'text'},\n",
      "                                              'dep': {'type': 'constant_keyword',\n",
      "                                                      'value': '23'},\n",
      "                                              'enseigne1Etablissement': {'type': 'text'},\n",
      "                                              'geo_adresse': {'type': 'text'},\n",
      "                                              'geo_score': {'type': 'float'},\n",
      "                                              'sigleUniteLegale': {'type': 'text'},\n",
      "                                              'siren': {'type': 'keyword'},\n",
      "                                              'siret': {'type': 'keyword'}}},\n",
      "                  'settings': {'index': {'creation_date': '1636055299020',\n",
      "                                         'number_of_replicas': '1',\n",
      "                                         'number_of_shards': '1',\n",
      "                                         'provided_name': 'creuse_index',\n",
      "                                         'routing': {'allocation': {'include': {'_tier_preference': 'data_content'}}},\n",
      "                                         'uuid': 'FaY-AYdRTKyLqZTrQsMvkg',\n",
      "                                         'version': {'created': '7120199'}}}}}\n",
      "time: 11.4 ms (started: 2021-11-04 19:53:33 +00:00)\n"
     ]
    }
   ],
   "source": [
    "pprint(json.loads(request_creuse.content))"
   ]
  },
  {
   "cell_type": "code",
   "execution_count": 46,
   "id": "9efb8a00",
   "metadata": {},
   "outputs": [
    {
     "name": "stdout",
     "output_type": "stream",
     "text": [
      "{'creuse_index': {'mappings': {'properties': {'activitePrincipaleEtablissement': {'type': 'text'},\n",
      "                                              'categorieJuridiqueUniteLegale': {'type': 'text'},\n",
      "                                              'codeCommuneEtablissement': {'type': 'integer'},\n",
      "                                              'denominationUniteLegale': {'type': 'text'},\n",
      "                                              'dep': {'type': 'constant_keyword',\n",
      "                                                      'value': '23'},\n",
      "                                              'enseigne1Etablissement': {'type': 'text'},\n",
      "                                              'geo_adresse': {'type': 'text'},\n",
      "                                              'geo_score': {'type': 'float'},\n",
      "                                              'sigleUniteLegale': {'type': 'text'},\n",
      "                                              'siren': {'type': 'keyword'},\n",
      "                                              'siret': {'type': 'keyword'}}}}}\n",
      "time: 22.4 ms (started: 2021-11-04 19:53:55 +00:00)\n"
     ]
    }
   ],
   "source": [
    "# to get the index mapping\n",
    "pprint(elastic_client.indices.get_mapping(index='creuse_index'))"
   ]
  },
  {
   "cell_type": "code",
   "execution_count": 47,
   "id": "73d6b0f7",
   "metadata": {},
   "outputs": [
    {
     "data": {
      "text/plain": [
       "{'siren': 528342587,\n",
       " 'siret': 52834258700037,\n",
       " 'denominationUniteLegale': 'SYCORAX',\n",
       " 'sigleUniteLegale': 'Non renseigne',\n",
       " 'enseigne1Etablissement': 'Non renseigne',\n",
       " 'activitePrincipaleEtablissement': '70.22Z',\n",
       " 'geo_adresse': '12 La Marche 23220 Mortroux',\n",
       " 'geo_score': 0.94,\n",
       " 'categorieJuridiqueUniteLegale': 5499.0,\n",
       " 'codeCommuneEtablissement': 23136,\n",
       " 'dep': 23}"
      ]
     },
     "execution_count": 47,
     "metadata": {},
     "output_type": "execute_result"
    },
    {
     "name": "stdout",
     "output_type": "stream",
     "text": [
      "time: 22.4 ms (started: 2021-11-04 19:54:01 +00:00)\n"
     ]
    }
   ],
   "source": [
    "# check if the data was rightly indexed\n",
    "elastic_client.get(index='creuse_index', id=0)['_source']"
   ]
  },
  {
   "cell_type": "code",
   "execution_count": 48,
   "id": "b4e10d18",
   "metadata": {},
   "outputs": [
    {
     "data": {
      "text/plain": [
       "(19008, [])"
      ]
     },
     "execution_count": 48,
     "metadata": {},
     "output_type": "execute_result"
    },
    {
     "name": "stdout",
     "output_type": "stream",
     "text": [
      "time: 3.67 s (started: 2021-11-04 19:54:09 +00:00)\n"
     ]
    }
   ],
   "source": [
    "# ingest lozere (48) dataframe into creuse index using the helpers.bulk method \n",
    "helpers.bulk(elastic_client, doc_generator(companies_lozere, 'lozere_index'))"
   ]
  },
  {
   "cell_type": "code",
   "execution_count": 49,
   "id": "ce4592a1",
   "metadata": {},
   "outputs": [
    {
     "name": "stdout",
     "output_type": "stream",
     "text": [
      "time: 15.9 ms (started: 2021-11-04 19:54:14 +00:00)\n"
     ]
    }
   ],
   "source": [
    "request_lozere = requests.get('http://host.docker.internal:9200/lozere_index?pretty', auth=HTTPBasicAuth('elastic', 'elastic'))"
   ]
  },
  {
   "cell_type": "code",
   "execution_count": 50,
   "id": "a76b70a6",
   "metadata": {},
   "outputs": [
    {
     "name": "stdout",
     "output_type": "stream",
     "text": [
      "{'lozere_index': {'aliases': {},\n",
      "                  'mappings': {'properties': {'activitePrincipaleEtablissement': {'type': 'text'},\n",
      "                                              'categorieJuridiqueUniteLegale': {'type': 'text'},\n",
      "                                              'codeCommuneEtablissement': {'type': 'integer'},\n",
      "                                              'denominationUniteLegale': {'type': 'text'},\n",
      "                                              'dep': {'type': 'constant_keyword',\n",
      "                                                      'value': '48'},\n",
      "                                              'enseigne1Etablissement': {'type': 'text'},\n",
      "                                              'geo_adresse': {'type': 'text'},\n",
      "                                              'geo_score': {'type': 'float'},\n",
      "                                              'sigleUniteLegale': {'type': 'text'},\n",
      "                                              'siren': {'type': 'keyword'},\n",
      "                                              'siret': {'type': 'keyword'}}},\n",
      "                  'settings': {'index': {'creation_date': '1636055299765',\n",
      "                                         'number_of_replicas': '1',\n",
      "                                         'number_of_shards': '1',\n",
      "                                         'provided_name': 'lozere_index',\n",
      "                                         'routing': {'allocation': {'include': {'_tier_preference': 'data_content'}}},\n",
      "                                         'uuid': 'LB4uVPhTQ1WaipnaVU5dTQ',\n",
      "                                         'version': {'created': '7120199'}}}}}\n",
      "time: 8.09 ms (started: 2021-11-04 19:54:14 +00:00)\n"
     ]
    }
   ],
   "source": [
    "pprint(json.loads(request_lozere.content))"
   ]
  },
  {
   "cell_type": "code",
   "execution_count": 60,
   "id": "54f6d4bc",
   "metadata": {},
   "outputs": [
    {
     "data": {
      "text/plain": [
       "{'siren': 903444479,\n",
       " 'siret': 90344447900013,\n",
       " 'denominationUniteLegale': 'BRICOMART',\n",
       " 'sigleUniteLegale': 'Non renseigne',\n",
       " 'enseigne1Etablissement': 'Non renseigne',\n",
       " 'activitePrincipaleEtablissement': '47.52B',\n",
       " 'geo_adresse': '21 Route de Mende 48400 Florac Trois Rivières',\n",
       " 'geo_score': 0.83,\n",
       " 'categorieJuridiqueUniteLegale': 5499.0,\n",
       " 'codeCommuneEtablissement': 48061,\n",
       " 'dep': 48}"
      ]
     },
     "execution_count": 60,
     "metadata": {},
     "output_type": "execute_result"
    },
    {
     "name": "stdout",
     "output_type": "stream",
     "text": [
      "time: 12 ms (started: 2021-11-04 19:55:35 +00:00)\n"
     ]
    }
   ],
   "source": [
    "# check if the data was rightly indexed\n",
    "elastic_client.get(index='lozere_index', id=10)['_source']"
   ]
  },
  {
   "cell_type": "code",
   "execution_count": 61,
   "id": "cce3179f",
   "metadata": {},
   "outputs": [
    {
     "data": {
      "text/plain": [
       "[{'epoch': '1636055746', 'timestamp': '19:55:46', 'count': '23294'}]"
      ]
     },
     "execution_count": 61,
     "metadata": {},
     "output_type": "execute_result"
    },
    {
     "name": "stdout",
     "output_type": "stream",
     "text": [
      "time: 31.3 ms (started: 2021-11-04 19:55:46 +00:00)\n"
     ]
    }
   ],
   "source": [
    "# quick access to the document count\n",
    "elastic_client.cat.count(index=\"creuse_index\", params={\"format\": \"json\"})"
   ]
  },
  {
   "cell_type": "code",
   "execution_count": 62,
   "id": "791bfb50",
   "metadata": {},
   "outputs": [
    {
     "data": {
      "text/plain": [
       "[{'epoch': '1636055746', 'timestamp': '19:55:46', 'count': '19008'}]"
      ]
     },
     "execution_count": 62,
     "metadata": {},
     "output_type": "execute_result"
    },
    {
     "name": "stdout",
     "output_type": "stream",
     "text": [
      "time: 12 ms (started: 2021-11-04 19:55:46 +00:00)\n"
     ]
    }
   ],
   "source": [
    "# quick access to the document count\n",
    "elastic_client.cat.count(index=\"lozere_index\", params={\"format\": \"json\"})"
   ]
  },
  {
   "cell_type": "markdown",
   "id": "fa576e54",
   "metadata": {},
   "source": [
    "### d. Search queries"
   ]
  },
  {
   "cell_type": "markdown",
   "id": "ec0dd5ad",
   "metadata": {},
   "source": [
    "* There are two ways we could go about this; either using the low-level API or the expressive DSL API. For the first question we will test both. As for the remaining questions, we will use the high level DSl library as it is more Pythonic and less verbose."
   ]
  },
  {
   "cell_type": "markdown",
   "id": "7c07eb41",
   "metadata": {},
   "source": [
    "#### Question 1: All companies in Department 23 where denominationUniteLegale contains word : `boulanger`"
   ]
  },
  {
   "cell_type": "markdown",
   "id": "b54bd3e3",
   "metadata": {},
   "source": [
    "#### i. Using the low level API"
   ]
  },
  {
   "cell_type": "code",
   "execution_count": 92,
   "id": "528ce954",
   "metadata": {},
   "outputs": [
    {
     "name": "stdout",
     "output_type": "stream",
     "text": [
      "time: 474 µs (started: 2021-11-04 20:06:17 +00:00)\n"
     ]
    }
   ],
   "source": [
    "# Python dictionary object representing the Elasticsearch JSON query\n",
    "search_query = {\n",
    "    'query': {\n",
    "        'wildcard': {\n",
    "            'denominationUniteLegale': '*boulanger*'\n",
    "        }\n",
    "    }\n",
    "}"
   ]
  },
  {
   "cell_type": "code",
   "execution_count": 93,
   "id": "d1f05369",
   "metadata": {},
   "outputs": [
    {
     "data": {
      "text/plain": [
       "dict"
      ]
     },
     "execution_count": 93,
     "metadata": {},
     "output_type": "execute_result"
    },
    {
     "name": "stdout",
     "output_type": "stream",
     "text": [
      "time: 23.3 ms (started: 2021-11-04 20:06:18 +00:00)\n"
     ]
    }
   ],
   "source": [
    "question_1 = elastic_client.search(index=\"creuse_index\", body=search_query, size=10000)\n",
    "#_source=['siren']: to return only `siren` field\n",
    "type(question_1)"
   ]
  },
  {
   "cell_type": "markdown",
   "id": "ae851fa2",
   "metadata": {},
   "source": [
    "* The response is a `dict`"
   ]
  },
  {
   "cell_type": "code",
   "execution_count": 94,
   "id": "40c60846",
   "metadata": {},
   "outputs": [
    {
     "name": "stdout",
     "output_type": "stream",
     "text": [
      "There are ** 16 ** hits for your query!\n",
      "time: 1.71 ms (started: 2021-11-04 20:06:20 +00:00)\n"
     ]
    }
   ],
   "source": [
    "print(f\"There are ** {question_1['hits']['total']['value']} ** hits for your query!\")"
   ]
  },
  {
   "cell_type": "code",
   "execution_count": 95,
   "id": "b478afdc",
   "metadata": {},
   "outputs": [
    {
     "name": "stdout",
     "output_type": "stream",
     "text": [
      "[(521552075,\n",
      "  'AMICALE ANCIENS BOULANGERS ET BOULANGERS PATISSIERS DE CREUSE BOURDONNAIS '\n",
      "  'COMBRAILLES'),\n",
      " (521552075,\n",
      "  'AMICALE ANCIENS BOULANGERS ET BOULANGERS PATISSIERS DE CREUSE BOURDONNAIS '\n",
      "  'COMBRAILLES'),\n",
      " (777998741, 'SYNDICAT DES PATRONS BOULANGER'),\n",
      " (478455793, 'BOULANGERIES BG'),\n",
      " (777998741, 'SYNDICAT DES PATRONS BOULANGER'),\n",
      " (377553706, 'POUGHEON BOULANGER PATISSIER'),\n",
      " (342592813, 'BOULANGER PATISSERIE EPICERIE LE GELDON'),\n",
      " (751721689, 'BOULANGERIE ESPAGNE'),\n",
      " (483613022, 'BOULANGERIE PATISSERIE DU SOLEIL'),\n",
      " (342466984, 'BOULANGERIE PATISSERIE DEVOUEZE'),\n",
      " (499646420, 'BOULANGERIE THIOLAS - DUPONT'),\n",
      " (301466520, 'BOULANGERIE PATISSERIE DU CHATEAU'),\n",
      " (330450164, 'EXPLOIT BOULANGER PATISSER MAISON FAURY'),\n",
      " (478695034, 'SOC EQUIPEMENTS BOULANGERIE PATISSERIE'),\n",
      " (512788126, 'BOULANGERIE JUBERT'),\n",
      " (326492139, 'BOULANGERIE MIRAUX')]\n",
      "time: 6.17 ms (started: 2021-11-04 20:06:24 +00:00)\n"
     ]
    }
   ],
   "source": [
    "# print siren and name fields\n",
    "pprint([(i['_source']['siren'], i['_source']['denominationUniteLegale']) for i in question_1[\"hits\"][\"hits\"]])"
   ]
  },
  {
   "cell_type": "code",
   "execution_count": null,
   "id": "e2c8adbd",
   "metadata": {},
   "outputs": [],
   "source": [
    "# print all fields\n",
    "pprint(question_1['hits']['hits'])"
   ]
  },
  {
   "cell_type": "markdown",
   "id": "a47f7b24",
   "metadata": {},
   "source": [
    "#### ii. Using Elasticsearch DSL library"
   ]
  },
  {
   "cell_type": "code",
   "execution_count": 97,
   "id": "86476e38",
   "metadata": {},
   "outputs": [
    {
     "name": "stdout",
     "output_type": "stream",
     "text": [
      "time: 733 µs (started: 2021-11-04 20:06:51 +00:00)\n"
     ]
    }
   ],
   "source": [
    "search_1 = Search(using=elastic_client, index='creuse_index') \\\n",
    "                .query('wildcard', denominationUniteLegale='*boulanger*')\\\n",
    "                .extra(size=1000)"
   ]
  },
  {
   "cell_type": "code",
   "execution_count": 98,
   "id": "59ab4b4d",
   "metadata": {},
   "outputs": [
    {
     "name": "stdout",
     "output_type": "stream",
     "text": [
      "Total hits: 16\n",
      "\n",
      "time: 23.3 ms (started: 2021-11-04 20:06:55 +00:00)\n"
     ]
    }
   ],
   "source": [
    "question_1_dsl = search_1.execute()\n",
    "print('Total hits: {}\\n'.format(question_1_dsl['hits']['total']['value']))"
   ]
  },
  {
   "cell_type": "code",
   "execution_count": 99,
   "id": "ca501fc6",
   "metadata": {},
   "outputs": [
    {
     "data": {
      "text/plain": [
       "elasticsearch_dsl.response.Response"
      ]
     },
     "execution_count": 99,
     "metadata": {},
     "output_type": "execute_result"
    },
    {
     "name": "stdout",
     "output_type": "stream",
     "text": [
      "time: 4.06 ms (started: 2021-11-04 20:06:56 +00:00)\n"
     ]
    }
   ],
   "source": [
    "type(question_1_dsl)"
   ]
  },
  {
   "cell_type": "markdown",
   "id": "0b28d373",
   "metadata": {},
   "source": [
    "* The reponse is a `reponse object`"
   ]
  },
  {
   "cell_type": "code",
   "execution_count": 136,
   "id": "d9594d5f",
   "metadata": {},
   "outputs": [
    {
     "name": "stdout",
     "output_type": "stream",
     "text": [
      "[(521552075,\n",
      "  52155207500025,\n",
      "  'AMICALE ANCIENS BOULANGERS ET BOULANGERS PATISSIERS DE CREUSE BOURDONNAIS '\n",
      "  'COMBRAILLES'),\n",
      " (521552075,\n",
      "  52155207500017,\n",
      "  'AMICALE ANCIENS BOULANGERS ET BOULANGERS PATISSIERS DE CREUSE BOURDONNAIS '\n",
      "  'COMBRAILLES'),\n",
      " (777998741, 77799874100022, 'SYNDICAT DES PATRONS BOULANGER'),\n",
      " (478455793, 47845579302756, 'BOULANGERIES BG'),\n",
      " (777998741, 77799874100014, 'SYNDICAT DES PATRONS BOULANGER'),\n",
      " (377553706, 37755370600013, 'POUGHEON BOULANGER PATISSIER'),\n",
      " (342592813, 34259281300014, 'BOULANGER PATISSERIE EPICERIE LE GELDON'),\n",
      " (751721689, 75172168900014, 'BOULANGERIE ESPAGNE'),\n",
      " (483613022, 48361302200019, 'BOULANGERIE PATISSERIE DU SOLEIL'),\n",
      " (342466984, 34246698400016, 'BOULANGERIE PATISSERIE DEVOUEZE'),\n",
      " (499646420, 49964642000012, 'BOULANGERIE THIOLAS - DUPONT'),\n",
      " (301466520, 30146652000014, 'BOULANGERIE PATISSERIE DU CHATEAU'),\n",
      " (330450164, 33045016400018, 'EXPLOIT BOULANGER PATISSER MAISON FAURY'),\n",
      " (478695034, 47869503400031, 'SOC EQUIPEMENTS BOULANGERIE PATISSERIE'),\n",
      " (512788126, 51278812600013, 'BOULANGERIE JUBERT'),\n",
      " (326492139, 32649213900018, 'BOULANGERIE MIRAUX')]\n",
      "time: 10.1 ms (started: 2021-11-04 20:18:00 +00:00)\n"
     ]
    }
   ],
   "source": [
    "# print siren, siret and name fields\n",
    "pprint([(hit.siren, hit.siret, hit.denominationUniteLegale) for hit in question_1_dsl])"
   ]
  },
  {
   "cell_type": "code",
   "execution_count": null,
   "id": "5f6f4b20",
   "metadata": {},
   "outputs": [],
   "source": [
    "# to print all fields\n",
    "pprint ([hit._d_ for hit in question_1_dsl])"
   ]
  },
  {
   "cell_type": "markdown",
   "id": "0a76a9cd",
   "metadata": {},
   "source": [
    "#### iii. Test with Pandas to make sure the search results are correct"
   ]
  },
  {
   "cell_type": "code",
   "execution_count": 105,
   "id": "a2968ec6",
   "metadata": {},
   "outputs": [
    {
     "data": {
      "text/plain": [
       "16"
      ]
     },
     "execution_count": 105,
     "metadata": {},
     "output_type": "execute_result"
    },
    {
     "name": "stdout",
     "output_type": "stream",
     "text": [
      "time: 20 ms (started: 2021-11-04 20:08:21 +00:00)\n"
     ]
    }
   ],
   "source": [
    "companies_creuse[companies_creuse['denominationUniteLegale'].str.contains('BOULANGER')].shape[0]"
   ]
  },
  {
   "cell_type": "markdown",
   "id": "95b94001",
   "metadata": {},
   "source": [
    "* The results seem to match!"
   ]
  },
  {
   "cell_type": "markdown",
   "id": "3bbc9937",
   "metadata": {},
   "source": [
    "#### Question 2: All companies in Department 48 where activitePrincipaleEtablissement is 90.01Z"
   ]
  },
  {
   "cell_type": "code",
   "execution_count": 106,
   "id": "cfa5b9bf",
   "metadata": {},
   "outputs": [
    {
     "name": "stdout",
     "output_type": "stream",
     "text": [
      "time: 1.02 ms (started: 2021-11-04 20:08:54 +00:00)\n"
     ]
    }
   ],
   "source": [
    "# we use the `filter` context since we don't care about the score of matching documents, and it's faster than the 'query' context\n",
    "search_2 = Search(using=elastic_client, index='lozere_index') \\\n",
    "                .filter('match', activitePrincipaleEtablissement='90.01Z')\\\n",
    "                .extra(size=1000)"
   ]
  },
  {
   "cell_type": "code",
   "execution_count": 109,
   "id": "db01b7a5",
   "metadata": {},
   "outputs": [
    {
     "name": "stdout",
     "output_type": "stream",
     "text": [
      "Total hits: 167\n",
      "\n",
      "time: 970 µs (started: 2021-11-04 20:09:07 +00:00)\n"
     ]
    }
   ],
   "source": [
    "question_2 = search_2.execute()\n",
    "print('Total hits: {}\\n'.format(question_2['hits']['total']['value']))"
   ]
  },
  {
   "cell_type": "code",
   "execution_count": 130,
   "id": "6005adb5",
   "metadata": {},
   "outputs": [
    {
     "name": "stdout",
     "output_type": "stream",
     "text": [
      "[(214800617, 21480061700109, '90.01Z'),\n",
      " (390541191, 39054119100057, '90.01Z'),\n",
      " (451174023, 45117402300031, '90.01Z'),\n",
      " (443716121, 44371612100043, '90.01Z'),\n",
      " (451174023, 45117402300023, '90.01Z'),\n",
      " (498812981, 49881298100021, '90.01Z'),\n",
      " (498812981, 49881298100013, '90.01Z'),\n",
      " (430072488, 43007248800041, '90.01Z'),\n",
      " (498812981, 49881298100047, '90.01Z'),\n",
      " (451174023, 45117402300015, '90.01Z'),\n",
      " (498812981, 49881298100039, '90.01Z'),\n",
      " (443716121, 44371612100027, '90.01Z'),\n",
      " (451174023, 45117402300049, '90.01Z'),\n",
      " (443716121, 44371612100035, '90.01Z'),\n",
      " (383534815, 38353481500030, '90.01Z'),\n",
      " (200047710, 20004771000070, '90.01Z'),\n",
      " (447988569, 44798856900037, '90.01Z'),\n",
      " (522974575, 52297457500022, '90.01Z'),\n",
      " (808874671, 80887467100015, '90.01Z'),\n",
      " (418505624, 41850562400027, '90.01Z'),\n",
      " (802809830, 80280983000010, '90.01Z'),\n",
      " (535275911, 53527591100019, '90.01Z'),\n",
      " (493221006, 49322100600015, '90.01Z'),\n",
      " (798090791, 79809079100020, '90.01Z'),\n",
      " (808874671, 80887467100023, '90.01Z'),\n",
      " (400639639, 40063963900022, '90.01Z'),\n",
      " (802809830, 80280983000028, '90.01Z'),\n",
      " (433651668, 43365166800025, '90.01Z'),\n",
      " (422739029, 42273902900029, '90.01Z'),\n",
      " (533122529, 53312252900027, '90.01Z'),\n",
      " (804502714, 80450271400012, '90.01Z'),\n",
      " (522974575, 52297457500014, '90.01Z'),\n",
      " (525044939, 52504493900029, '90.01Z'),\n",
      " (804502714, 80450271400020, '90.01Z'),\n",
      " (535275911, 53527591100027, '90.01Z'),\n",
      " (818202137, 81820213700027, '90.01Z'),\n",
      " (400341012, 40034101200021, '90.01Z'),\n",
      " (818202137, 81820213700019, '90.01Z'),\n",
      " (349836882, 34983688200028, '90.01Z'),\n",
      " (200069151, 20006915100062, '90.01Z'),\n",
      " (533122529, 53312252900035, '90.01Z'),\n",
      " (493221006, 49322100600023, '90.01Z'),\n",
      " (525044939, 52504493900011, '90.01Z'),\n",
      " (433751807, 43375180700028, '90.01Z'),\n",
      " (433651668, 43365166800017, '90.01Z'),\n",
      " (400639639, 40063963900014, '90.01Z'),\n",
      " (400474599, 40047459900026, '90.01Z'),\n",
      " (447988569, 44798856900045, '90.01Z'),\n",
      " (429312267, 42931226700017, '90.01Z'),\n",
      " (434298048, 43429804800027, '90.01Z'),\n",
      " (429705957, 42970595700018, '90.01Z'),\n",
      " (397832593, 39783259300016, '90.01Z'),\n",
      " (801548884, 80154888400015, '90.01Z'),\n",
      " (418315917, 41831591700017, '90.01Z'),\n",
      " (379614654, 37961465400067, '90.01Z'),\n",
      " (520732249, 52073224900013, '90.01Z'),\n",
      " (849493275, 84949327500010, '90.01Z'),\n",
      " (879127520, 87912752000010, '90.01Z'),\n",
      " (423777853, 42377785300015, '90.01Z'),\n",
      " (402424204, 40242420400012, '90.01Z'),\n",
      " (490564002, 49056400200015, '90.01Z'),\n",
      " (899614374, 89961437400010, '90.01Z'),\n",
      " (789859212, 78985921200019, '90.01Z'),\n",
      " (481240984, 48124098400015, '90.01Z'),\n",
      " (479339079, 47933907900010, '90.01Z'),\n",
      " (808702567, 80870256700013, '90.01Z'),\n",
      " (831770375, 83177037500010, '90.01Z'),\n",
      " (535215743, 53521574300019, '90.01Z'),\n",
      " (493047310, 49304731000013, '90.01Z'),\n",
      " (853277556, 85327755600017, '90.01Z'),\n",
      " (892296153, 89229615300018, '90.01Z'),\n",
      " (813719267, 81371926700011, '90.01Z'),\n",
      " (852078070, 85207807000012, '90.01Z'),\n",
      " (881545164, 88154516400017, '90.01Z'),\n",
      " (498316348, 49831634800024, '90.01Z'),\n",
      " (843138140, 84313814000010, '90.01Z'),\n",
      " (428828784, 42882878400010, '90.01Z'),\n",
      " (821410925, 82141092500019, '90.01Z'),\n",
      " (477873756, 47787375600019, '90.01Z'),\n",
      " (423687532, 42368753200014, '90.01Z'),\n",
      " (478252901, 47825290100010, '90.01Z'),\n",
      " (445403116, 44540311600012, '90.01Z'),\n",
      " (494141021, 49414102100019, '90.01Z'),\n",
      " (515330645, 51533064500018, '90.01Z'),\n",
      " (893024349, 89302434900019, '90.01Z'),\n",
      " (799420724, 79942072400020, '90.01Z'),\n",
      " (484694153, 48469415300012, '90.01Z'),\n",
      " (400222980, 40022298000015, '90.01Z'),\n",
      " (422859496, 42285949600016, '90.01Z'),\n",
      " (888660339, 88866033900019, '90.01Z'),\n",
      " (483783189, 48378318900077, '90.01Z'),\n",
      " (848223103, 84822310300013, '90.01Z'),\n",
      " (793680398, 79368039800013, '90.01Z'),\n",
      " (501471676, 50147167600012, '90.01Z'),\n",
      " (478396682, 47839668200013, '90.01Z'),\n",
      " (818412884, 81841288400012, '90.01Z'),\n",
      " (428107502, 42810750200018, '90.01Z'),\n",
      " (888916905, 88891690500019, '90.01Z'),\n",
      " (897628699, 89762869900018, '90.01Z'),\n",
      " (402052682, 40205268200018, '90.01Z'),\n",
      " (879233690, 87923369000012, '90.01Z'),\n",
      " (802931436, 80293143600017, '90.01Z'),\n",
      " (822934949, 82293494900014, '90.01Z'),\n",
      " (407837160, 40783716000040, '90.01Z'),\n",
      " (505188565, 50518856500012, '90.01Z'),\n",
      " (347893406, 34789340600012, '90.01Z'),\n",
      " (523118552, 52311855200018, '90.01Z'),\n",
      " (844731794, 84473179400013, '90.01Z'),\n",
      " (492600762, 49260076200016, '90.01Z'),\n",
      " (812062495, 81206249500013, '90.01Z'),\n",
      " (490631645, 49063164500010, '90.01Z'),\n",
      " (807804208, 80780420800013, '90.01Z'),\n",
      " (420272833, 42027283300013, '90.01Z'),\n",
      " (512148388, 51214838800014, '90.01Z'),\n",
      " (498810639, 49881063900019, '90.01Z'),\n",
      " (792678385, 79267838500016, '90.01Z'),\n",
      " (430248005, 43024800500018, '90.01Z'),\n",
      " (509358818, 50935881800011, '90.01Z'),\n",
      " (798216131, 79821613100010, '90.01Z'),\n",
      " (413737974, 41373797400019, '90.01Z'),\n",
      " (434322111, 43432211100015, '90.01Z'),\n",
      " (510046758, 51004675800015, '90.01Z'),\n",
      " (812082188, 81208218800010, '90.01Z'),\n",
      " (449230689, 44923068900019, '90.01Z'),\n",
      " (434385472, 43438547200015, '90.01Z'),\n",
      " (478030257, 47803025700016, '90.01Z'),\n",
      " (450781158, 45078115800024, '90.01Z'),\n",
      " (509060943, 50906094300016, '90.01Z'),\n",
      " (890102395, 89010239500013, '90.01Z'),\n",
      " (484717673, 48471767300012, '90.01Z'),\n",
      " (499026755, 49902675500011, '90.01Z'),\n",
      " (808397061, 80839706100017, '90.01Z'),\n",
      " (817491764, 81749176400012, '90.01Z'),\n",
      " (789546090, 78954609000018, '90.01Z'),\n",
      " (479744096, 47974409600013, '90.01Z'),\n",
      " (832018600, 83201860000011, '90.01Z'),\n",
      " (450949680, 45094968000034, '90.01Z'),\n",
      " (813401817, 81340181700016, '90.01Z'),\n",
      " (895233211, 89523321100013, '90.01Z'),\n",
      " (842678526, 84267852600018, '90.01Z'),\n",
      " (533845566, 53384556600017, '90.01Z'),\n",
      " (841009715, 84100971500019, '90.01Z'),\n",
      " (845234897, 84523489700013, '90.01Z'),\n",
      " (813501764, 81350176400019, '90.01Z'),\n",
      " (800107203, 80010720300013, '90.01Z'),\n",
      " (487656902, 48765690200011, '90.01Z'),\n",
      " (539434720, 53943472000014, '90.01Z'),\n",
      " (510428576, 51042857600019, '90.01Z'),\n",
      " (841967565, 84196756500018, '90.01Z'),\n",
      " (897827341, 89782734100016, '90.01Z'),\n",
      " (534809843, 53480984300012, '90.01Z'),\n",
      " (492912597, 49291259700019, '90.01Z'),\n",
      " (413738337, 41373833700018, '90.01Z'),\n",
      " (482041555, 48204155500012, '90.01Z'),\n",
      " (790519003, 79051900300012, '90.01Z'),\n",
      " (412844953, 41284495300015, '90.01Z'),\n",
      " (795155225, 79515522500027, '90.01Z'),\n",
      " (493698633, 49369863300010, '90.01Z'),\n",
      " (523715118, 52371511800015, '90.01Z'),\n",
      " (499129104, 49912910400059, '90.01Z'),\n",
      " (402283014, 40228301400015, '90.01Z'),\n",
      " (398449066, 39844906600016, '90.01Z'),\n",
      " (808086235, 80808623500013, '90.01Z'),\n",
      " (828284505, 82828450500017, '90.01Z'),\n",
      " (399684364, 39968436400017, '90.01Z'),\n",
      " (432122075, 43212207500026, '90.01Z'),\n",
      " (489044131, 48904413100014, '90.01Z')]\n",
      "time: 18 ms (started: 2021-11-04 20:16:18 +00:00)\n"
     ]
    }
   ],
   "source": [
    "# print siren, siret and activity for matching companies\n",
    "pprint([(hit.siren, hit.siret, hit.activitePrincipaleEtablissement) for hit in question_2])"
   ]
  },
  {
   "cell_type": "code",
   "execution_count": null,
   "id": "fc2c2533",
   "metadata": {},
   "outputs": [],
   "source": [
    "# to print all fields\n",
    "pprint ([hit._d_ for hit in question_2])"
   ]
  },
  {
   "cell_type": "markdown",
   "id": "91615996",
   "metadata": {},
   "source": [
    "#### Question 3: All companies in Department 23 where codeCommuneEtablissement is 23079 or 23176"
   ]
  },
  {
   "cell_type": "code",
   "execution_count": 115,
   "id": "02a3e360",
   "metadata": {},
   "outputs": [
    {
     "name": "stdout",
     "output_type": "stream",
     "text": [
      "time: 813 µs (started: 2021-11-04 20:11:36 +00:00)\n"
     ]
    }
   ],
   "source": [
    "search_3 = Search(using=elastic_client, index='creuse_index') \\\n",
    "                .filter('terms', codeCommuneEtablissement=['23079','23176'])\\\n",
    "                .extra(size=2000)"
   ]
  },
  {
   "cell_type": "code",
   "execution_count": 117,
   "id": "63892ea8",
   "metadata": {},
   "outputs": [
    {
     "name": "stdout",
     "output_type": "stream",
     "text": [
      "Total hits: 1835\n",
      "\n",
      "time: 997 µs (started: 2021-11-04 20:11:46 +00:00)\n"
     ]
    }
   ],
   "source": [
    "question_3 = search_3.execute()\n",
    "print('Total hits: {}\\n'.format(question_3['hits']['total']['value']))"
   ]
  },
  {
   "cell_type": "code",
   "execution_count": 122,
   "id": "2c4273f6",
   "metadata": {},
   "outputs": [
    {
     "name": "stdout",
     "output_type": "stream",
     "text": [
      "[(356000745, 35600074505229, 23176),\n",
      " (356000745, 35600074501152, 23079),\n",
      " (356000745, 35600074507167, 23079),\n",
      " (356000745, 35600074503927, 23176),\n",
      " (356000745, 35600074507746, 23176),\n",
      " (356000745, 35600074505443, 23176),\n",
      " (356000745, 35600074502036, 23176),\n",
      " (356000745, 35600074505336, 23079),\n",
      " (356000000, 35600000001569, 23176),\n",
      " (356000000, 35600000001573, 23176),\n",
      " (356000000, 35600000001415, 23079),\n",
      " (501542021, 50154202100560, 23079),\n",
      " (552049447, 55204944746710, 23079),\n",
      " (552049447, 55204944748245, 23176),\n",
      " (552049447, 55204944747262, 23176),\n",
      " (262324700, 26232470000125, 23176),\n",
      " (262324700, 26232470000216, 23176),\n",
      " (262324700, 26232470000174, 23176),\n",
      " (262324700, 26232470000026, 23176),\n",
      " (538160656, 53816065602554, 23176),\n",
      " (527809339, 52780933901039, 23079),\n",
      " (172302119, 17230211900091, 23079),\n",
      " (172302119, 17230211900208, 23176),\n",
      " (399467505, 39946750500851, 23079),\n",
      " (399467505, 39946750501016, 23176),\n",
      " (552081317, 55208131780069, 23079),\n",
      " (445200488, 44520048802404, 23176),\n",
      " (445200488, 44520048802693, 23079),\n",
      " (552081317, 55208131707609, 23176),\n",
      " (130012644, 13001264400196, 23079),\n",
      " (130012644, 13001264400212, 23176),\n",
      " (391851557, 39185155700069, 23079),\n",
      " (391851557, 39185155700259, 23176),\n",
      " (428268023, 42826802336170, 23176),\n",
      " (380129866, 38012986624428, 23176),\n",
      " (428268023, 42826802306686, 23079),\n",
      " (380129866, 38012986620822, 23176),\n",
      " (775672272, 77567227213937, 23176),\n",
      " (775672272, 77567227215049, 23176),\n",
      " (775672272, 77567227215031, 23176),\n",
      " (775569213, 77556921300256, 23176),\n",
      " (382742013, 38274201302517, 23176),\n",
      " (382742013, 38274201302491, 23079),\n",
      " (383271798, 38327179800795, 23079),\n",
      " (383271798, 38327179800720, 23176),\n",
      " (775624075, 77562407500310, 23079),\n",
      " (775624075, 77562407501268, 23079),\n",
      " (775624075, 77562407500179, 23176),\n",
      " (775624075, 77562407501615, 23176),\n",
      " (775624075, 77562407500666, 23079),\n",
      " (775624075, 77562407500393, 23176),\n",
      " (775624075, 77562407500674, 23176),\n",
      " (775624075, 77562407501474, 23176),\n",
      " (775624075, 77562407500401, 23176),\n",
      " (775624075, 77562407501656, 23176),\n",
      " (775624075, 77562407501144, 23176),\n",
      " (775624075, 77562407500658, 23176),\n",
      " (752343665, 75234366500713, 23079),\n",
      " (552108722, 55210872212989, 23176),\n",
      " (552108722, 55210872211692, 23176),\n",
      " (552108722, 55210872203244, 23176),\n",
      " (752343665, 75234366500333, 23079),\n",
      " (552108722, 55210872212492, 23176),\n",
      " (972200018, 97220001802998, 23176),\n",
      " (841435753, 84143575301756, 23079),\n",
      " (972200018, 97220001810710, 23176),\n",
      " (398932293, 39893229301190, 23079),\n",
      " (972200018, 97220001811221, 23176),\n",
      " (410410146, 41041014600287, 23079),\n",
      " (410410534, 41041053405028, 23079),\n",
      " (172306615, 17230661500110, 23079),\n",
      " (172306615, 17230661500151, 23176),\n",
      " (172302218, 17230221800059, 23176),\n",
      " (715580221, 71558022110200, 23079),\n",
      " (775715592, 77571559202575, 23176),\n",
      " (513906065, 51390606500406, 23079),\n",
      " (212317606, 21231760600011, 23176),\n",
      " (412280737, 41228073705905, 23176),\n",
      " (212317606, 21231760600136, 23176),\n",
      " (212317606, 21231760600128, 23176),\n",
      " (212317606, 21231760600201, 23176),\n",
      " (212317606, 21231760600177, 23176),\n",
      " (212317606, 21231760600151, 23176),\n",
      " (212317606, 21231760600219, 23176),\n",
      " (212317606, 21231760600078, 23176),\n",
      " (212317606, 21231760600144, 23176),\n",
      " (212317606, 21231760600110, 23176),\n",
      " (212317606, 21231760600094, 23176),\n",
      " (212317606, 21231760600102, 23176),\n",
      " (412280737, 41228073705681, 23176),\n",
      " (212317606, 21231760600169, 23176),\n",
      " (777997982, 77799798200106, 23176),\n",
      " (172304313, 17230431300023, 23176),\n",
      " (954509741, 95450974113618, 23176),\n",
      " (777997982, 77799798200049, 23176),\n",
      " (442452256, 44245225600369, 23176),\n",
      " (444608442, 44460844202030, 23176),\n",
      " (954509741, 95450974113782, 23079),\n",
      " (378684500, 37868450000168, 23176),\n",
      " (305420457, 30542045700106, 23176),\n",
      " (317926293, 31792629300026, 23176),\n",
      " (844149781, 84414978101337, 23079),\n",
      " (317926293, 31792629300125, 23176),\n",
      " (350814489, 35081448900075, 23079),\n",
      " (350814489, 35081448900083, 23079),\n",
      " (350814489, 35081448900117, 23079),\n",
      " (350814489, 35081448900042, 23079),\n",
      " (310998414, 31099841400042, 23176),\n",
      " (350814489, 35081448900034, 23079),\n",
      " (350814489, 35081448900109, 23079),\n",
      " (434237582, 43423758200029, 23176),\n",
      " (242300135, 24230013500058, 23176),\n",
      " (480593367, 48059336700612, 23176),\n",
      " (755501590, 75550159000342, 23176),\n",
      " (242300135, 24230013500108, 23176),\n",
      " (997350194, 99735019400012, 23176),\n",
      " (434237582, 43423758200037, 23176),\n",
      " (242300135, 24230013500066, 23176),\n",
      " (997350194, 99735019400111, 23176),\n",
      " (751011222, 75101122200153, 23079),\n",
      " (242300135, 24230013500090, 23176),\n",
      " (997350194, 99735019400210, 23176),\n",
      " (242300135, 24230013500033, 23176),\n",
      " (755501590, 75550159000524, 23079),\n",
      " (434237582, 43423758200011, 23176),\n",
      " (439975640, 43997564000301, 23079),\n",
      " (755501590, 75550159001373, 23176),\n",
      " (242300135, 24230013500017, 23176),\n",
      " (242300135, 24230013500025, 23176),\n",
      " (242300135, 24230013500041, 23176),\n",
      " (242300135, 24230013500082, 23176),\n",
      " (662042449, 66204244900709, 23176),\n",
      " (262317605, 26231760500034, 23176),\n",
      " (777347386, 77734738600057, 23176),\n",
      " (262317605, 26231760500059, 23176),\n",
      " (429165780, 42916578000025, 23176),\n",
      " (423536424, 42353642400041, 23176),\n",
      " (338253081, 33825308112276, 23079),\n",
      " (262317605, 26231760500018, 23176),\n",
      " (998823504, 99882350432459, 23176),\n",
      " (262317605, 26231760500042, 23176),\n",
      " (662042449, 66204244915772, 23079),\n",
      " (777347386, 77734738600834, 23176),\n",
      " (998823504, 99882350431253, 23176),\n",
      " (180038028, 18003802818751, 23176),\n",
      " (332987411, 33298741100060, 23176),\n",
      " (429165780, 42916578000041, 23176),\n",
      " (262317605, 26231760500067, 23176),\n",
      " (262317605, 26231760500083, 23176),\n",
      " (262317605, 26231760500026, 23176),\n",
      " (519037584, 51903758404969, 23176),\n",
      " (998823504, 99882350414127, 23176),\n",
      " (417715836, 41771583600025, 23176),\n",
      " (870800299, 87080029900113, 23176),\n",
      " (870800299, 87080029902614, 23176),\n",
      " (417715836, 41771583600017, 23176),\n",
      " (552046955, 55204695504532, 23079),\n",
      " (775716673, 77571667300931, 23176),\n",
      " (417728466, 41772846600158, 23176),\n",
      " (130009657, 13000965700060, 23176),\n",
      " (440283752, 44028375206033, 23176),\n",
      " (381477009, 38147700900074, 23176),\n",
      " (381477009, 38147700900058, 23176),\n",
      " (262317621, 26231762100064, 23176),\n",
      " (130009657, 13000965700052, 23176),\n",
      " (262317621, 26231762100031, 23176),\n",
      " (381477009, 38147700900033, 23176),\n",
      " (262317621, 26231762100049, 23176),\n",
      " (413151739, 41315173907869, 23176),\n",
      " (315769232, 31576923200051, 23176),\n",
      " (321747800, 32174780000068, 23176),\n",
      " (381477009, 38147700900041, 23176),\n",
      " (417728466, 41772846600125, 23176),\n",
      " (315769232, 31576923200044, 23176),\n",
      " (315769232, 31576923200077, 23176),\n",
      " (332186428, 33218642800030, 23079),\n",
      " (429955297, 42995529702400, 23176),\n",
      " (381477009, 38147700900066, 23176),\n",
      " (262317621, 26231762100023, 23176),\n",
      " (262317621, 26231762100015, 23176),\n",
      " (300599123, 30059912305315, 23176),\n",
      " (834134199, 83413419900118, 23176),\n",
      " (262317621, 26231762100056, 23176),\n",
      " (440283752, 44028375203618, 23176),\n",
      " (317442176, 31744217602396, 23176),\n",
      " (300599123, 30059912304318, 23176),\n",
      " (403092620, 40309262001727, 23176),\n",
      " (130001688, 13000168800105, 23176),\n",
      " (377865621, 37786562100025, 23176),\n",
      " (315710962, 31571096200046, 23176),\n",
      " (212307904, 21230790400087, 23079),\n",
      " (212307904, 21230790400103, 23079),\n",
      " (440916351, 44091635101675, 23176),\n",
      " (501637953, 50163795300271, 23176),\n",
      " (440959575, 44095957500026, 23176),\n",
      " (443759154, 44375915400067, 23176),\n",
      " (200067510, 20006751000087, 23176),\n",
      " (997350137, 99735013700086, 23079),\n",
      " (340843390, 34084339000022, 23176),\n",
      " (312379266, 31237926601700, 23176),\n",
      " (212307904, 21230790400095, 23079),\n",
      " (315710962, 31571096200053, 23176),\n",
      " (315710962, 31571096200012, 23176),\n",
      " (400189635, 40018963500057, 23176),\n",
      " (404184723, 40418472300017, 23176),\n",
      " (377865621, 37786562100033, 23176),\n",
      " (443759154, 44375915400059, 23176),\n",
      " (778073577, 77807357700174, 23079),\n",
      " (480302413, 48030241300053, 23176),\n",
      " (394479034, 39447903402251, 23176),\n",
      " (200067510, 20006751000012, 23176),\n",
      " (200067510, 20006751000061, 23176),\n",
      " (315710962, 31571096200020, 23176),\n",
      " (200067510, 20006751000145, 23176),\n",
      " (494436611, 49443661100029, 23176),\n",
      " (403092620, 40309262001370, 23176),\n",
      " (400189635, 40018963500024, 23176),\n",
      " (440959575, 44095957500059, 23176),\n",
      " (377865621, 37786562100058, 23176),\n",
      " (212307904, 21230790400053, 23079),\n",
      " (400189635, 40018963500032, 23176),\n",
      " (494436611, 49443661100045, 23176),\n",
      " (778073577, 77807357700075, 23176),\n",
      " (389843236, 38984323600297, 23079),\n",
      " (319528725, 31952872500116, 23176),\n",
      " (494436611, 49443661100037, 23176),\n",
      " (377865621, 37786562100041, 23176),\n",
      " (212307904, 21230790400012, 23079),\n",
      " (778073577, 77807357700299, 23176),\n",
      " (315710962, 31571096200038, 23176),\n",
      " (775627391, 77562739103437, 23176),\n",
      " (501238414, 50123841402398, 23176),\n",
      " (402564603, 40256460300023, 23176),\n",
      " (333684124, 33368412400618, 23176),\n",
      " (400189635, 40018963500016, 23176),\n",
      " (483374054, 48337405400011, 23079),\n",
      " (414003061, 41400306100044, 23079),\n",
      " (418415170, 41841517000012, 23176),\n",
      " (415004555, 41500455500058, 23176),\n",
      " (310654181, 31065418100018, 23176),\n",
      " (778012476, 77801247600017, 23176),\n",
      " (414270314, 41427031400019, 23176),\n",
      " (378759096, 37875909600027, 23176),\n",
      " (378759096, 37875909600035, 23176),\n",
      " (778012476, 77801247600025, 23176),\n",
      " (393847199, 39384719900022, 23079),\n",
      " (997050034, 99705003400013, 23176),\n",
      " (523934057, 52393405700036, 23079),\n",
      " (415004555, 41500455500041, 23176),\n",
      " (451413181, 45141318100046, 23079),\n",
      " (481686129, 48168612900026, 23176),\n",
      " (388605032, 38860503200019, 23079),\n",
      " (443488846, 44348884600033, 23176),\n",
      " (398472928, 39847292800017, 23079),\n",
      " (409072477, 40907247700048, 23176),\n",
      " (522204643, 52220464300012, 23079),\n",
      " (523934057, 52393405700010, 23079),\n",
      " (421472119, 42147211900047, 23176),\n",
      " (778012476, 77801247600041, 23176),\n",
      " (778012476, 77801247600033, 23176),\n",
      " (414270314, 41427031400043, 23176),\n",
      " (409072477, 40907247700030, 23176),\n",
      " (522204643, 52220464300046, 23079),\n",
      " (388382855, 38838285500012, 23176),\n",
      " (409072477, 40907247700022, 23176),\n",
      " (749845020, 74984502000033, 23176),\n",
      " (521795294, 52179529400037, 23176),\n",
      " (522204643, 52220464300020, 23079),\n",
      " (777997974, 77799797400046, 23176),\n",
      " (491022448, 49102244800022, 23176),\n",
      " (523934057, 52393405700044, 23079),\n",
      " (676320039, 67632003900388, 23079),\n",
      " (414270314, 41427031400027, 23176),\n",
      " (523934057, 52393405700028, 23079),\n",
      " (491022448, 49102244800030, 23176),\n",
      " (310654181, 31065418100042, 23176),\n",
      " (415004555, 41500455500066, 23176),\n",
      " (562087791, 56208779111071, 23176),\n",
      " (521795294, 52179529400029, 23176),\n",
      " (522204643, 52220464300038, 23079),\n",
      " (339906927, 33990692700019, 23176),\n",
      " (452460926, 45246092600036, 23176),\n",
      " (200044014, 20004401400062, 23079),\n",
      " (562054510, 56205451000093, 23079),\n",
      " (807520192, 80752019200046, 23176),\n",
      " (821323490, 82132349000119, 23079),\n",
      " (422890459, 42289045900031, 23176),\n",
      " (513100842, 51310084200600, 23176),\n",
      " (444329734, 44432973401634, 23176),\n",
      " (379736176, 37973617600031, 23176),\n",
      " (411911456, 41191145600035, 23176),\n",
      " (378539845, 37853984500024, 23079),\n",
      " (351743307, 35174330700032, 23176),\n",
      " (491059622, 49105962200036, 23176),\n",
      " (433451879, 43345187900012, 23176),\n",
      " (320751936, 32075193600024, 23079),\n",
      " (378539845, 37853984500016, 23079),\n",
      " (422890459, 42289045900015, 23176),\n",
      " (399446707, 39944670700016, 23079),\n",
      " (479953192, 47995319200032, 23079),\n",
      " (495024192, 49502419200611, 23079),\n",
      " (480966209, 48096620900037, 23176),\n",
      " (802612374, 80261237400024, 23176),\n",
      " (815088026, 81508802600035, 23079),\n",
      " (497486597, 49748659700014, 23176),\n",
      " (308984897, 30898489700030, 23176),\n",
      " (329405211, 32940521100403, 23079),\n",
      " (819588310, 81958831000030, 23079),\n",
      " (778011692, 77801169200036, 23176),\n",
      " (414854216, 41485421603717, 23176),\n",
      " (379736176, 37973617600015, 23079),\n",
      " (398976415, 39897641500438, 23176),\n",
      " (815088026, 81508802600019, 23079),\n",
      " (452460926, 45246092600028, 23176),\n",
      " (401113923, 40111392300023, 23176),\n",
      " (452878259, 45287825900012, 23176),\n",
      " (411911456, 41191145600027, 23176),\n",
      " (487463358, 48746335800027, 23176),\n",
      " (778012500, 77801250000022, 23176),\n",
      " (398393199, 39839319900169, 23079),\n",
      " (479459570, 47945957003594, 23176),\n",
      " (503061160, 50306116000019, 23079),\n",
      " (778011692, 77801169200010, 23176),\n",
      " (788660967, 78866096700027, 23176),\n",
      " (312381684, 31238168400025, 23176),\n",
      " (497486597, 49748659700022, 23176),\n",
      " (312381684, 31238168400033, 23176),\n",
      " (381542885, 38154288500052, 23079),\n",
      " (482624996, 48262499600013, 23176),\n",
      " (494074552, 49407455200014, 23079),\n",
      " (422890459, 42289045900023, 23176),\n",
      " (514577675, 51457767500010, 23176),\n",
      " (778012500, 77801250000014, 23176),\n",
      " (514577675, 51457767500028, 23176),\n",
      " (381542885, 38154288500045, 23079),\n",
      " (822822037, 82282203700039, 23079),\n",
      " (532960952, 53296095200028, 23176),\n",
      " (351776372, 35177637200036, 23176),\n",
      " (513439455, 51343945500025, 23079),\n",
      " (316744150, 31674415000038, 23176),\n",
      " (509077103, 50907710300018, 23176),\n",
      " (822822037, 82282203700013, 23079),\n",
      " (494074552, 49407455200022, 23079),\n",
      " (522987379, 52298737900024, 23176),\n",
      " (497486597, 49748659700030, 23176),\n",
      " (380564526, 38056452600032, 23176),\n",
      " (452878259, 45287825900020, 23176),\n",
      " (408155737, 40815573700039, 23176),\n",
      " (510542798, 51054279800168, 23079),\n",
      " (845306125, 84530612500012, 23176),\n",
      " (308984897, 30898489700022, 23176),\n",
      " (340208057, 34020805700059, 23079),\n",
      " (380564526, 38056452600016, 23176),\n",
      " (498494558, 49849455800253, 23176),\n",
      " (452460926, 45246092600010, 23176),\n",
      " (788660967, 78866096700019, 23176),\n",
      " (494074552, 49407455200030, 23079),\n",
      " (452878259, 45287825900038, 23176),\n",
      " (401113923, 40111392300015, 23176),\n",
      " (382764033, 38276403300017, 23176),\n",
      " (751079112, 75107911200015, 23079),\n",
      " (401113923, 40111392300031, 23176),\n",
      " (398976415, 39897641500420, 23176),\n",
      " (312381684, 31238168400017, 23176),\n",
      " (311889877, 31188987701576, 23176),\n",
      " (807520192, 80752019200038, 23176),\n",
      " (802612374, 80261237400032, 23176),\n",
      " (815088026, 81508802600027, 23079),\n",
      " (380335620, 38033562000015, 23176),\n",
      " (754500551, 75450055100124, 23176),\n",
      " (433205291, 43320529100043, 23176),\n",
      " (502365505, 50236550500051, 23079),\n",
      " (480966209, 48096620900110, 23176),\n",
      " (382764033, 38276403300025, 23176),\n",
      " (778012500, 77801250000030, 23176),\n",
      " (308984897, 30898489700014, 23176),\n",
      " (814344164, 81434416400052, 23079),\n",
      " (950006916, 95000691600031, 23176),\n",
      " (398393199, 39839319900037, 23176),\n",
      " (778011692, 77801169200028, 23176),\n",
      " (380564526, 38056452600024, 23176),\n",
      " (378539845, 37853984500032, 23079),\n",
      " (487463358, 48746335800019, 23176),\n",
      " (442668612, 44266861200017, 23176),\n",
      " (408250082, 40825008200018, 23079),\n",
      " (522454792, 52245479200022, 23079),\n",
      " (435088893, 43508889300027, 23176),\n",
      " (317401081, 31740108100011, 23176),\n",
      " (532556586, 53255658600016, 23176),\n",
      " (810954842, 81095484200011, 23079),\n",
      " (431897818, 43189781800016, 23176),\n",
      " (510726342, 51072634200023, 23176),\n",
      " (389038530, 38903853000025, 23079),\n",
      " (400081469, 40008146900019, 23176),\n",
      " (439857848, 43985784800014, 23176),\n",
      " (478872096, 47887209600027, 23176),\n",
      " (429031529, 42903152900010, 23176),\n",
      " (482766847, 48276684700024, 23176),\n",
      " (480651058, 48065105800012, 23079),\n",
      " (329915292, 32991529200026, 23176),\n",
      " (320662265, 32066226500018, 23176),\n",
      " (523345270, 52334527000012, 23176),\n",
      " (399135367, 39913536700015, 23176),\n",
      " (883506446, 88350644600029, 23176),\n",
      " (428189179, 42818917900024, 23176),\n",
      " (348712142, 34871214200028, 23176),\n",
      " (478109168, 47810916800011, 23176),\n",
      " (798906822, 79890682200027, 23176),\n",
      " (510726342, 51072634200015, 23176),\n",
      " (490868759, 49086875900021, 23079),\n",
      " (384134623, 38413462300014, 23176),\n",
      " (326713757, 32671375700036, 23176),\n",
      " (252326079, 25232607900016, 23176),\n",
      " (317541233, 31754123300035, 23176),\n",
      " (477771489, 47777148900010, 23176),\n",
      " (822676896, 82267689600019, 23176),\n",
      " (327446423, 32744642300037, 23176),\n",
      " (340534700, 34053470000026, 23176),\n",
      " (393525688, 39352568800015, 23176),\n",
      " (428189351, 42818935100029, 23176),\n",
      " (314440488, 31444048800018, 23176),\n",
      " (308852300, 30885230000026, 23176),\n",
      " (343262622, 34326262215550, 23176),\n",
      " (384810115, 38481011500020, 23176),\n",
      " (777976440, 77797644000035, 23079),\n",
      " (391051356, 39105135600015, 23176),\n",
      " (419497367, 41949736700021, 23079),\n",
      " (418325452, 41832545200021, 23176),\n",
      " (492899323, 49289932300025, 23176),\n",
      " (523102622, 52310262200025, 23176),\n",
      " (450590591, 45059059100027, 23176),\n",
      " (443142179, 44314217900011, 23176),\n",
      " (415072347, 41507234700016, 23079),\n",
      " (312381577, 31238157700013, 23176),\n",
      " (480541473, 48054147300017, 23176),\n",
      " (480239870, 48023987000037, 23176),\n",
      " (801820689, 80182068900017, 23176),\n",
      " (414675173, 41467517300572, 23176),\n",
      " (818273948, 81827394800039, 23176),\n",
      " (390398055, 39039805500140, 23176),\n",
      " (451860316, 45186031600020, 23176),\n",
      " (192300192, 19230019200015, 23079),\n",
      " (408642981, 40864298100018, 23176),\n",
      " (414521591, 41452159100027, 23176),\n",
      " (378486096, 37848609600092, 23176),\n",
      " (419657101, 41965710100012, 23176),\n",
      " (808134191, 80813419100028, 23176),\n",
      " (524273364, 52427336401361, 23079),\n",
      " (411353915, 41135391500027, 23176),\n",
      " (316859263, 31685926300014, 23176),\n",
      " (528464720, 52846472000028, 23176),\n",
      " (384810115, 38481011500012, 23176),\n",
      " (348452897, 34845289700021, 23176),\n",
      " (428188270, 42818827000022, 23176),\n",
      " (449184761, 44918476100020, 23079),\n",
      " (800692105, 80069210500011, 23176),\n",
      " (810496026, 81049602600016, 23176),\n",
      " (883506446, 88350644600011, 23176),\n",
      " (353390628, 35339062800025, 23176),\n",
      " (492806641, 49280664100022, 23176),\n",
      " (192300192, 19230019200023, 23079),\n",
      " (841149883, 84114988300024, 23176),\n",
      " (499105344, 49910534400018, 23176),\n",
      " (317541217, 31754121700012, 23176),\n",
      " (778011858, 77801185800017, 23176),\n",
      " (492806641, 49280664100055, 23176),\n",
      " (849173141, 84917314100029, 23176),\n",
      " (352932578, 35293257800011, 23176),\n",
      " (778010835, 77801083500016, 23176),\n",
      " (441950763, 44195076300025, 23176),\n",
      " (500694864, 50069486400025, 23176),\n",
      " (477771489, 47777148900028, 23176),\n",
      " (498723048, 49872304800027, 23176),\n",
      " (800692105, 80069210500029, 23176),\n",
      " (312381676, 31238167600021, 23176),\n",
      " (348712142, 34871214200010, 23176),\n",
      " (182308064, 18230806400019, 23176),\n",
      " (822676896, 82267689600027, 23176),\n",
      " (449184761, 44918476100012, 23079),\n",
      " (431953389, 43195338900019, 23176),\n",
      " (793348418, 79334841800021, 23176),\n",
      " (428189179, 42818917900016, 23176),\n",
      " (312381585, 31238158500024, 23176),\n",
      " (400081469, 40008146900027, 23176),\n",
      " (312381676, 31238167600039, 23176),\n",
      " (453180192, 45318019200024, 23176),\n",
      " (800108367, 80010836700023, 23176),\n",
      " (317541217, 31754121700038, 23176),\n",
      " (252323803, 25232380300020, 23079),\n",
      " (348679473, 34867947300028, 23079),\n",
      " (482624822, 48262482200011, 23079),\n",
      " (333425692, 33342569200014, 23176),\n",
      " (810954842, 81095484200029, 23079),\n",
      " (484369954, 48436995400017, 23176),\n",
      " (810496026, 81049602600024, 23176),\n",
      " (343563409, 34356340900014, 23176),\n",
      " (430459933, 43045993300023, 23079),\n",
      " (328213988, 32821398800012, 23176),\n",
      " (813711611, 81371161100018, 23176),\n",
      " (482624822, 48262482200029, 23079),\n",
      " (420335929, 42033592900014, 23176),\n",
      " (340534700, 34053470000034, 23176),\n",
      " (402771141, 40277114100023, 23176),\n",
      " (351720420, 35172042000022, 23176),\n",
      " (428188056, 42818805600025, 23176),\n",
      " (880951629, 88095162900018, 23176),\n",
      " (539890004, 53989000400010, 23176),\n",
      " (349221218, 34922121800010, 23176),\n",
      " (428188270, 42818827000014, 23176),\n",
      " (433272911, 43327291100028, 23176),\n",
      " (312410244, 31241024400031, 23176),\n",
      " (414505651, 41450565100011, 23079),\n",
      " (441874567, 44187456700015, 23079),\n",
      " (418231338, 41823133800017, 23176),\n",
      " (512169202, 51216920200011, 23176),\n",
      " (428167308, 42816730800025, 23079),\n",
      " (800108367, 80010836700015, 23176),\n",
      " (428189278, 42818927800024, 23176),\n",
      " (393525688, 39352568800023, 23176),\n",
      " (329869192, 32986919200024, 23176),\n",
      " (442595658, 44259565800018, 23176),\n",
      " (418325452, 41832545200013, 23176),\n",
      " (352932578, 35293257800029, 23176),\n",
      " (388271686, 38827168600015, 23176),\n",
      " (478109168, 47810916800029, 23176),\n",
      " (453180192, 45318019200032, 23176),\n",
      " (499310654, 49931065400037, 23176),\n",
      " (508294287, 50829428700026, 23176),\n",
      " (428187926, 42818792600020, 23176),\n",
      " (521729103, 52172910300015, 23176),\n",
      " (500025614, 50002561400024, 23176),\n",
      " (348712209, 34871220900017, 23176),\n",
      " (492899323, 49289932300017, 23176),\n",
      " (514587310, 51458731000012, 23176),\n",
      " (429031529, 42903152900028, 23176),\n",
      " (313721755, 31372175500012, 23176),\n",
      " (306243288, 30624328802153, 23176),\n",
      " (328213988, 32821398800020, 23176),\n",
      " (348712209, 34871220900025, 23176),\n",
      " (829750363, 82975036300014, 23176),\n",
      " (414521591, 41452159100019, 23176),\n",
      " (898283247, 89828324700028, 23176),\n",
      " (539890004, 53989000400036, 23176),\n",
      " (388575961, 38857596100189, 23176),\n",
      " (302343397, 30234339700055, 23176),\n",
      " (441667912, 44166791200014, 23176),\n",
      " (882161490, 88216149000017, 23176),\n",
      " (519855142, 51985514200013, 23176),\n",
      " (450312467, 45031246700019, 23176),\n",
      " (316859263, 31685926300022, 23176),\n",
      " (408642981, 40864298100026, 23176),\n",
      " (332666353, 33266635300021, 23176),\n",
      " (404427718, 40442771800022, 23176),\n",
      " (834868705, 83486870500015, 23176),\n",
      " (818725806, 81872580600025, 23176),\n",
      " (477765648, 47776564800019, 23176),\n",
      " (313801680, 31380168000056, 23176),\n",
      " (342891454, 34289145400015, 23176),\n",
      " (801999707, 80199970700012, 23176),\n",
      " (891027211, 89102721100020, 23176),\n",
      " (801693391, 80169339100048, 23176),\n",
      " (492009501, 49200950100015, 23176),\n",
      " (428188387, 42818838700024, 23176),\n",
      " (352955702, 35295570200019, 23176),\n",
      " (391954856, 39195485600012, 23079),\n",
      " (333425692, 33342569200022, 23176),\n",
      " (822536223, 82253622300024, 23176),\n",
      " (353165830, 35316583000012, 23176),\n",
      " (882161490, 88216149000025, 23176),\n",
      " (317926285, 31792628500022, 23176),\n",
      " (441874567, 44187456700023, 23079),\n",
      " (429636467, 42963646700012, 23176),\n",
      " (431897818, 43189781800024, 23176),\n",
      " (482533866, 48253386600018, 23079),\n",
      " (484369954, 48436995400025, 23176),\n",
      " (778010835, 77801083500024, 23176),\n",
      " (522488253, 52248825300017, 23176),\n",
      " (344255468, 34425546800029, 23079),\n",
      " (348330143, 34833014300010, 23176),\n",
      " (252326053, 25232605300011, 23176),\n",
      " (384438883, 38443888301551, 23176),\n",
      " (393553268, 39355326800011, 23176),\n",
      " (453182651, 45318265100027, 23176),\n",
      " (349221218, 34922121800028, 23176),\n",
      " (996450128, 99645012800037, 23176),\n",
      " (312381767, 31238176700010, 23176),\n",
      " (804107415, 80410741500023, 23176),\n",
      " (528464720, 52846472000010, 23176),\n",
      " (489113712, 48911371200017, 23176),\n",
      " (498727932, 49872793200028, 23176),\n",
      " (537708794, 53770879400012, 23176),\n",
      " (485287759, 48528775900024, 23176),\n",
      " (505081034, 50508103400017, 23176),\n",
      " (997250147, 99725014700029, 23176),\n",
      " (834868705, 83486870500023, 23176),\n",
      " (505081034, 50508103400025, 23176),\n",
      " (842529125, 84252912500010, 23079),\n",
      " (482259702, 48225970200025, 23176),\n",
      " (418231338, 41823133800025, 23176),\n",
      " (380420687, 38042068700028, 23176),\n",
      " (326713757, 32671375700028, 23176),\n",
      " (497825489, 49782548900014, 23176),\n",
      " (898283247, 89828324700010, 23176),\n",
      " (387942626, 38794262600020, 23176),\n",
      " (317541233, 31754123300019, 23176),\n",
      " (330556929, 33055692900033, 23176),\n",
      " (503310146, 50331014600017, 23176),\n",
      " (419657101, 41965710100038, 23176),\n",
      " (882698004, 88269800400026, 23176),\n",
      " (428188601, 42818860100028, 23176),\n",
      " (480239870, 48023987000011, 23176),\n",
      " (424733558, 42473355800029, 23176),\n",
      " (451019392, 45101939200013, 23176),\n",
      " (453182651, 45318265100019, 23176),\n",
      " (319557963, 31955796300026, 23176),\n",
      " (995750155, 99575015500039, 23176),\n",
      " (483086054, 48308605400028, 23176),\n",
      " (306243288, 30624328801718, 23176),\n",
      " (419672225, 41967222500036, 23176),\n",
      " (387587124, 38758712400315, 23176),\n",
      " (442688362, 44268836200023, 23176),\n",
      " (389038530, 38903853000017, 23079),\n",
      " (320662265, 32066226500026, 23176),\n",
      " (430459933, 43045993300015, 23079),\n",
      " (252317623, 25231762300012, 23176),\n",
      " (480848514, 48084851400026, 23176),\n",
      " (412896797, 41289679700013, 23079),\n",
      " (378486096, 37848609600100, 23176),\n",
      " (891027211, 89102721100012, 23176),\n",
      " (391051356, 39105135600023, 23176),\n",
      " (395244502, 39524450200062, 23176),\n",
      " (317541225, 31754122500015, 23176),\n",
      " (824549026, 82454902600022, 23176),\n",
      " (483086054, 48308605400010, 23176),\n",
      " (485287759, 48528775900016, 23176),\n",
      " (997250147, 99725014700011, 23176),\n",
      " (351720420, 35172042000014, 23176),\n",
      " (523345270, 52334527000020, 23176),\n",
      " (828461426, 82846142600011, 23176),\n",
      " (849173141, 84917314100011, 23176),\n",
      " (492011960, 49201196000027, 23176),\n",
      " (424960466, 42496046600011, 23079),\n",
      " (331242503, 33124250300018, 23176),\n",
      " (818094484, 81809448400024, 23176),\n",
      " (498096155, 49809615500029, 23176),\n",
      " (317401099, 31740109900013, 23176),\n",
      " (314440488, 31444048800026, 23176),\n",
      " (500025614, 50002561400016, 23176),\n",
      " (423736313, 42373631300028, 23176),\n",
      " (829750363, 82975036300022, 23176),\n",
      " (319557963, 31955796300018, 23176),\n",
      " (434004198, 43400419800942, 23176),\n",
      " (353390628, 35339062800017, 23176),\n",
      " (327446423, 32744642300029, 23176),\n",
      " (424733558, 42473355800011, 23176),\n",
      " (348330143, 34833014300036, 23176),\n",
      " (324226174, 32422617400013, 23176),\n",
      " (428189278, 42818927800016, 23176),\n",
      " (430073122, 43007312200011, 23079),\n",
      " (404427718, 40442771800014, 23176),\n",
      " (380420687, 38042068700010, 23176),\n",
      " (781212956, 78121295600168, 23176),\n",
      " (828595132, 82859513200014, 23176),\n",
      " (890480940, 89048094000026, 23079),\n",
      " (428188601, 42818860100010, 23176),\n",
      " (344255468, 34425546800011, 23176),\n",
      " (428189351, 42818935100011, 23176),\n",
      " (450724695, 45072469500017, 23176),\n",
      " (442595658, 44259565800026, 23176),\n",
      " (498096155, 49809615500011, 23176),\n",
      " (507470391, 50747039100115, 23176),\n",
      " (808332670, 80833267001334, 23176),\n",
      " (412896797, 41289679700021, 23079),\n",
      " (424960466, 42496046600029, 23079),\n",
      " (487503385, 48750338500022, 23079),\n",
      " (312381585, 31238158500032, 23176),\n",
      " (312410244, 31241024400015, 23176),\n",
      " (452965098, 45296509800026, 23079),\n",
      " (813711611, 81371161100026, 23176),\n",
      " (313721755, 31372175500038, 23176),\n",
      " (420511008, 42051100800021, 23176),\n",
      " (432266617, 43226661700013, 23079),\n",
      " (418381075, 41838107500013, 23079),\n",
      " (451019392, 45101939200021, 23176),\n",
      " (317926285, 31792628500014, 23176),\n",
      " (508152386, 50815238600019, 23176),\n",
      " (334710605, 33471060500018, 23176),\n",
      " (500449194, 50044919400025, 23176),\n",
      " (424289536, 42428953600031, 23176),\n",
      " (308852300, 30885230000018, 23176),\n",
      " (391954856, 39195485600020, 23079),\n",
      " (348452897, 34845289700013, 23176),\n",
      " (317401099, 31740109900039, 23176),\n",
      " (482533866, 48253386600026, 23079),\n",
      " (397435983, 39743598300010, 23176),\n",
      " (778115824, 77811582402622, 23176),\n",
      " (182308064, 18230806400027, 23176),\n",
      " (453042459, 45304245900033, 23176),\n",
      " (825312937, 82531293700022, 23176),\n",
      " (312381577, 31238157700021, 23176),\n",
      " (317541225, 31754122500023, 23176),\n",
      " (444330781, 44433078100626, 23176),\n",
      " (353165830, 35316583000020, 23176),\n",
      " (317401081, 31740108100045, 23176),\n",
      " (818094484, 81809448400016, 23176),\n",
      " (519388870, 51938887000023, 23176),\n",
      " (818317851, 81831785100033, 23176),\n",
      " (519388870, 51938887000015, 23176),\n",
      " (441667912, 44166791200022, 23176),\n",
      " (428188387, 42818838700016, 23176),\n",
      " (441435575, 44143557500028, 23176),\n",
      " (778011858, 77801185800025, 23176),\n",
      " (482766847, 48276684700016, 23176),\n",
      " (504548637, 50454863700025, 23176),\n",
      " (504105479, 50410547900027, 23176),\n",
      " (801311127, 80131112700022, 23176),\n",
      " (428187926, 42818792600012, 23176),\n",
      " (492011960, 49201196000019, 23176),\n",
      " (817867062, 81786706200033, 23176),\n",
      " (252326053, 25232605300029, 23176),\n",
      " (538029703, 53802970300013, 23176),\n",
      " (302343397, 30234339700089, 23176),\n",
      " (818725806, 81872580600017, 23176),\n",
      " (350519484, 35051948400033, 23176),\n",
      " (428188056, 42818805600017, 23176),\n",
      " (378905111, 37890511100027, 23176),\n",
      " (497825489, 49782548900022, 23176),\n",
      " (793346172, 79334617200026, 23176),\n",
      " (352955702, 35295570200027, 23176),\n",
      " (309768927, 30976892700027, 23176),\n",
      " (494099849, 49409984900031, 23079),\n",
      " (491698619, 49169861900013, 23176),\n",
      " (538292210, 53829221000019, 23176),\n",
      " (430107128, 43010712800018, 23176),\n",
      " (831331947, 83133194700018, 23176),\n",
      " (529718041, 52971804100013, 23176),\n",
      " (799901590, 79990159000015, 23176),\n",
      " (537723942, 53772394200018, 23176),\n",
      " (791142086, 79114208600010, 23176),\n",
      " (524982881, 52498288100020, 23176),\n",
      " (800553364, 80055336400012, 23176),\n",
      " (477680508, 47768050800017, 23176),\n",
      " (808241962, 80824196200014, 23176),\n",
      " (533236691, 53323669100010, 23176),\n",
      " (819329780, 81932978000012, 23176),\n",
      " (324510809, 32451080900019, 23176),\n",
      " (311931216, 31193121600015, 23176),\n",
      " (793858515, 79385851500018, 23079),\n",
      " (798839320, 79883932000016, 23176),\n",
      " (312381759, 31238175900017, 23176),\n",
      " (522374172, 52237417200016, 23079),\n",
      " (492470760, 49247076000017, 23176),\n",
      " (493681027, 49368102700022, 23079),\n",
      " (412732976, 41273297600011, 23176),\n",
      " (309506020, 30950602000010, 23176),\n",
      " (442669529, 44266952900012, 23176),\n",
      " (799926050, 79992605000011, 23176),\n",
      " (519317622, 51931762200016, 23176),\n",
      " (433704889, 43370488900016, 23176),\n",
      " (501236129, 50123612900018, 23176),\n",
      " (524314481, 52431448100028, 23176),\n",
      " (488602236, 48860223600017, 23176),\n",
      " (412182339, 41218233900017, 23079),\n",
      " (452261688, 45226168800025, 23079),\n",
      " (808496004, 80849600400017, 23176),\n",
      " (192300176, 19230017600018, 23079),\n",
      " (534550280, 53455028000018, 23176),\n",
      " (489008300, 48900830000019, 23079),\n",
      " (337639611, 33763961100025, 23079),\n",
      " (438900698, 43890069800012, 23079),\n",
      " (429592777, 42959277700016, 23079),\n",
      " (794386839, 79438683900011, 23079),\n",
      " (442793642, 44279364200012, 23079),\n",
      " (425082559, 42508255900013, 23176),\n",
      " (793175589, 79317558900019, 23079),\n",
      " (322333857, 32233385700017, 23176),\n",
      " (493394639, 49339463900014, 23079),\n",
      " (451190334, 45119033400016, 23176),\n",
      " (753196757, 75319675700011, 23176),\n",
      " (412896854, 41289685400012, 23079),\n",
      " (835277179, 83527717900015, 23176),\n",
      " (377553706, 37755370600013, 23079),\n",
      " (503706194, 50370619400019, 23176),\n",
      " (802743138, 80274313800017, 23176),\n",
      " (428188726, 42818872600023, 23176),\n",
      " (322304254, 32230425400020, 23176),\n",
      " (316917392, 31691739200045, 23176),\n",
      " (814865168, 81486516800011, 23176),\n",
      " (429748973, 42974897300014, 23176),\n",
      " (317080216, 31708021600029, 23176),\n",
      " (777991845, 77799184500010, 23079),\n",
      " (478646987, 47864698700014, 23176),\n",
      " (778012559, 77801255900010, 23176),\n",
      " (812114221, 81211422100011, 23079),\n",
      " (489316562, 48931656200011, 23176),\n",
      " (775715550, 77571555000072, 23176),\n",
      " (449388370, 44938837000016, 23176),\n",
      " (997150156, 99715015600013, 23079),\n",
      " (880519889, 88051988900039, 23176),\n",
      " (751285974, 75128597400018, 23176),\n",
      " (834203804, 83420380400028, 23176),\n",
      " (790555502, 79055550200018, 23176),\n",
      " (349352468, 34935246800012, 23079),\n",
      " (803676923, 80367692300011, 23176),\n",
      " (402928493, 40292849300012, 23176),\n",
      " (778012542, 77801254200024, 23176),\n",
      " (449654672, 44965467200012, 23176),\n",
      " (437732084, 43773208400029, 23176),\n",
      " (449997394, 44999739400019, 23176),\n",
      " (192300325, 19230032500011, 23176),\n",
      " (829016468, 82901646800011, 23176),\n",
      " (534518659, 53451865900014, 23176),\n",
      " (409757804, 40975780400011, 23176),\n",
      " (522038314, 52203831400038, 23176),\n",
      " (400826160, 40082616000014, 23079),\n",
      " (793554817, 79355481700015, 23176),\n",
      " (853676997, 85367699700010, 23176),\n",
      " (312162092, 31216209200018, 23079),\n",
      " (793145947, 79314594700016, 23176),\n",
      " (853401156, 85340115600015, 23176),\n",
      " (397589433, 39758943300010, 23176),\n",
      " (404711400, 40471140000014, 23176),\n",
      " (788040905, 78804090500028, 23176),\n",
      " (778012385, 77801238500010, 23176),\n",
      " (408533594, 40853359400011, 23176),\n",
      " (449387919, 44938791900011, 23176),\n",
      " (880472758, 88047275800015, 23176),\n",
      " (384635827, 38463582700015, 23079),\n",
      " (850860446, 85086044600010, 23176),\n",
      " (804938157, 80493815700018, 23176),\n",
      " (533993564, 53399356400012, 23176),\n",
      " (802117960, 80211796000012, 23176),\n",
      " (488487273, 48848727300010, 23079),\n",
      " (383430097, 38343009700014, 23079),\n",
      " (330471871, 33047187100039, 23176),\n",
      " (533899209, 53389920900019, 23176),\n",
      " (848973764, 84897376400014, 23176),\n",
      " (803521996, 80352199600014, 23176),\n",
      " (430143560, 43014356000026, 23176),\n",
      " (331996892, 33199689200013, 23176),\n",
      " (341366953, 34136695300014, 23079),\n",
      " (440796530, 44079653000010, 23176),\n",
      " (501113799, 50111379900016, 23176),\n",
      " (803210194, 80321019400012, 23176),\n",
      " (750552242, 75055224200018, 23079),\n",
      " (341103281, 34110328100018, 23176),\n",
      " (317824217, 31782421700010, 23176),\n",
      " (542008990, 54200899000187, 23176),\n",
      " (478514128, 47851412800014, 23176),\n",
      " (480314061, 48031406100015, 23176),\n",
      " (835199936, 83519993600013, 23176),\n",
      " (429748783, 42974878300017, 23176),\n",
      " (405330119, 40533011900018, 23176),\n",
      " (381443225, 38144322500010, 23079),\n",
      " (447661869, 44766186900019, 23176),\n",
      " (438206245, 43820624500013, 23176),\n",
      " (778011882, 77801188200017, 23176),\n",
      " (890079619, 89007961900015, 23176),\n",
      " (399825082, 39982508200015, 23176),\n",
      " (450487293, 45048729300018, 23176),\n",
      " (996043568, 99604356800012, 23176),\n",
      " (850221409, 85022140900012, 23176),\n",
      " (384269007, 38426900700025, 23176),\n",
      " (789374279, 78937427900014, 23176),\n",
      " (528542947, 52854294700015, 23176),\n",
      " (530941954, 53094195400014, 23176),\n",
      " (750415697, 75041569700010, 23176),\n",
      " (477589105, 47758910500014, 23176),\n",
      " (453936734, 45393673400012, 23176),\n",
      " (891756967, 89175696700016, 23176),\n",
      " (812757250, 81275725000012, 23176),\n",
      " (380280156, 38028015600015, 23176),\n",
      " (439395484, 43939548400124, 23176),\n",
      " (331395079, 33139507900014, 23176),\n",
      " (434421533, 43442153300010, 23079),\n",
      " (750415648, 75041564800013, 23176),\n",
      " (477673362, 47767336200018, 23176),\n",
      " (830494043, 83049404300011, 23176),\n",
      " (312381692, 31238169200010, 23176),\n",
      " (882427073, 88242707300029, 23176),\n",
      " (334846466, 33484646600012, 23176),\n",
      " (477793749, 47779374900011, 23176),\n",
      " (818319865, 81831986500015, 23176),\n",
      " (330003435, 33000343500014, 23176),\n",
      " (414495895, 41449589500016, 23176),\n",
      " (794587840, 79458784000016, 23176),\n",
      " (788709871, 78870987100016, 23176),\n",
      " (393722533, 39372253300014, 23176),\n",
      " (851437574, 85143757400011, 23079),\n",
      " (450903166, 45090316600012, 23079),\n",
      " (996340493, 99634049300013, 23079),\n",
      " (272317603, 27231760300012, 23176),\n",
      " (353859515, 35385951500010, 23079),\n",
      " (841628936, 84162893600012, 23176),\n",
      " (402709331, 40270933100019, 23176),\n",
      " (817802713, 81780271300013, 23176),\n",
      " (491762860, 49176286000014, 23176),\n",
      " (885059899, 88505989900017, 23079),\n",
      " (488168840, 48816884000012, 23176),\n",
      " (401332796, 40133279600010, 23176),\n",
      " (822809901, 82280990100017, 23079),\n",
      " (892391343, 89239134300019, 23176),\n",
      " (445182181, 44518218100013, 23176),\n",
      " (331311142, 33131114200011, 23176),\n",
      " (771500691, 77150069100031, 23176),\n",
      " (382822104, 38282210400024, 23176),\n",
      " (799901905, 79990190500015, 23176),\n",
      " (890748254, 89074825400012, 23176),\n",
      " (423216951, 42321695100016, 23176),\n",
      " (421063439, 42106343900762, 23176),\n",
      " (552014227, 55201422700037, 23079),\n",
      " (382806446, 38280644600011, 23079),\n",
      " (443802384, 44380238400018, 23176),\n",
      " (897457214, 89745721400012, 23176),\n",
      " (891207284, 89120728400011, 23176),\n",
      " (417933876, 41793387600043, 23176),\n",
      " (389026055, 38902605500050, 23176),\n",
      " (332822527, 33282252700013, 23176),\n",
      " (347694200, 34769420000010, 23176),\n",
      " (840895106, 84089510600028, 23176),\n",
      " (513951962, 51395196200010, 23079),\n",
      " (341816064, 34181606402210, 23176),\n",
      " (350041984, 35004198400062, 23176),\n",
      " (433180171, 43318017100038, 23176),\n",
      " (341650919, 34165091900010, 23176),\n",
      " (340137322, 34013732200012, 23079),\n",
      " (348134396, 34813439600012, 23176),\n",
      " (995850203, 99585020300010, 23176),\n",
      " (327716262, 32771626200016, 23176),\n",
      " (381527910, 38152791000016, 23176),\n",
      " (399554195, 39955419500012, 23176),\n",
      " (880181276, 88018127600010, 23176),\n",
      " (519641286, 51964128600017, 23176),\n",
      " (390009223, 39000922300012, 23176),\n",
      " (390282713, 39028271300028, 23176),\n",
      " (494500705, 49450070500012, 23079),\n",
      " (488892613, 48889261300016, 23176),\n",
      " (447598913, 44759891300021, 23176),\n",
      " (819860693, 81986069300012, 23176),\n",
      " (493837025, 49383702500011, 23176),\n",
      " (995950110, 99595011000016, 23079),\n",
      " (903224350, 90322435000012, 23079),\n",
      " (419430178, 41943017800014, 23079),\n",
      " (326913670, 32691367000013, 23176),\n",
      " (818120362, 81812036200012, 23176),\n",
      " (510689961, 51068996100017, 23176),\n",
      " (292317609, 29231760900017, 23176),\n",
      " (823683933, 82368393300019, 23176),\n",
      " (398642900, 39864290000011, 23176),\n",
      " (350648911, 35064891100013, 23176),\n",
      " (510529357, 51052935700012, 23176),\n",
      " (899142517, 89914251700015, 23079),\n",
      " (837510668, 83751066800010, 23176),\n",
      " (322556614, 32255661400012, 23079),\n",
      " (338343031, 33834303100021, 23079),\n",
      " (494344179, 49434417900028, 23176),\n",
      " (808542674, 80854267400011, 23176),\n",
      " (892801994, 89280199400013, 23176),\n",
      " (442953329, 44295332900012, 23079),\n",
      " (838417368, 83841736800019, 23176),\n",
      " (518469127, 51846912700014, 23176),\n",
      " (483581468, 48358146800012, 23176),\n",
      " (721820843, 72182084300044, 23176),\n",
      " (410232573, 41023257300015, 23176),\n",
      " (449387364, 44938736400010, 23176),\n",
      " (312381700, 31238170000011, 23176),\n",
      " (889322012, 88932201200010, 23176),\n",
      " (311842918, 31184291800014, 23079),\n",
      " (997250188, 99725018800015, 23176),\n",
      " (392255923, 39225592300014, 23176),\n",
      " (800420309, 80042030900018, 23176),\n",
      " (799322433, 79932243300019, 23176),\n",
      " (893491555, 89349155500015, 23176),\n",
      " (405252537, 40525253700015, 23079),\n",
      " (995850369, 99585036900043, 23176),\n",
      " (424086247, 42408624700030, 23176),\n",
      " (833290315, 83329031500013, 23176),\n",
      " (811990357, 81199035700014, 23176),\n",
      " (519240832, 51924083200021, 23176),\n",
      " (841893662, 84189366200012, 23176),\n",
      " (890205412, 89020541200012, 23176),\n",
      " (950391581, 95039158100010, 23176),\n",
      " (452376460, 45237646000021, 23079),\n",
      " (493120646, 49312064600028, 23176),\n",
      " (351353891, 35135389100010, 23079),\n",
      " (490285392, 49028539200018, 23176),\n",
      " (301466132, 30146613200018, 23176),\n",
      " (507907426, 50790742600039, 23079),\n",
      " (530806157, 53080615700018, 23079),\n",
      " (451549869, 45154986900019, 23176),\n",
      " (778012393, 77801239300014, 23176),\n",
      " (381903194, 38190319400029, 23176),\n",
      " (750414906, 75041490600016, 23176),\n",
      " (494184567, 49418456700019, 23176),\n",
      " (800261018, 80026101800017, 23176),\n",
      " (501434567, 50143456700019, 23176),\n",
      " (394645956, 39464595600019, 23176),\n",
      " (504437963, 50443796300011, 23176),\n",
      " (503546137, 50354613700012, 23176),\n",
      " (130019060, 13001906000016, 23176),\n",
      " (778011825, 77801182500016, 23176),\n",
      " (435282892, 43528289200015, 23079),\n",
      " (995850187, 99585018700015, 23176),\n",
      " (488861303, 48886130300011, 23176),\n",
      " (352231294, 35223129400070, 23176),\n",
      " (401018130, 40101813000021, 23176),\n",
      " (839447836, 83944783600017, 23176),\n",
      " (453179442, 45317944200018, 23176),\n",
      " (392307807, 39230780700017, 23079),\n",
      " (323824656, 32382465600017, 23176),\n",
      " (450518295, 45051829500016, 23176),\n",
      " (378759633, 37875963300019, 23176),\n",
      " (304605793, 30460579300013, 23176),\n",
      " (753425669, 75342566900011, 23176),\n",
      " (849483235, 84948323500040, 23176),\n",
      " (348342981, 34834298100027, 23176),\n",
      " (317236974, 31723697400034, 23176),\n",
      " (351981402, 35198140200065, 23176),\n",
      " (811972165, 81197216500013, 23176),\n",
      " (799765425, 79976542500019, 23176),\n",
      " (520958471, 52095847100010, 23176),\n",
      " (318435328, 31843532800014, 23176),\n",
      " (529205841, 52920584100016, 23176),\n",
      " (841741119, 84174111900017, 23079),\n",
      " (439117250, 43911725000019, 23176),\n",
      " (524597903, 52459790300011, 23176),\n",
      " (750407231, 75040723100018, 23176),\n",
      " (778012419, 77801241900025, 23176),\n",
      " (439193061, 43919306100017, 23176),\n",
      " (777992256, 77799225600019, 23079),\n",
      " (328860408, 32886040800017, 23176),\n",
      " (334667870, 33466787000029, 23176),\n",
      " (409594330, 40959433000014, 23176),\n",
      " (452605355, 45260535500018, 23176),\n",
      " (799577861, 79957786100013, 23176),\n",
      " (799231303, 79923130300014, 23176),\n",
      " (349994970, 34999497000011, 23079),\n",
      " (322118373, 32211837300024, 23176),\n",
      " (530976455, 53097645500010, 23176),\n",
      " (317824241, 31782424100010, 23176),\n",
      " (350085197, 35008519700019, 23079),\n",
      " (519140123, 51914012300018, 23176),\n",
      " (444150213, 44415021300015, 23176),\n",
      " (311764997, 31176499700012, 23176),\n",
      " (292317617, 29231761700010, 23176),\n",
      " (492837935, 49283793500021, 23176),\n",
      " (490471703, 49047170300010, 23176),\n",
      " (477513501, 47751350100015, 23176),\n",
      " (317686558, 31768655800022, 23176),\n",
      " (485137665, 48513766500017, 23176),\n",
      " (850076233, 85007623300012, 23176),\n",
      " (428179378, 42817937800016, 23176),\n",
      " (505329037, 50532903700012, 23176),\n",
      " (453977803, 45397780300015, 23079),\n",
      " (995950177, 99595017700015, 23176),\n",
      " (538613233, 53861323300013, 23176),\n",
      " (429901655, 42990165500010, 23176),\n",
      " (445090889, 44509088900012, 23079),\n",
      " (838263325, 83826332500014, 23176),\n",
      " (442125860, 44212586000019, 23079),\n",
      " (428787386, 42878738600013, 23176),\n",
      " (521831438, 52183143800010, 23176),\n",
      " (477492078, 47749207800019, 23176),\n",
      " (890926462, 89092646200015, 23176),\n",
      " (778012518, 77801251800016, 23176),\n",
      " (450118153, 45011815300011, 23176),\n",
      " (894582097, 89458209700016, 23176),\n",
      " (751180472, 75118047200019, 23079),\n",
      " (454070939, 45407093900011, 23176),\n",
      " (347898355, 34789835500016, 23176),\n",
      " (511795353, 51179535300024, 23176),\n",
      " (331926642, 33192664200017, 23176),\n",
      " (448196311, 44819631100014, 23176),\n",
      " (777991761, 77799176100019, 23079),\n",
      " (899752026, 89975202600018, 23079),\n",
      " (514158237, 51415823700016, 23176),\n",
      " (509028130, 50902813000011, 23176),\n",
      " (819792789, 81979278900011, 23176),\n",
      " (407841709, 40784170900014, 23079),\n",
      " (405236043, 40523604300015, 23176),\n",
      " (750415812, 75041581200015, 23176),\n",
      " (383099009, 38309900900011, 23079),\n",
      " (531010296, 53101029600014, 23079),\n",
      " (340011261, 34001126100013, 23176),\n",
      " (882029119, 88202911900014, 23176),\n",
      " (324822519, 32482251900017, 23176),\n",
      " (306594003, 30659400300015, 23079),\n",
      " (489498618, 48949861800011, 23176),\n",
      " (831621370, 83162137000012, 23079),\n",
      " (552055733, 55205573300422, 23079),\n",
      " (400590337, 40059033700012, 23176),\n",
      " (409201928, 40920192800010, 23079),\n",
      " (494120579, 49412057900011, 23176),\n",
      " (435265327, 43526532700013, 23176),\n",
      " (307059550, 30705955000029, 23176),\n",
      " (320787369, 32078736900018, 23176),\n",
      " (413920026, 41392002600015, 23079),\n",
      " (824428890, 82442889000019, 23079),\n",
      " (801118332, 80111833200015, 23176),\n",
      " (430027631, 43002763100091, 23176),\n",
      " (878979228, 87897922800011, 23176),\n",
      " (448272930, 44827293000018, 23176),\n",
      " (348825506, 34882550600028, 23079),\n",
      " (341023307, 34102330700190, 23176),\n",
      " (408421329, 40842132900017, 23176),\n",
      " (421214560, 42121456000011, 23079),\n",
      " (409734456, 40973445600018, 23176),\n",
      " (327136941, 32713694100017, 23176),\n",
      " (508306818, 50830681800016, 23176),\n",
      " (379598790, 37959879000028, 23176),\n",
      " (522966134, 52296613400010, 23176),\n",
      " (404451445, 40445144500013, 23176),\n",
      " (892818063, 89281806300018, 23176),\n",
      " (451020325, 45102032500010, 23176),\n",
      " (192300184, 19230018400012, 23079),\n",
      " (817729593, 81772959300019, 23176),\n",
      " (411644784, 41164478400018, 23176),\n",
      " (498050921, 49805092100010, 23176),\n",
      " (502242845, 50224284500019, 23079),\n",
      " (880676598, 88067659800019, 23176),\n",
      " (397597659, 39759765900010, 23176),\n",
      " (508773215, 50877321500027, 23176),\n",
      " (480405869, 48040586900011, 23176),\n",
      " (319380010, 31938001000029, 23079),\n",
      " (439812439, 43981243900016, 23176),\n",
      " (950391532, 95039153200013, 23176),\n",
      " (750552358, 75055235800012, 23079),\n",
      " (200079671, 20007967100018, 23176),\n",
      " (834763518, 83476351800018, 23176),\n",
      " (829100650, 82910065000011, 23176),\n",
      " (493367932, 49336793200016, 23176),\n",
      " (353346901, 35334690100013, 23176),\n",
      " (411761463, 41176146300016, 23079),\n",
      " (350255519, 35025551900018, 23079),\n",
      " (950391342, 95039134200017, 23079),\n",
      " (422321406, 42232140600015, 23079),\n",
      " (491764932, 49176493200019, 23176),\n",
      " (895098689, 89509868900014, 23176),\n",
      " (450279369, 45027936900018, 23176),\n",
      " (402998413, 40299841300049, 23176),\n",
      " (408121259, 40812125900019, 23176),\n",
      " (398447987, 39844798700015, 23176),\n",
      " (405100496, 40510049600018, 23176),\n",
      " (531823722, 53182372200016, 23176),\n",
      " (432093599, 43209359900012, 23176),\n",
      " (892017377, 89201737700011, 23176),\n",
      " (315653675, 31565367500019, 23176),\n",
      " (332262294, 33226229400017, 23079),\n",
      " (790185797, 79018579700012, 23176),\n",
      " (390055259, 39005525900019, 23176),\n",
      " (500288170, 50028817000011, 23176),\n",
      " (442252961, 44225296100028, 23176),\n",
      " (887655629, 88765562900012, 23079),\n",
      " (381881747, 38188174700012, 23176),\n",
      " (492769666, 49276966600016, 23176),\n",
      " (331118083, 33111808300020, 23176),\n",
      " (418293718, 41829371800015, 23079),\n",
      " (442772919, 44277291900027, 23079),\n",
      " (950391433, 95039143300014, 23176),\n",
      " (505370742, 50537074200015, 23176),\n",
      " (497769315, 49776931500027, 23176),\n",
      " (329220172, 32922017200012, 23176),\n",
      " (477498372, 47749837200010, 23176),\n",
      " (272317611, 27231761100015, 23176),\n",
      " (449323526, 44932352600011, 23176),\n",
      " (503818403, 50381840300027, 23079),\n",
      " (439420829, 43942082900012, 23176),\n",
      " (480179712, 48017971200033, 23176),\n",
      " (829557552, 82955755200017, 23176),\n",
      " (424842763, 42484276300015, 23176),\n",
      " (453864977, 45386497700013, 23176),\n",
      " (392400347, 39240034700010, 23079),\n",
      " (793886813, 79388681300013, 23176),\n",
      " (402532048, 40253204800012, 23176),\n",
      " (778012492, 77801249200014, 23176),\n",
      " (520826868, 52082686800017, 23176),\n",
      " (504964131, 50496413100016, 23176),\n",
      " (441083417, 44108341700010, 23176),\n",
      " (838765568, 83876556800020, 23176),\n",
      " (799932553, 79993255300016, 23079),\n",
      " (817810245, 81781024500024, 23079),\n",
      " (532347929, 53234792900012, 23079),\n",
      " (322968934, 32296893400016, 23176),\n",
      " (799491568, 79949156800017, 23176),\n",
      " (421258369, 42125836900014, 23176),\n",
      " (751045212, 75104521200014, 23176),\n",
      " (417946720, 41794672000014, 23176),\n",
      " (410146054, 41014605400011, 23176),\n",
      " (531916823, 53191682300010, 23176),\n",
      " (802682005, 80268200500029, 23079),\n",
      " (332494137, 33249413700018, 23176),\n",
      " (818012148, 81801214800016, 23176),\n",
      " (378260152, 37826015200012, 23079),\n",
      " (383179264, 38317926400015, 23079),\n",
      " (799879861, 79987986100018, 23176),\n",
      " (351366869, 35136686900011, 23176),\n",
      " (888760659, 88876065900019, 23176),\n",
      " (252307905, 25230790500015, 23079),\n",
      " (504813130, 50481313000011, 23176),\n",
      " (428189617, 42818961700015, 23176),\n",
      " (188719009, 18871900900170, 23079),\n",
      " (510690084, 51069008400015, 23079),\n",
      " (538393323, 53839332300018, 23176),\n",
      " (522939867, 52293986700019, 23176),\n",
      " (313742827, 31374282700014, 23176),\n",
      " (778012526, 77801252600019, 23176),\n",
      " (883208852, 88320885200011, 23176),\n",
      " (479660029, 47966002900014, 23176),\n",
      " (348437393, 34843739300013, 23176),\n",
      " (499324739, 49932473900014, 23079),\n",
      " (412158818, 41215881800010, 23176),\n",
      " (814033577, 81403357700010, 23079),\n",
      " (348289927, 34828992700470, 23176),\n",
      " (252317649, 25231764900017, 23176),\n",
      " (384755245, 38475524500014, 23176),\n",
      " (483916607, 48391660700011, 23079),\n",
      " (450516802, 45051680200011, 23176),\n",
      " (450562855, 45056285500012, 23079),\n",
      " (884590597, 88459059700016, 23079),\n",
      " (805246980, 80524698000017, 23176),\n",
      " (315312694, 31531269400013, 23176),\n",
      " (838548436, 83854843600016, 23176),\n",
      " (382108322, 38210832200019, 23176),\n",
      " (404866998, 40486699800010, 23176),\n",
      " (892652678, 89265267800012, 23176),\n",
      " (418107454, 41810745400013, 23176),\n",
      " (317642171, 31764217100019, 23176),\n",
      " (832755524, 83275552400028, 23176),\n",
      " (385310693, 38531069300010, 23176),\n",
      " (514312487, 51431248700036, 23176),\n",
      " (347976466, 34797646600024, 23176),\n",
      " (418329132, 41832913200017, 23176),\n",
      " (798753976, 79875397600017, 23176),\n",
      " (378379697, 37837969700014, 23176),\n",
      " (452654726, 45265472600010, 23176),\n",
      " (408630093, 40863009300016, 23176),\n",
      " (452528573, 45252857300010, 23176),\n",
      " (513382366, 51338236600013, 23176),\n",
      " (423954288, 42395428800019, 23079),\n",
      " (351241567, 35124156700020, 23176),\n",
      " (789270295, 78927029500015, 23176),\n",
      " (804966976, 80496697600016, 23176),\n",
      " (996250122, 99625012200016, 23176),\n",
      " (530264191, 53026419100012, 23176),\n",
      " (338647134, 33864713400018, 23176),\n",
      " (378201248, 37820124800010, 23176),\n",
      " (901964544, 90196454400018, 23176),\n",
      " (483900171, 48390017100016, 23176),\n",
      " (853155760, 85315576000012, 23176),\n",
      " (850141862, 85014186200019, 23176),\n",
      " (996850111, 99685011100013, 23176),\n",
      " (810009977, 81000997700010, 23176),\n",
      " (844510149, 84451014900017, 23079),\n",
      " (482069986, 48206998600016, 23176),\n",
      " (477835631, 47783563100029, 23176),\n",
      " (414831685, 41483168500022, 23176),\n",
      " (192300259, 19230025900012, 23176),\n",
      " (827875170, 82787517000017, 23176),\n",
      " (352142269, 35214226900021, 23176),\n",
      " (403370802, 40337080200015, 23176),\n",
      " (532441987, 53244198700015, 23176),\n",
      " (811081017, 81108101700014, 23176),\n",
      " (817524408, 81752440800017, 23079),\n",
      " (420877938, 42087793800019, 23176),\n",
      " (824979835, 82497983500017, 23079),\n",
      " (754037182, 75403718200013, 23079),\n",
      " (529331076, 52933107600016, 23079),\n",
      " (452628654, 45262865400017, 23176),\n",
      " (328213970, 32821397000010, 23176),\n",
      " (314593526, 31459352600010, 23176),\n",
      " (448058412, 44805841200017, 23176),\n",
      " (802494211, 80249421100013, 23176),\n",
      " (529996761, 52999676100019, 23176),\n",
      " (321548554, 32154855400013, 23176),\n",
      " (453647067, 45364706700017, 23176),\n",
      " (331260117, 33126011700014, 23176),\n",
      " (900807710, 90080771000018, 23176),\n",
      " (848533824, 84853382400019, 23079),\n",
      " (505260315, 50526031500013, 23079),\n",
      " (500321393, 50032139300018, 23176),\n",
      " (449872258, 44987225800016, 23079),\n",
      " (301466520, 30146652000014, 23079),\n",
      " (851728535, 85172853500010, 23176),\n",
      " (799491998, 79949199800016, 23079),\n",
      " (500170527, 50017052700013, 23176),\n",
      " (315431726, 31543172600019, 23176),\n",
      " (889372801, 88937280100015, 23176),\n",
      " (802352567, 80235256700019, 23079),\n",
      " (423782630, 42378263000010, 23176),\n",
      " (799925433, 79992543300010, 23176),\n",
      " (802249367, 80224936700011, 23176),\n",
      " (820779106, 82077910600013, 23176),\n",
      " (658200993, 65820099300074, 23176),\n",
      " (811102821, 81110282100014, 23176),\n",
      " (327611489, 32761148900029, 23176),\n",
      " (885133249, 88513324900015, 23079),\n",
      " (809827850, 80982785000011, 23176),\n",
      " (797981131, 79798113100015, 23176),\n",
      " (479226664, 47922666400015, 23176),\n",
      " (421795576, 42179557600014, 23176),\n",
      " (813887619, 81388761900019, 23176),\n",
      " (517838074, 51783807400014, 23079),\n",
      " (385329248, 38532924800020, 23176),\n",
      " (752538389, 75253838900012, 23176),\n",
      " (343240610, 34324061000067, 23079),\n",
      " (500914387, 50091438700013, 23176),\n",
      " (449658988, 44965898800018, 23176),\n",
      " (828380212, 82838021200013, 23176),\n",
      " (450632203, 45063220300011, 23176),\n",
      " (893102681, 89310268100010, 23176),\n",
      " (431409382, 43140938200014, 23079),\n",
      " (309645406, 30964540600013, 23176),\n",
      " (834816571, 83481657100014, 23176),\n",
      " (428188171, 42818817100014, 23176),\n",
      " (822256384, 82225638400014, 23176),\n",
      " (334795002, 33479500200024, 23176),\n",
      " (411795065, 41179506500019, 23176),\n",
      " (409734522, 40973452200017, 23176),\n",
      " (502935034, 50293503400012, 23176),\n",
      " (799806963, 79980696300010, 23176),\n",
      " (853085967, 85308596700018, 23176),\n",
      " (497951814, 49795181400050, 23176),\n",
      " (790470736, 79047073600014, 23176),\n",
      " (423247931, 42324793100011, 23079),\n",
      " (309990570, 30999057000025, 23176),\n",
      " (798323960, 79832396000012, 23079),\n",
      " (878877430, 87887743000016, 23176),\n",
      " (481379477, 48137947700013, 23176),\n",
      " (388330102, 38833010200038, 23079),\n",
      " (385348644, 38534864400019, 23176),\n",
      " (408365005, 40836500500011, 23176),\n",
      " (399550110, 39955011000015, 23176),\n",
      " (778012401, 77801240100015, 23176),\n",
      " (513750026, 51375002600025, 23176),\n",
      " (380754580, 38075458000013, 23176),\n",
      " (902175751, 90217575100012, 23079),\n",
      " (315321463, 31532146300012, 23176),\n",
      " (761500602, 76150060200021, 23176),\n",
      " (505012070, 50501207000015, 23079),\n",
      " (753220557, 75322055700015, 23079),\n",
      " (418145207, 41814520700019, 23176),\n",
      " (501116941, 50111694100011, 23079),\n",
      " (493394407, 49339440700016, 23176),\n",
      " (996250155, 99625015500016, 23176),\n",
      " (429179450, 42917945000011, 23176),\n",
      " (306667122, 30666712200015, 23176),\n",
      " (509974507, 50997450700014, 23176),\n",
      " (489249003, 48924900300018, 23079),\n",
      " (410249007, 41024900700015, 23176),\n",
      " (402773758, 40277375800022, 23176),\n",
      " (494226764, 49422676400012, 23176),\n",
      " (997150206, 99715020600024, 23176),\n",
      " (751283003, 75128300300018, 23176),\n",
      " (411860091, 41186009100015, 23079),\n",
      " (434643524, 43464352400011, 23176),\n",
      " (532797768, 53279776800019, 23176),\n",
      " (810062224, 81006222400011, 23176),\n",
      " (788241826, 78824182600031, 23079),\n",
      " (378878342, 37887834200047, 23176),\n",
      " (388556573, 38855657300011, 23176),\n",
      " (317541266, 31754126600019, 23176),\n",
      " (348329905, 34832990500015, 23176),\n",
      " (479393431, 47939343100032, 23176),\n",
      " (813677598, 81367759800019, 23176),\n",
      " (529717894, 52971789400016, 23176),\n",
      " (447476607, 44747660700018, 23176),\n",
      " (337656896, 33765689600012, 23176),\n",
      " (316432210, 31643221000011, 23176),\n",
      " (390836484, 39083648400027, 23176),\n",
      " (811000017, 81100001700012, 23176),\n",
      " (490869062, 49086906200011, 23176),\n",
      " (848893772, 84889377200014, 23079),\n",
      " (349891564, 34989156400016, 23176),\n",
      " (840996698, 84099669800014, 23079),\n",
      " (452656465, 45265646500013, 23176),\n",
      " (997350012, 99735001200024, 23079),\n",
      " (898900063, 89890006300014, 23176),\n",
      " (532922150, 53292215000141, 23176),\n",
      " (450269402, 45026940200027, 23176),\n",
      " (804578524, 80457852400014, 23176),\n",
      " (348588997, 34858899700042, 23079),\n",
      " (391064789, 39106478900012, 23176),\n",
      " (443811427, 44381142700014, 23176),\n",
      " (448213264, 44821326400014, 23176),\n",
      " (821192986, 82119298600015, 23176),\n",
      " (492957782, 49295778200013, 23176),\n",
      " (415301977, 41530197700013, 23176),\n",
      " (483987012, 48398701200018, 23176),\n",
      " (326142577, 32614257700013, 23176),\n",
      " (424073971, 42407397100014, 23079),\n",
      " (528953813, 52895381300011, 23079),\n",
      " (401812078, 40181207800012, 23176),\n",
      " (995850229, 99585022900015, 23176),\n",
      " (325719300, 32571930000015, 23176),\n",
      " (845219807, 84521980700011, 23079),\n",
      " (440366938, 44036693800015, 23176),\n",
      " (525374906, 52537490600010, 23176),\n",
      " (851824227, 85182422700017, 23176),\n",
      " (533921896, 53392189600015, 23079),\n",
      " (422320010, 42232001000016, 23079),\n",
      " (393331251, 39333125100016, 23176),\n",
      " (532833209, 53283320900010, 23176),\n",
      " (393917588, 39391758800021, 23176),\n",
      " (385020458, 38502045800019, 23079),\n",
      " (514061027, 51406102700017, 23176),\n",
      " (331395087, 33139508700017, 23176),\n",
      " (404056285, 40405628500012, 23079),\n",
      " (501837116, 50183711600018, 23176),\n",
      " (804799906, 80479990600016, 23176),\n",
      " (778012286, 77801228600010, 23176),\n",
      " (419887997, 41988799700015, 23079),\n",
      " (326055274, 32605527400012, 23079),\n",
      " (803775444, 80377544400018, 23176),\n",
      " (447870817, 44787081700015, 23176),\n",
      " (432316602, 43231660200015, 23176),\n",
      " (449621770, 44962177000014, 23176),\n",
      " (308210582, 30821058200026, 23176),\n",
      " (316767888, 31676788800027, 23176),\n",
      " (317401115, 31740111500017, 23176),\n",
      " (750923765, 75092376500010, 23079),\n",
      " (401807110, 40180711000010, 23176),\n",
      " (888409117, 88840911700015, 23176),\n",
      " (802744169, 80274416900011, 23176),\n",
      " (491344834, 49134483400016, 23176),\n",
      " (306310657, 30631065700011, 23176),\n",
      " (339950016, 33995001600032, 23176),\n",
      " (831305081, 83130508100018, 23176),\n",
      " (463500116, 46350011600132, 23176),\n",
      " (409562329, 40956232900014, 23176),\n",
      " (492709076, 49270907600011, 23176),\n",
      " (437839343, 43783934300013, 23079),\n",
      " (384137667, 38413766700018, 23176),\n",
      " (448645689, 44864568900010, 23176),\n",
      " (481464220, 48146422000013, 23079),\n",
      " (498976273, 49897627300017, 23176),\n",
      " (444871743, 44487174300019, 23176),\n",
      " (394461487, 39446148700016, 23176),\n",
      " (332263268, 33226326800010, 23176),\n",
      " (339958829, 33995882900014, 23079),\n",
      " (538149642, 53814964200018, 23176),\n",
      " (518742796, 51874279600015, 23079),\n",
      " (424937712, 42493771200018, 23079),\n",
      " (452872328, 45287232800011, 23079),\n",
      " (252317631, 25231763100015, 23176),\n",
      " (414407676, 41440767600017, 23176),\n",
      " (432522357, 43252235700016, 23176),\n",
      " (877601773, 87760177300014, 23176),\n",
      " (448721480, 44872148000011, 23176),\n",
      " (402485742, 40248574200017, 23176),\n",
      " (903105534, 90310553400015, 23176),\n",
      " (477699623, 47769962300013, 23176),\n",
      " (428188940, 42818894000012, 23176),\n",
      " (321302234, 32130223400018, 23176),\n",
      " (403778095, 40377809500014, 23176),\n",
      " (897631941, 89763194100019, 23176),\n",
      " (334667862, 33466786200018, 23176),\n",
      " (996046702, 99604670200014, 23176),\n",
      " (444028369, 44402836900015, 23176),\n",
      " (316099993, 31609999300057, 23176),\n",
      " (518813043, 51881304300016, 23079),\n",
      " (853784734, 85378473400016, 23176),\n",
      " (403346893, 40334689300015, 23176),\n",
      " (790101257, 79010125700018, 23176),\n",
      " (901021873, 90102187300012, 23176),\n",
      " (424683449, 42468344900013, 23176),\n",
      " (510911712, 51091171200014, 23176),\n",
      " (497905745, 49790574500020, 23176),\n",
      " (323970541, 32397054100013, 23176),\n",
      " (382989515, 38298951500012, 23176),\n",
      " (483163796, 48316379600012, 23176),\n",
      " (903368736, 90336873600018, 23176),\n",
      " (401602941, 40160294100015, 23079),\n",
      " (353807514, 35380751400016, 23176),\n",
      " (493507529, 49350752900011, 23176),\n",
      " (891600587, 89160058700010, 23079),\n",
      " (394902746, 39490274600012, 23176),\n",
      " (378322846, 37832284600015, 23176),\n",
      " (997150032, 99715003200016, 23176),\n",
      " (497654244, 49765424400027, 23176),\n",
      " (402087555, 40208755500023, 23079),\n",
      " (997250139, 99725013900018, 23079),\n",
      " (410175954, 41017595400016, 23079),\n",
      " (439660028, 43966002800010, 23176),\n",
      " (441003431, 44100343100018, 23079),\n",
      " (325242030, 32524203000022, 23176),\n",
      " (803772789, 80377278900019, 23176),\n",
      " (350648481, 35064848100017, 23176),\n",
      " (350751715, 35075171500011, 23176),\n",
      " (499775245, 49977524500016, 23176),\n",
      " (444125900, 44412590000019, 23176),\n",
      " (519280432, 51928043200013, 23176),\n",
      " (753467877, 75346787700019, 23176),\n",
      " (262307929, 26230792900014, 23079),\n",
      " (442703237, 44270323700010, 23176),\n",
      " (353049588, 35304958800018, 23176),\n",
      " (519321608, 51932160800019, 23176),\n",
      " (481027498, 48102749800015, 23079),\n",
      " (390110492, 39011049200019, 23176),\n",
      " (433071586, 43307158600013, 23176),\n",
      " (504813809, 50481380900010, 23176),\n",
      " (448835769, 44883576900010, 23079),\n",
      " (803586692, 80358669200011, 23176),\n",
      " (434783569, 43478356900016, 23176),\n",
      " (397664624, 39766462400012, 23176),\n",
      " (314492349, 31449234900019, 23176),\n",
      " (777992264, 77799226400039, 23079),\n",
      " (351435201, 35143520100014, 23079),\n",
      " (820590776, 82059077600010, 23176),\n",
      " (424683167, 42468316700011, 23079),\n",
      " (524222015, 52422201500017, 23176),\n",
      " (789519071, 78951907100011, 23079),\n",
      " (272307919, 27230791900014, 23079),\n",
      " (751015348, 75101534800012, 23079),\n",
      " (480000868, 48000086800012, 23176),\n",
      " (389191537, 38919153700015, 23176),\n",
      " (829106806, 82910680600013, 23079),\n",
      " (393546783, 39354678300019, 23176),\n",
      " (519267561, 51926756100016, 23176),\n",
      " (421316449, 42131644900022, 23176),\n",
      " (490433125, 49043312500013, 23176),\n",
      " (834727737, 83472773700019, 23176),\n",
      " (333564573, 33356457300017, 23079),\n",
      " (351783469, 35178346900015, 23176),\n",
      " (483343349, 48334334900013, 23176),\n",
      " (448306308, 44830630800025, 23176),\n",
      " (497599548, 49759954800011, 23176),\n",
      " (803191824, 80319182400017, 23079),\n",
      " (799171947, 79917194700010, 23176),\n",
      " (411026461, 41102646100011, 23176),\n",
      " (312381742, 31238174200039, 23176),\n",
      " (996150025, 99615002500012, 23176),\n",
      " (751660366, 75166036600012, 23176),\n",
      " (777992132, 77799213200012, 23079),\n",
      " (408069144, 40806914400017, 23176),\n",
      " (272317629, 27231762900017, 23176),\n",
      " (851080424, 85108042400019, 23176),\n",
      " (438157034, 43815703400010, 23176),\n",
      " (405236274, 40523627400016, 23176),\n",
      " (306594227, 30659422700010, 23176),\n",
      " (851764639, 85176463900015, 23176),\n",
      " (262317613, 26231761300012, 23176),\n",
      " (407551266, 40755126600015, 23176),\n",
      " (997150255, 99715025500013, 23176),\n",
      " (382248169, 38224816900015, 23176),\n",
      " (424654101, 42465410100015, 23176),\n",
      " (397453887, 39745388700028, 23176),\n",
      " (778011932, 77801193200010, 23176),\n",
      " (302641956, 30264195600016, 23176),\n",
      " (400105730, 40010573000016, 23079),\n",
      " (522675982, 52267598200014, 23079),\n",
      " (312963283, 31296328300014, 23176),\n",
      " (778012484, 77801248400011, 23176),\n",
      " (438068918, 43806891800012, 23176),\n",
      " (803774041, 80377404100013, 23176),\n",
      " (482335254, 48233525400017, 23176),\n",
      " (192300002, 19230000200016, 23079),\n",
      " (477721849, 47772184900016, 23176),\n",
      " (502414600, 50241460000010, 23079),\n",
      " (381900091, 38190009100012, 23176),\n",
      " (420005589, 42000558900015, 23079),\n",
      " (801370321, 80137032100011, 23176),\n",
      " (493022768, 49302276800011, 23176),\n",
      " (802744771, 80274477100014, 23176),\n",
      " (488501545, 48850154500013, 23079),\n",
      " (387530470, 38753047000013, 23176),\n",
      " (450491782, 45049178200030, 23176),\n",
      " (432301000, 43230100000019, 23176),\n",
      " (450563895, 45056389500017, 23079),\n",
      " (450076831, 45007683100012, 23176),\n",
      " (889037693, 88903769300013, 23176),\n",
      " (479639700, 47963970000018, 23176),\n",
      " (439704438, 43970443800019, 23176),\n",
      " (890479710, 89047971000018, 23176),\n",
      " (327910022, 32791002200018, 23176),\n",
      " (581980620, 58198062000206, 23176),\n",
      " (505115964, 50511596400015, 23176),\n",
      " (518881446, 51888144600018, 23176),\n",
      " (316720671, 31672067100015, 23176),\n",
      " (450434642, 45043464200010, 23176),\n",
      " (402471536, 40247153600019, 23176),\n",
      " (530743731, 53074373100016, 23176),\n",
      " (752511808, 75251180800012, 23079),\n",
      " (509990370, 50999037000017, 23079),\n",
      " (830892618, 83089261800018, 23176),\n",
      " (412074668, 41207466800010, 23079),\n",
      " (481592350, 48159235000013, 23176),\n",
      " (783495930, 78349593000027, 23176),\n",
      " (492678321, 49267832100018, 23176),\n",
      " (777992215, 77799221500015, 23079),\n",
      " (409977790, 40997779000016, 23176),\n",
      " (504544578, 50454457800017, 23176),\n",
      " (390871515, 39087151500016, 23176),\n",
      " (818791543, 81879154300015, 23176),\n",
      " (306594235, 30659423500013, 23176),\n",
      " (313801649, 31380164900101, 23176),\n",
      " (380859819, 38085981900019, 23079),\n",
      " (751092545, 75109254500019, 23176),\n",
      " (421922196, 42192219600017, 23176),\n",
      " (997260013, 99726001300021, 23176),\n",
      " (429397755, 42939775500019, 23176),\n",
      " (400673125, 40067312500011, 23176),\n",
      " (477810147, 47781014700017, 23079),\n",
      " (418429395, 41842939500019, 23176),\n",
      " (523459535, 52345953500010, 23079),\n",
      " (317030286, 31703028600015, 23176),\n",
      " (901012146, 90101214600014, 23176),\n",
      " (817644628, 81764462800023, 23176),\n",
      " (379625585, 37962558500011, 23176),\n",
      " (829255058, 82925505800010, 23176),\n",
      " (898220108, 89822010800010, 23176),\n",
      " (422267351, 42226735100019, 23176),\n",
      " (811231505, 81123150500017, 23176),\n",
      " (879618783, 87961878300010, 23176),\n",
      " (501762421, 50176242100011, 23176),\n",
      " (888361540, 88836154000014, 23176),\n",
      " (412389298, 41238929800016, 23176),\n",
      " (791113020, 79111302000014, 23079),\n",
      " (751041476, 75104147600019, 23079),\n",
      " (435103650, 43510365000014, 23176),\n",
      " (422046078, 42204607800016, 23176),\n",
      " (792210262, 79221026200012, 23176),\n",
      " (829230192, 82923019200017, 23176),\n",
      " (448657890, 44865789000019, 23176),\n",
      " (448471805, 44847180500011, 23079),\n",
      " (843972985, 84397298500017, 23176),\n",
      " (347756041, 34775604100013, 23176),\n",
      " (381220052, 38122005200017, 23079),\n",
      " (438556524, 43855652400017, 23079),\n",
      " (893628156, 89362815600018, 23079),\n",
      " (539374884, 53937488400028, 23176),\n",
      " (844504464, 84450446400018, 23176),\n",
      " (793185877, 79318587700016, 23176),\n",
      " (518978101, 51897810100013, 23079),\n",
      " (353179492, 35317949200015, 23176),\n",
      " (340101898, 34010189800013, 23079),\n",
      " (242317618, 24231761800047, 23176),\n",
      " (300179702, 30017970200026, 23176),\n",
      " (452548613, 45254861300010, 23176),\n",
      " (510141393, 51014139300015, 23176),\n",
      " (792113789, 79211378900012, 23079),\n",
      " (507841153, 50784115300012, 23079),\n",
      " (837955798, 83795579800017, 23176),\n",
      " (325815835, 32581583500013, 23176),\n",
      " (891027799, 89102779900016, 23176),\n",
      " (803776665, 80377666500017, 23176),\n",
      " (996350062, 99635006200013, 23176),\n",
      " (811472091, 81147209100016, 23176),\n",
      " (330450172, 33045017200011, 23079),\n",
      " (883340812, 88334081200014, 23079),\n",
      " (900963620, 90096362000019, 23079),\n",
      " (901641274, 90164127400013, 23176),\n",
      " (393464714, 39346471400012, 23079),\n",
      " (307338137, 30733813700010, 23176),\n",
      " (402296305, 40229630500012, 23176),\n",
      " (439776535, 43977653500015, 23176),\n",
      " (512337536, 51233753600019, 23176),\n",
      " (315400010, 31540001000015, 23176),\n",
      " (883059354, 88305935400018, 23079),\n",
      " (400833596, 40083359600770, 23176),\n",
      " (428166854, 42816685400011, 23176),\n",
      " (453979767, 45397976700010, 23079),\n",
      " (528476021, 52847602100019, 23176),\n",
      " (528501174, 52850117400015, 23176),\n",
      " (444348403, 44434840300015, 23176),\n",
      " (531338663, 53133866300010, 23176),\n",
      " (441418126, 44141812600013, 23176),\n",
      " (262307911, 26230791100012, 23079),\n",
      " (833650492, 83365049200014, 23176),\n",
      " (495242109, 49524210900017, 23176),\n",
      " (899674006, 89967400600015, 23176),\n",
      " (379013410, 37901341000012, 23176),\n",
      " (420553372, 42055337200012, 23176),\n",
      " (319472379, 31947237900076, 23176),\n",
      " (242317600, 24231760000011, 23176),\n",
      " (453767279, 45376727900012, 23176),\n",
      " (389248261, 38924826100015, 23176),\n",
      " (389250911, 38925091100010, 23176),\n",
      " (777991530, 77799153000018, 23079),\n",
      " (312381718, 31238171800039, 23176),\n",
      " (435361431, 43536143100016, 23176),\n",
      " (401477583, 40147758300017, 23176),\n",
      " (452945082, 45294508200017, 23176),\n",
      " (488868043, 48886804300016, 23176),\n",
      " (405343203, 40534320300015, 23176),\n",
      " (491184529, 49118452900015, 23176),\n",
      " (809740376, 80974037600011, 23079),\n",
      " (915950018, 91595001800183, 23176),\n",
      " (479831190, 47983119000018, 23176),\n",
      " (452809353, 45280935300017, 23176),\n",
      " (353617293, 35361729300033, 23176),\n",
      " (530398197, 53039819700018, 23176),\n",
      " (538609256, 53860925600010, 23176),\n",
      " (323066852, 32306685200019, 23176),\n",
      " (817977028, 81797702800015, 23176),\n",
      " (572018638, 57201863800104, 23176),\n",
      " (342561834, 34256183400017, 23176),\n",
      " (840335194, 84033519400014, 23176),\n",
      " (329231872, 32923187200014, 23079),\n",
      " (315312660, 31531266000014, 23176),\n",
      " (409010022, 40901002200013, 23079),\n",
      " (453502577, 45350257700019, 23176),\n",
      " (438798860, 43879886000013, 23176),\n",
      " (393959374, 39395937400017, 23176),\n",
      " (451958698, 45195869800016, 23079),\n",
      " (827687278, 82768727800016, 23176),\n",
      " (310679451, 31067945100016, 23176),\n",
      " (501868327, 50186832700013, 23176),\n",
      " (449158773, 44915877300019, 23176),\n",
      " (813783149, 81378314900012, 23079),\n",
      " (899444392, 89944439200018, 23176),\n",
      " (510634231, 51063423100011, 23176),\n",
      " (252300181, 25230018100010, 23079),\n",
      " (803192756, 80319275600010, 23176),\n",
      " (803771344, 80377134400014, 23176),\n",
      " (510066988, 51006698800013, 23176),\n",
      " (799068275, 79906827500012, 23176),\n",
      " (347754111, 34775411100024, 23176),\n",
      " (442915617, 44291561700017, 23176),\n",
      " (778012039, 77801203900021, 23176),\n",
      " (789189305, 78918930500012, 23176),\n",
      " (438068439, 43806843900019, 23176),\n",
      " (502750607, 50275060700017, 23176),\n",
      " (840378103, 84037810300013, 23079),\n",
      " (419394796, 41939479600017, 23176),\n",
      " (449206481, 44920648100011, 23176),\n",
      " (815115282, 81511528200015, 23176),\n",
      " (789955929, 78995592900037, 23176),\n",
      " (752354902, 75235490200013, 23079),\n",
      " (334710464, 33471046400036, 23176),\n",
      " (443502133, 44350213300012, 23176),\n",
      " (429866098, 42986609800016, 23176),\n",
      " (893853713, 89385371300012, 23176),\n",
      " (393396726, 39339672600019, 23176),\n",
      " (449429646, 44942964600010, 23176),\n",
      " (498674928, 49867492800011, 23176),\n",
      " (842658379, 84265837900016, 23079),\n",
      " (433868130, 43386813000017, 23079),\n",
      " (380019992, 38001999200011, 23176),\n",
      " (441216157, 44121615700012, 23176),\n",
      " (453416471, 45341647100010, 23176),\n",
      " (778012278, 77801227800017, 23176),\n",
      " (421230715, 42123071500011, 23176),\n",
      " (262307903, 26230790300019, 23079),\n",
      " (482192424, 48219242400018, 23176),\n",
      " (380525154, 38052515400015, 23176),\n",
      " (850142845, 85014284500013, 23079),\n",
      " (433034899, 43303489900016, 23176),\n",
      " (434121588, 43412158800017, 23176),\n",
      " (794260281, 79426028100017, 23176),\n",
      " (527678148, 52767814800018, 23176),\n",
      " (451882831, 45188283100014, 23079),\n",
      " (443806740, 44380674000017, 23176),\n",
      " (817020472, 81702047200152, 23176),\n",
      " (849957485, 84995748500014, 23176),\n",
      " (410687107, 41068710700012, 23079),\n",
      " (480540285, 48054028500016, 23176),\n",
      " (441228343, 44122834300014, 23176),\n",
      " (388672271, 38867227100011, 23176),\n",
      " (429063456, 42906345600033, 23176),\n",
      " (448153494, 44815349400019, 23079),\n",
      " (807609714, 80760971400017, 23176),\n",
      " (995650165, 99565016500013, 23176),\n",
      " (803186709, 80318670900017, 23176),\n",
      " (509220653, 50922065300018, 23176),\n",
      " (479075871, 47907587100018, 23176),\n",
      " (407491174, 40749117400014, 23079),\n",
      " (892558982, 89255898200013, 23176),\n",
      " (332551977, 33255197700017, 23176),\n",
      " (424937613, 42493761300026, 23176),\n",
      " (803383926, 80338392600018, 23079),\n",
      " (382012227, 38201222700015, 23176),\n",
      " (403559677, 40355967700014, 23176),\n",
      " (383758307, 38375830700011, 23079),\n",
      " (790324958, 79032495800012, 23176),\n",
      " (777992272, 77799227200016, 23079),\n",
      " (793146036, 79314603600017, 23176),\n",
      " (418322822, 41832282200010, 23079),\n",
      " (451003115, 45100311500016, 23176),\n",
      " (997947429, 99794742900012, 23079),\n",
      " (328139225, 32813922500010, 23079),\n",
      " (834610826, 83461082600010, 23079),\n",
      " (443106901, 44310690100038, 23176),\n",
      " (821922846, 82192284600034, 23176),\n",
      " (272307901, 27230790100012, 23079),\n",
      " (437520828, 43752082800017, 23079),\n",
      " (898216445, 89821644500012, 23176),\n",
      " (778012351, 77801235100012, 23176),\n",
      " (353925456, 35392545600017, 23176),\n",
      " (252317615, 25231761500018, 23176),\n",
      " (422910893, 42291089300011, 23176),\n",
      " (410341531, 41034153100011, 23176),\n",
      " (308984913, 30898491300019, 23176),\n",
      " (343194239, 34319423900012, 23176),\n",
      " (842683385, 84268338500012, 23176),\n",
      " (789928173, 78992817300010, 23176),\n",
      " (489826503, 48982650300018, 23176),\n",
      " (499224293, 49922429300013, 23079),\n",
      " (750415747, 75041574700013, 23176),\n",
      " (533063038, 53306303800012, 23176),\n",
      " (498447929, 49844792900015, 23176),\n",
      " (306594219, 30659421900017, 23176),\n",
      " (453663064, 45366306400013, 23079),\n",
      " (399825207, 39982520700018, 23176),\n",
      " (528371065, 52837106500012, 23176),\n",
      " (314901729, 31490172900025, 23176),\n",
      " (809460066, 80946006600016, 23176),\n",
      " (508031945, 50803194500019, 23176),\n",
      " (327154415, 32715441500019, 23176),\n",
      " (812047918, 81204791800014, 23079),\n",
      " (824368567, 82436856700015, 23176),\n",
      " (314466343, 31446634300022, 23176),\n",
      " (390080968, 39008096800014, 23176),\n",
      " (902971605, 90297160500016, 23079),\n",
      " (412358954, 41235895400011, 23079),\n",
      " (393781711, 39378171100014, 23176),\n",
      " (531661791, 53166179100016, 23176),\n",
      " (442305777, 44230577700017, 23176),\n",
      " (514462621, 51446262100012, 23176),\n",
      " (434020210, 43402021000010, 23079),\n",
      " (419100037, 41910003700011, 23079),\n",
      " (394282453, 39428245300015, 23176),\n",
      " (318134103, 31813410300015, 23176),\n",
      " (834128852, 83412885200011, 23176),\n",
      " (513322859, 51332285900010, 23176),\n",
      " (832155840, 83215584000040, 23176),\n",
      " (306594201, 30659420100015, 23176),\n",
      " (489268219, 48926821900016, 23176),\n",
      " (523664209, 52366420900013, 23176),\n",
      " (510580079, 51058007900018, 23176),\n",
      " (803382456, 80338245600017, 23176),\n",
      " (832055586, 83205558600016, 23176),\n",
      " (494818131, 49481813100018, 23176),\n",
      " (778012534, 77801253400013, 23176),\n",
      " (325694768, 32569476800020, 23176),\n",
      " (821211950, 82121195000018, 23176)]\n",
      "time: 210 ms (started: 2021-11-04 20:13:56 +00:00)\n"
     ]
    }
   ],
   "source": [
    "# list of siren, siret  and codeCommuneEtablissement numbers corresponding to the query\n",
    "pprint([(hit.siren, hit.siret, hit.codeCommuneEtablissement) for hit in question_3])"
   ]
  },
  {
   "cell_type": "code",
   "execution_count": null,
   "id": "d1a259e0",
   "metadata": {},
   "outputs": [],
   "source": [
    "# to print all fields\n",
    "for hit in question_3:\n",
    "    pprint (hit._d_)"
   ]
  },
  {
   "cell_type": "markdown",
   "id": "044955a2",
   "metadata": {},
   "source": [
    "#### Question 4: Relevant companies in Departement 48 where terms of query is Théâtre Mende (NB : Mende is the city capital of Department 48)"
   ]
  },
  {
   "cell_type": "code",
   "execution_count": 153,
   "id": "1a9808c5",
   "metadata": {},
   "outputs": [
    {
     "name": "stdout",
     "output_type": "stream",
     "text": [
      "time: 744 µs (started: 2021-11-04 20:23:57 +00:00)\n"
     ]
    }
   ],
   "source": [
    "# `Or` is the default operator for `query_string`\n",
    "search_4 = Search(using=elastic_client, index='lozere_index') \\\n",
    "                .query('query_string', query='Théâtre Mende')\\\n",
    "                .extra(size=20)"
   ]
  },
  {
   "cell_type": "markdown",
   "id": "f269b1d4",
   "metadata": {},
   "source": [
    "* 20 most relevant results based on the Term Frequency/Inverse Document Frequency (TF/IDF) model\n",
    "* If we use the `AND` operator, we get only 6 matches. The most relevant companies."
   ]
  },
  {
   "cell_type": "code",
   "execution_count": 156,
   "id": "b9b3c181",
   "metadata": {},
   "outputs": [
    {
     "name": "stdout",
     "output_type": "stream",
     "text": [
      "Total hits: 3949\n",
      "\n",
      "time: 874 µs (started: 2021-11-04 20:24:40 +00:00)\n"
     ]
    }
   ],
   "source": [
    "question_4 = search_4.execute()\n",
    "print('Total hits: {}\\n'.format(question_4['hits']['total']['value']))"
   ]
  },
  {
   "cell_type": "code",
   "execution_count": 157,
   "id": "22d05f21",
   "metadata": {},
   "outputs": [
    {
     "name": "stdout",
     "output_type": "stream",
     "text": [
      "[(10.07526, 325445260, 32544526000038, 'Rue du Théâtre 48000 Mende'),\n",
      " (9.384995, 317442176, 31744217600770, '1 Rue du Théâtre 48000 Mende'),\n",
      " (9.384995, 775627391, 77562739102199, '1 Rue du Théâtre 48000 Mende'),\n",
      " (9.384995, 775688658, 77568865800746, '1 Rue du Théâtre 48000 Mende'),\n",
      " (9.384995, 423658475, 42365847500029, '7 Rue du Théâtre 48000 Mende'),\n",
      " (9.384995, 776115263, 77611526300035, '1 Rue du Théâtre 48000 Mende'),\n",
      " (8.826167, 805263142, 80526314200020, 'Avenue du 8 Mai 1945 48000 Mende'),\n",
      " (8.826167, 805263142, 80526314200012, 'Rue de Fontanilles 48000 Mende'),\n",
      " (8.386117, 853396992, 85339699200010, 'Théâtre des Quatre Saisons Gradignan'),\n",
      " (7.0839477,\n",
      "  130005481,\n",
      "  13000548120133,\n",
      "  '44b Avenue du 11 Novembre 48000 Mende'),\n",
      " (7.0839477, 160022042, 16002204200636, '12 Avenue Maréchal Foch 48000 Mende'),\n",
      " (5.6914506,\n",
      "  130014772,\n",
      "  13001477200219,\n",
      "  '1 Boulevard Lucien Arnault 48000 Mende'),\n",
      " (5.6914506, 130014772, 13001477200250, '2 Allée Paul Doumer 48000 Mende'),\n",
      " (5.6914506, 130014772, 13001477200227, '2 Allée Paul Doumer 48000 Mende'),\n",
      " (5.6914506, 264800095, 26480009500103, 'Avenue du 8 Mai 1945 48000 Mende'),\n",
      " (5.6914506, 130001563, 13000156300159, 'Rue de la Garenne 48000 Mende'),\n",
      " (5.6914506, 350950135, 35095013500086, 'Avenue de Ramilles 48000 Mende'),\n",
      " (5.6914506, 173101205, 17310120500115, '37 Chemin de Séjalan 48000 Mende'),\n",
      " (5.6914506, 180070047, 18007004700840, '25 Avenue Maréchal Foch 48000 Mende'),\n",
      " (5.6914506, 843183567, 84318356700018, '8 Rue Saint Privat 48000 Mende')]\n",
      "time: 12.3 ms (started: 2021-11-04 20:24:43 +00:00)\n"
     ]
    }
   ],
   "source": [
    "pprint([(hit.meta.score, hit.siren, hit.siret, hit.geo_adresse) for hit in question_4])"
   ]
  },
  {
   "cell_type": "code",
   "execution_count": null,
   "id": "283df7d3",
   "metadata": {},
   "outputs": [],
   "source": [
    "# print all fields\n",
    "pprint ([hit._d_ for hit in question_4])"
   ]
  },
  {
   "cell_type": "markdown",
   "id": "6d4ce2c0",
   "metadata": {},
   "source": [
    "And voilà!"
   ]
  }
 ],
 "metadata": {
  "kernelspec": {
   "display_name": "Python 3 (ipykernel)",
   "language": "python",
   "name": "python3"
  },
  "language_info": {
   "codemirror_mode": {
    "name": "ipython",
    "version": 3
   },
   "file_extension": ".py",
   "mimetype": "text/x-python",
   "name": "python",
   "nbconvert_exporter": "python",
   "pygments_lexer": "ipython3",
   "version": "3.9.7"
  }
 },
 "nbformat": 4,
 "nbformat_minor": 5
}
