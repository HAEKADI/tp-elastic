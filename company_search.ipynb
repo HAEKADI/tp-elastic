{
 "cells": [
  {
   "cell_type": "code",
   "execution_count": 1,
   "id": "c67a2c1a",
   "metadata": {},
   "outputs": [
    {
     "name": "stdout",
     "output_type": "stream",
     "text": [
      "time: 628 µs (started: 2021-11-04 20:33:00 +00:00)\n"
     ]
    }
   ],
   "source": [
    "%load_ext autotime"
   ]
  },
  {
   "cell_type": "markdown",
   "id": "7ae91867",
   "metadata": {},
   "source": [
    "## Imports"
   ]
  },
  {
   "cell_type": "code",
   "execution_count": 2,
   "id": "8243ed22",
   "metadata": {},
   "outputs": [
    {
     "name": "stdout",
     "output_type": "stream",
     "text": [
      "time: 856 ms (started: 2021-11-04 20:33:01 +00:00)\n"
     ]
    }
   ],
   "source": [
    "# for data\n",
    "import pandas as pd\n",
    "import matplotlib.pyplot as plt\n",
    "import seaborn as sns\n",
    "\n",
    "from pprint import pprint\n",
    "import json\n",
    "\n",
    "import requests\n",
    "from requests.auth import HTTPBasicAuth\n",
    "from elasticsearch import Elasticsearch, helpers\n",
    "from elasticsearch_dsl import Search, Q"
   ]
  },
  {
   "cell_type": "code",
   "execution_count": 3,
   "id": "d36f0f0a",
   "metadata": {},
   "outputs": [
    {
     "name": "stdout",
     "output_type": "stream",
     "text": [
      "time: 507 µs (started: 2021-11-04 20:33:02 +00:00)\n"
     ]
    }
   ],
   "source": [
    "# ignore warnings\n",
    "# only for format's sake. Mainly future deprecation warnings, they have been heeded when necessary\n",
    "import warnings\n",
    "warnings.filterwarnings(\"ignore\")"
   ]
  },
  {
   "cell_type": "markdown",
   "id": "9c849858",
   "metadata": {},
   "source": [
    "## 1. EDA"
   ]
  },
  {
   "cell_type": "markdown",
   "id": "14420486",
   "metadata": {},
   "source": [
    "### a. Load data"
   ]
  },
  {
   "cell_type": "code",
   "execution_count": 4,
   "id": "b12cf17d",
   "metadata": {},
   "outputs": [
    {
     "name": "stdout",
     "output_type": "stream",
     "text": [
      "time: 135 ms (started: 2021-11-04 20:33:04 +00:00)\n"
     ]
    }
   ],
   "source": [
    "# import data into pandas dataframe\n",
    "companies_df = pd.read_csv(\"test_dataset.csv.gz\")"
   ]
  },
  {
   "cell_type": "code",
   "execution_count": 5,
   "id": "6967e1bb",
   "metadata": {},
   "outputs": [
    {
     "data": {
      "text/html": [
       "<div>\n",
       "<style scoped>\n",
       "    .dataframe tbody tr th:only-of-type {\n",
       "        vertical-align: middle;\n",
       "    }\n",
       "\n",
       "    .dataframe tbody tr th {\n",
       "        vertical-align: top;\n",
       "    }\n",
       "\n",
       "    .dataframe thead th {\n",
       "        text-align: right;\n",
       "    }\n",
       "</style>\n",
       "<table border=\"1\" class=\"dataframe\">\n",
       "  <thead>\n",
       "    <tr style=\"text-align: right;\">\n",
       "      <th></th>\n",
       "      <th>siren</th>\n",
       "      <th>siret</th>\n",
       "      <th>denominationUniteLegale</th>\n",
       "      <th>sigleUniteLegale</th>\n",
       "      <th>enseigne1Etablissement</th>\n",
       "      <th>activitePrincipaleEtablissement</th>\n",
       "      <th>geo_adresse</th>\n",
       "      <th>geo_score</th>\n",
       "      <th>categorieJuridiqueUniteLegale</th>\n",
       "      <th>codeCommuneEtablissement</th>\n",
       "      <th>dep</th>\n",
       "    </tr>\n",
       "  </thead>\n",
       "  <tbody>\n",
       "    <tr>\n",
       "      <th>0</th>\n",
       "      <td>528342587</td>\n",
       "      <td>52834258700037</td>\n",
       "      <td>SYCORAX</td>\n",
       "      <td>NaN</td>\n",
       "      <td>NaN</td>\n",
       "      <td>70.22Z</td>\n",
       "      <td>12 La Marche 23220 Mortroux</td>\n",
       "      <td>0.94</td>\n",
       "      <td>5499.0</td>\n",
       "      <td>23136</td>\n",
       "      <td>23</td>\n",
       "    </tr>\n",
       "    <tr>\n",
       "      <th>1</th>\n",
       "      <td>829106806</td>\n",
       "      <td>82910680600013</td>\n",
       "      <td>TRAD'FUSE</td>\n",
       "      <td>NaN</td>\n",
       "      <td>NaN</td>\n",
       "      <td>90.01Z</td>\n",
       "      <td>22 Rue des Mayades 23500 Felletin</td>\n",
       "      <td>0.95</td>\n",
       "      <td>9220.0</td>\n",
       "      <td>23079</td>\n",
       "      <td>23</td>\n",
       "    </tr>\n",
       "    <tr>\n",
       "      <th>2</th>\n",
       "      <td>444608442</td>\n",
       "      <td>44460844214191</td>\n",
       "      <td>ENEDIS</td>\n",
       "      <td>NaN</td>\n",
       "      <td>NaN</td>\n",
       "      <td>35.13Z</td>\n",
       "      <td>13 La Cote Ribiere 23200 Moutier-Rozeille</td>\n",
       "      <td>0.89</td>\n",
       "      <td>5699.0</td>\n",
       "      <td>23140</td>\n",
       "      <td>23</td>\n",
       "    </tr>\n",
       "  </tbody>\n",
       "</table>\n",
       "</div>"
      ],
      "text/plain": [
       "       siren           siret denominationUniteLegale sigleUniteLegale  \\\n",
       "0  528342587  52834258700037                 SYCORAX              NaN   \n",
       "1  829106806  82910680600013               TRAD'FUSE              NaN   \n",
       "2  444608442  44460844214191                  ENEDIS              NaN   \n",
       "\n",
       "  enseigne1Etablissement activitePrincipaleEtablissement  \\\n",
       "0                    NaN                          70.22Z   \n",
       "1                    NaN                          90.01Z   \n",
       "2                    NaN                          35.13Z   \n",
       "\n",
       "                                 geo_adresse  geo_score  \\\n",
       "0                12 La Marche 23220 Mortroux       0.94   \n",
       "1          22 Rue des Mayades 23500 Felletin       0.95   \n",
       "2  13 La Cote Ribiere 23200 Moutier-Rozeille       0.89   \n",
       "\n",
       "   categorieJuridiqueUniteLegale  codeCommuneEtablissement  dep  \n",
       "0                         5499.0                     23136   23  \n",
       "1                         9220.0                     23079   23  \n",
       "2                         5699.0                     23140   23  "
      ]
     },
     "execution_count": 5,
     "metadata": {},
     "output_type": "execute_result"
    },
    {
     "name": "stdout",
     "output_type": "stream",
     "text": [
      "time: 19.7 ms (started: 2021-11-04 20:33:05 +00:00)\n"
     ]
    }
   ],
   "source": [
    "companies_df.head(3)"
   ]
  },
  {
   "cell_type": "markdown",
   "id": "ebfbf6fd",
   "metadata": {},
   "source": [
    "### b. Explore and clean data"
   ]
  },
  {
   "cell_type": "code",
   "execution_count": 6,
   "id": "663e9b65",
   "metadata": {},
   "outputs": [
    {
     "data": {
      "text/plain": [
       "(42302, 11)"
      ]
     },
     "execution_count": 6,
     "metadata": {},
     "output_type": "execute_result"
    },
    {
     "name": "stdout",
     "output_type": "stream",
     "text": [
      "time: 4.21 ms (started: 2021-11-04 20:33:07 +00:00)\n"
     ]
    }
   ],
   "source": [
    "companies_df.shape"
   ]
  },
  {
   "cell_type": "code",
   "execution_count": 7,
   "id": "dc9d4688",
   "metadata": {},
   "outputs": [
    {
     "name": "stdout",
     "output_type": "stream",
     "text": [
      "<class 'pandas.core.frame.DataFrame'>\n",
      "RangeIndex: 42302 entries, 0 to 42301\n",
      "Data columns (total 11 columns):\n",
      " #   Column                           Non-Null Count  Dtype  \n",
      "---  ------                           --------------  -----  \n",
      " 0   siren                            42302 non-null  int64  \n",
      " 1   siret                            42302 non-null  int64  \n",
      " 2   denominationUniteLegale          42301 non-null  object \n",
      " 3   sigleUniteLegale                 4075 non-null   object \n",
      " 4   enseigne1Etablissement           6888 non-null   object \n",
      " 5   activitePrincipaleEtablissement  42301 non-null  object \n",
      " 6   geo_adresse                      37824 non-null  object \n",
      " 7   geo_score                        42302 non-null  float64\n",
      " 8   categorieJuridiqueUniteLegale    42301 non-null  float64\n",
      " 9   codeCommuneEtablissement         42302 non-null  int64  \n",
      " 10  dep                              42302 non-null  int64  \n",
      "dtypes: float64(2), int64(4), object(5)\n",
      "memory usage: 3.6+ MB\n",
      "time: 31.3 ms (started: 2021-11-04 20:33:08 +00:00)\n"
     ]
    }
   ],
   "source": [
    "companies_df.info()"
   ]
  },
  {
   "cell_type": "code",
   "execution_count": 8,
   "id": "d72171dd",
   "metadata": {},
   "outputs": [
    {
     "name": "stdout",
     "output_type": "stream",
     "text": [
      "time: 21.3 ms (started: 2021-11-04 20:33:10 +00:00)\n"
     ]
    }
   ],
   "source": [
    "# cast columns to object type (or category for better memory management)\n",
    "for col in ['siren', 'siret', 'codeCommuneEtablissement', 'categorieJuridiqueUniteLegale', 'dep']:\n",
    "    companies_df[col] = companies_df[col].astype('object')"
   ]
  },
  {
   "cell_type": "code",
   "execution_count": 9,
   "id": "dd0ea1c0",
   "metadata": {},
   "outputs": [
    {
     "data": {
      "text/html": [
       "<div>\n",
       "<style scoped>\n",
       "    .dataframe tbody tr th:only-of-type {\n",
       "        vertical-align: middle;\n",
       "    }\n",
       "\n",
       "    .dataframe tbody tr th {\n",
       "        vertical-align: top;\n",
       "    }\n",
       "\n",
       "    .dataframe thead th {\n",
       "        text-align: right;\n",
       "    }\n",
       "</style>\n",
       "<table border=\"1\" class=\"dataframe\">\n",
       "  <thead>\n",
       "    <tr style=\"text-align: right;\">\n",
       "      <th></th>\n",
       "      <th>siren</th>\n",
       "      <th>siret</th>\n",
       "      <th>denominationUniteLegale</th>\n",
       "      <th>sigleUniteLegale</th>\n",
       "      <th>enseigne1Etablissement</th>\n",
       "      <th>activitePrincipaleEtablissement</th>\n",
       "      <th>geo_adresse</th>\n",
       "      <th>categorieJuridiqueUniteLegale</th>\n",
       "      <th>codeCommuneEtablissement</th>\n",
       "      <th>dep</th>\n",
       "    </tr>\n",
       "  </thead>\n",
       "  <tbody>\n",
       "    <tr>\n",
       "      <th>count</th>\n",
       "      <td>42302</td>\n",
       "      <td>42302</td>\n",
       "      <td>42301</td>\n",
       "      <td>4075</td>\n",
       "      <td>6888</td>\n",
       "      <td>42301</td>\n",
       "      <td>37824</td>\n",
       "      <td>42301.0</td>\n",
       "      <td>42302</td>\n",
       "      <td>42302</td>\n",
       "    </tr>\n",
       "    <tr>\n",
       "      <th>unique</th>\n",
       "      <td>31517</td>\n",
       "      <td>42302</td>\n",
       "      <td>30235</td>\n",
       "      <td>1958</td>\n",
       "      <td>3717</td>\n",
       "      <td>1259</td>\n",
       "      <td>14484</td>\n",
       "      <td>179.0</td>\n",
       "      <td>444</td>\n",
       "      <td>2</td>\n",
       "    </tr>\n",
       "    <tr>\n",
       "      <th>top</th>\n",
       "      <td>356000745</td>\n",
       "      <td>52834258700037</td>\n",
       "      <td>LA POSTE</td>\n",
       "      <td>CACF</td>\n",
       "      <td>MAIRIE</td>\n",
       "      <td>68.20B</td>\n",
       "      <td>Hôtel de Ville Lille</td>\n",
       "      <td>5499.0</td>\n",
       "      <td>48095</td>\n",
       "      <td>23</td>\n",
       "    </tr>\n",
       "    <tr>\n",
       "      <th>freq</th>\n",
       "      <td>194</td>\n",
       "      <td>1</td>\n",
       "      <td>431</td>\n",
       "      <td>76</td>\n",
       "      <td>467</td>\n",
       "      <td>5254</td>\n",
       "      <td>550</td>\n",
       "      <td>9511.0</td>\n",
       "      <td>3895</td>\n",
       "      <td>23294</td>\n",
       "    </tr>\n",
       "  </tbody>\n",
       "</table>\n",
       "</div>"
      ],
      "text/plain": [
       "            siren           siret denominationUniteLegale sigleUniteLegale  \\\n",
       "count       42302           42302                   42301             4075   \n",
       "unique      31517           42302                   30235             1958   \n",
       "top     356000745  52834258700037                LA POSTE             CACF   \n",
       "freq          194               1                     431               76   \n",
       "\n",
       "       enseigne1Etablissement activitePrincipaleEtablissement  \\\n",
       "count                    6888                           42301   \n",
       "unique                   3717                            1259   \n",
       "top                    MAIRIE                          68.20B   \n",
       "freq                      467                            5254   \n",
       "\n",
       "                 geo_adresse  categorieJuridiqueUniteLegale  \\\n",
       "count                  37824                        42301.0   \n",
       "unique                 14484                          179.0   \n",
       "top     Hôtel de Ville Lille                         5499.0   \n",
       "freq                     550                         9511.0   \n",
       "\n",
       "        codeCommuneEtablissement    dep  \n",
       "count                      42302  42302  \n",
       "unique                       444      2  \n",
       "top                        48095     23  \n",
       "freq                        3895  23294  "
      ]
     },
     "execution_count": 9,
     "metadata": {},
     "output_type": "execute_result"
    },
    {
     "name": "stdout",
     "output_type": "stream",
     "text": [
      "time: 181 ms (started: 2021-11-04 20:33:10 +00:00)\n"
     ]
    }
   ],
   "source": [
    "# category columns description\n",
    "companies_df.describe(include='object')"
   ]
  },
  {
   "cell_type": "code",
   "execution_count": 10,
   "id": "6772a645",
   "metadata": {},
   "outputs": [
    {
     "data": {
      "text/html": [
       "<div>\n",
       "<style scoped>\n",
       "    .dataframe tbody tr th:only-of-type {\n",
       "        vertical-align: middle;\n",
       "    }\n",
       "\n",
       "    .dataframe tbody tr th {\n",
       "        vertical-align: top;\n",
       "    }\n",
       "\n",
       "    .dataframe thead th {\n",
       "        text-align: right;\n",
       "    }\n",
       "</style>\n",
       "<table border=\"1\" class=\"dataframe\">\n",
       "  <thead>\n",
       "    <tr style=\"text-align: right;\">\n",
       "      <th></th>\n",
       "      <th>siren</th>\n",
       "      <th>siret</th>\n",
       "      <th>denominationUniteLegale</th>\n",
       "      <th>sigleUniteLegale</th>\n",
       "      <th>enseigne1Etablissement</th>\n",
       "      <th>activitePrincipaleEtablissement</th>\n",
       "      <th>geo_adresse</th>\n",
       "      <th>geo_score</th>\n",
       "      <th>categorieJuridiqueUniteLegale</th>\n",
       "      <th>codeCommuneEtablissement</th>\n",
       "      <th>dep</th>\n",
       "    </tr>\n",
       "  </thead>\n",
       "  <tbody>\n",
       "    <tr>\n",
       "      <th>32</th>\n",
       "      <td>274800416</td>\n",
       "      <td>27480041600019</td>\n",
       "      <td>SERVICE DES EAUX DE GATUZIERES</td>\n",
       "      <td>NaN</td>\n",
       "      <td>NaN</td>\n",
       "      <td>41.0Z</td>\n",
       "      <td>Hôtel de Ville Lille</td>\n",
       "      <td>0.92</td>\n",
       "      <td>7510.0</td>\n",
       "      <td>48069</td>\n",
       "      <td>48</td>\n",
       "    </tr>\n",
       "    <tr>\n",
       "      <th>40</th>\n",
       "      <td>777987363</td>\n",
       "      <td>77798736300010</td>\n",
       "      <td>CUMA DU TUTET</td>\n",
       "      <td>NaN</td>\n",
       "      <td>NaN</td>\n",
       "      <td>01.61Z</td>\n",
       "      <td>Hôtel de Ville Lille</td>\n",
       "      <td>0.92</td>\n",
       "      <td>6316.0</td>\n",
       "      <td>23064</td>\n",
       "      <td>23</td>\n",
       "    </tr>\n",
       "    <tr>\n",
       "      <th>45</th>\n",
       "      <td>820734531</td>\n",
       "      <td>82073453100016</td>\n",
       "      <td>SOCIETE COMMUNALE DE CHASSE D'AUROUX</td>\n",
       "      <td>NaN</td>\n",
       "      <td>NaN</td>\n",
       "      <td>93.19Z</td>\n",
       "      <td>Hôtel de Ville Lille</td>\n",
       "      <td>0.92</td>\n",
       "      <td>9220.0</td>\n",
       "      <td>48010</td>\n",
       "      <td>48</td>\n",
       "    </tr>\n",
       "    <tr>\n",
       "      <th>194</th>\n",
       "      <td>264801135</td>\n",
       "      <td>26480113500015</td>\n",
       "      <td>CENTRE COMMUNAL D'ACTION SOCIALE</td>\n",
       "      <td>NaN</td>\n",
       "      <td>CCAS DE MOLEZON</td>\n",
       "      <td>88.99B</td>\n",
       "      <td>Hôtel de Ville Lille</td>\n",
       "      <td>0.92</td>\n",
       "      <td>7361.0</td>\n",
       "      <td>48098</td>\n",
       "      <td>48</td>\n",
       "    </tr>\n",
       "    <tr>\n",
       "      <th>399</th>\n",
       "      <td>214800153</td>\n",
       "      <td>21480015300063</td>\n",
       "      <td>COMMUNE DE PIED-DE-BORNE</td>\n",
       "      <td>NaN</td>\n",
       "      <td>ATELIER DE CHATAIGNE</td>\n",
       "      <td>68.20B</td>\n",
       "      <td>Hôtel de Ville Lille</td>\n",
       "      <td>0.92</td>\n",
       "      <td>7210.0</td>\n",
       "      <td>48015</td>\n",
       "      <td>48</td>\n",
       "    </tr>\n",
       "  </tbody>\n",
       "</table>\n",
       "</div>"
      ],
      "text/plain": [
       "         siren           siret               denominationUniteLegale  \\\n",
       "32   274800416  27480041600019        SERVICE DES EAUX DE GATUZIERES   \n",
       "40   777987363  77798736300010                         CUMA DU TUTET   \n",
       "45   820734531  82073453100016  SOCIETE COMMUNALE DE CHASSE D'AUROUX   \n",
       "194  264801135  26480113500015      CENTRE COMMUNAL D'ACTION SOCIALE   \n",
       "399  214800153  21480015300063              COMMUNE DE PIED-DE-BORNE   \n",
       "\n",
       "    sigleUniteLegale enseigne1Etablissement activitePrincipaleEtablissement  \\\n",
       "32               NaN                    NaN                           41.0Z   \n",
       "40               NaN                    NaN                          01.61Z   \n",
       "45               NaN                    NaN                          93.19Z   \n",
       "194              NaN        CCAS DE MOLEZON                          88.99B   \n",
       "399              NaN   ATELIER DE CHATAIGNE                          68.20B   \n",
       "\n",
       "              geo_adresse  geo_score categorieJuridiqueUniteLegale  \\\n",
       "32   Hôtel de Ville Lille       0.92                        7510.0   \n",
       "40   Hôtel de Ville Lille       0.92                        6316.0   \n",
       "45   Hôtel de Ville Lille       0.92                        9220.0   \n",
       "194  Hôtel de Ville Lille       0.92                        7361.0   \n",
       "399  Hôtel de Ville Lille       0.92                        7210.0   \n",
       "\n",
       "    codeCommuneEtablissement dep  \n",
       "32                     48069  48  \n",
       "40                     23064  23  \n",
       "45                     48010  48  \n",
       "194                    48098  48  \n",
       "399                    48015  48  "
      ]
     },
     "execution_count": 10,
     "metadata": {},
     "output_type": "execute_result"
    },
    {
     "name": "stdout",
     "output_type": "stream",
     "text": [
      "time: 26.6 ms (started: 2021-11-04 20:33:12 +00:00)\n"
     ]
    }
   ],
   "source": [
    "companies_df.loc[companies_df['geo_adresse']=='Hôtel de Ville Lille'].head(5)"
   ]
  },
  {
   "cell_type": "markdown",
   "id": "b247722a",
   "metadata": {},
   "source": [
    "* The `Hôtel de ville Lille` adress seems to come up quite a lot. I could not find the adresses online and it seems to be a data quality issue. (To be investigated)."
   ]
  },
  {
   "cell_type": "code",
   "execution_count": 11,
   "id": "e0cf71f9",
   "metadata": {},
   "outputs": [
    {
     "data": {
      "text/plain": [
       "siren                                  0\n",
       "siret                                  0\n",
       "denominationUniteLegale                1\n",
       "sigleUniteLegale                   38227\n",
       "enseigne1Etablissement             35414\n",
       "activitePrincipaleEtablissement        1\n",
       "geo_adresse                         4478\n",
       "geo_score                              0\n",
       "categorieJuridiqueUniteLegale          1\n",
       "codeCommuneEtablissement               0\n",
       "dep                                    0\n",
       "dtype: int64"
      ]
     },
     "execution_count": 11,
     "metadata": {},
     "output_type": "execute_result"
    },
    {
     "name": "stdout",
     "output_type": "stream",
     "text": [
      "time: 41.2 ms (started: 2021-11-04 20:33:14 +00:00)\n"
     ]
    }
   ],
   "source": [
    "# look for missing data\n",
    "companies_df.isnull().sum()"
   ]
  },
  {
   "cell_type": "code",
   "execution_count": 12,
   "id": "639ecf67",
   "metadata": {},
   "outputs": [
    {
     "data": {
      "text/html": [
       "<div>\n",
       "<style scoped>\n",
       "    .dataframe tbody tr th:only-of-type {\n",
       "        vertical-align: middle;\n",
       "    }\n",
       "\n",
       "    .dataframe tbody tr th {\n",
       "        vertical-align: top;\n",
       "    }\n",
       "\n",
       "    .dataframe thead th {\n",
       "        text-align: right;\n",
       "    }\n",
       "</style>\n",
       "<table border=\"1\" class=\"dataframe\">\n",
       "  <thead>\n",
       "    <tr style=\"text-align: right;\">\n",
       "      <th></th>\n",
       "      <th>siren</th>\n",
       "      <th>siret</th>\n",
       "      <th>denominationUniteLegale</th>\n",
       "      <th>sigleUniteLegale</th>\n",
       "      <th>enseigne1Etablissement</th>\n",
       "      <th>activitePrincipaleEtablissement</th>\n",
       "      <th>geo_adresse</th>\n",
       "      <th>geo_score</th>\n",
       "      <th>categorieJuridiqueUniteLegale</th>\n",
       "      <th>codeCommuneEtablissement</th>\n",
       "      <th>dep</th>\n",
       "    </tr>\n",
       "  </thead>\n",
       "  <tbody>\n",
       "    <tr>\n",
       "      <th>40575</th>\n",
       "      <td>497963736</td>\n",
       "      <td>49796373600010</td>\n",
       "      <td>NaN</td>\n",
       "      <td>NaN</td>\n",
       "      <td>NaN</td>\n",
       "      <td>41.20A</td>\n",
       "      <td>Rue des Combettes Planes 48170 Châteauneuf-de-...</td>\n",
       "      <td>0.84</td>\n",
       "      <td>NaN</td>\n",
       "      <td>48043</td>\n",
       "      <td>48</td>\n",
       "    </tr>\n",
       "  </tbody>\n",
       "</table>\n",
       "</div>"
      ],
      "text/plain": [
       "           siren           siret denominationUniteLegale sigleUniteLegale  \\\n",
       "40575  497963736  49796373600010                     NaN              NaN   \n",
       "\n",
       "      enseigne1Etablissement activitePrincipaleEtablissement  \\\n",
       "40575                    NaN                          41.20A   \n",
       "\n",
       "                                             geo_adresse  geo_score  \\\n",
       "40575  Rue des Combettes Planes 48170 Châteauneuf-de-...       0.84   \n",
       "\n",
       "      categorieJuridiqueUniteLegale codeCommuneEtablissement dep  \n",
       "40575                           NaN                    48043  48  "
      ]
     },
     "execution_count": 12,
     "metadata": {},
     "output_type": "execute_result"
    },
    {
     "name": "stdout",
     "output_type": "stream",
     "text": [
      "time: 18.3 ms (started: 2021-11-04 20:33:16 +00:00)\n"
     ]
    }
   ],
   "source": [
    "companies_df.loc[companies_df['denominationUniteLegale'].isnull()]"
   ]
  },
  {
   "cell_type": "code",
   "execution_count": 13,
   "id": "221ac74e",
   "metadata": {},
   "outputs": [
    {
     "data": {
      "text/html": [
       "<div>\n",
       "<style scoped>\n",
       "    .dataframe tbody tr th:only-of-type {\n",
       "        vertical-align: middle;\n",
       "    }\n",
       "\n",
       "    .dataframe tbody tr th {\n",
       "        vertical-align: top;\n",
       "    }\n",
       "\n",
       "    .dataframe thead th {\n",
       "        text-align: right;\n",
       "    }\n",
       "</style>\n",
       "<table border=\"1\" class=\"dataframe\">\n",
       "  <thead>\n",
       "    <tr style=\"text-align: right;\">\n",
       "      <th></th>\n",
       "      <th>siren</th>\n",
       "      <th>siret</th>\n",
       "      <th>denominationUniteLegale</th>\n",
       "      <th>sigleUniteLegale</th>\n",
       "      <th>enseigne1Etablissement</th>\n",
       "      <th>activitePrincipaleEtablissement</th>\n",
       "      <th>geo_adresse</th>\n",
       "      <th>geo_score</th>\n",
       "      <th>categorieJuridiqueUniteLegale</th>\n",
       "      <th>codeCommuneEtablissement</th>\n",
       "      <th>dep</th>\n",
       "    </tr>\n",
       "  </thead>\n",
       "  <tbody>\n",
       "    <tr>\n",
       "      <th>40575</th>\n",
       "      <td>497963736</td>\n",
       "      <td>49796373600010</td>\n",
       "      <td>NaN</td>\n",
       "      <td>NaN</td>\n",
       "      <td>NaN</td>\n",
       "      <td>41.20A</td>\n",
       "      <td>Rue des Combettes Planes 48170 Châteauneuf-de-...</td>\n",
       "      <td>0.84</td>\n",
       "      <td>NaN</td>\n",
       "      <td>48043</td>\n",
       "      <td>48</td>\n",
       "    </tr>\n",
       "  </tbody>\n",
       "</table>\n",
       "</div>"
      ],
      "text/plain": [
       "           siren           siret denominationUniteLegale sigleUniteLegale  \\\n",
       "40575  497963736  49796373600010                     NaN              NaN   \n",
       "\n",
       "      enseigne1Etablissement activitePrincipaleEtablissement  \\\n",
       "40575                    NaN                          41.20A   \n",
       "\n",
       "                                             geo_adresse  geo_score  \\\n",
       "40575  Rue des Combettes Planes 48170 Châteauneuf-de-...       0.84   \n",
       "\n",
       "      categorieJuridiqueUniteLegale codeCommuneEtablissement dep  \n",
       "40575                           NaN                    48043  48  "
      ]
     },
     "execution_count": 13,
     "metadata": {},
     "output_type": "execute_result"
    },
    {
     "name": "stdout",
     "output_type": "stream",
     "text": [
      "time: 21.6 ms (started: 2021-11-04 20:33:16 +00:00)\n"
     ]
    }
   ],
   "source": [
    "companies_df[companies_df['siren']==497963736]"
   ]
  },
  {
   "cell_type": "markdown",
   "id": "3c86532d",
   "metadata": {},
   "source": [
    "* This one row has all the three missing values for **'categorieJuridiqueUniteLegal'**, **'denominationUniteLegale'** and **'activitePrincipaleEtablissement'**. And we could not find a row which contains data relating to the same company."
   ]
  },
  {
   "cell_type": "code",
   "execution_count": 14,
   "id": "45c83678",
   "metadata": {},
   "outputs": [
    {
     "data": {
      "text/plain": [
       "<AxesSubplot:ylabel='None'>"
      ]
     },
     "execution_count": 14,
     "metadata": {},
     "output_type": "execute_result"
    },
    {
     "data": {
      "image/png": "[encoded data removed]",
      "text/plain": [
       "<Figure size 432x288 with 1 Axes>"
      ]
     },
     "metadata": {},
     "output_type": "display_data"
    },
    {
     "name": "stdout",
     "output_type": "stream",
     "text": [
      "time: 111 ms (started: 2021-11-04 20:33:19 +00:00)\n"
     ]
    }
   ],
   "source": [
    "# departement percentage\n",
    "companies_df.groupby('dep').size().plot(kind='pie', autopct='%.2f')"
   ]
  },
  {
   "cell_type": "code",
   "execution_count": 15,
   "id": "54ba8f55",
   "metadata": {},
   "outputs": [
    {
     "data": {
      "text/html": [
       "<div>\n",
       "<style scoped>\n",
       "    .dataframe tbody tr th:only-of-type {\n",
       "        vertical-align: middle;\n",
       "    }\n",
       "\n",
       "    .dataframe tbody tr th {\n",
       "        vertical-align: top;\n",
       "    }\n",
       "\n",
       "    .dataframe thead th {\n",
       "        text-align: right;\n",
       "    }\n",
       "</style>\n",
       "<table border=\"1\" class=\"dataframe\">\n",
       "  <thead>\n",
       "    <tr style=\"text-align: right;\">\n",
       "      <th></th>\n",
       "      <th>siren</th>\n",
       "    </tr>\n",
       "  </thead>\n",
       "  <tbody>\n",
       "    <tr>\n",
       "      <th>356000745</th>\n",
       "      <td>194</td>\n",
       "    </tr>\n",
       "    <tr>\n",
       "      <th>356000000</th>\n",
       "      <td>119</td>\n",
       "    </tr>\n",
       "    <tr>\n",
       "      <th>356000919</th>\n",
       "      <td>118</td>\n",
       "    </tr>\n",
       "    <tr>\n",
       "      <th>501542021</th>\n",
       "      <td>66</td>\n",
       "    </tr>\n",
       "    <tr>\n",
       "      <th>552049447</th>\n",
       "      <td>60</td>\n",
       "    </tr>\n",
       "    <tr>\n",
       "      <th>750401176</th>\n",
       "      <td>56</td>\n",
       "    </tr>\n",
       "    <tr>\n",
       "      <th>262324700</th>\n",
       "      <td>50</td>\n",
       "    </tr>\n",
       "    <tr>\n",
       "      <th>495105918</th>\n",
       "      <td>48</td>\n",
       "    </tr>\n",
       "    <tr>\n",
       "      <th>538160656</th>\n",
       "      <td>43</td>\n",
       "    </tr>\n",
       "    <tr>\n",
       "      <th>527809339</th>\n",
       "      <td>41</td>\n",
       "    </tr>\n",
       "  </tbody>\n",
       "</table>\n",
       "</div>"
      ],
      "text/plain": [
       "           siren\n",
       "356000745    194\n",
       "356000000    119\n",
       "356000919    118\n",
       "501542021     66\n",
       "552049447     60\n",
       "750401176     56\n",
       "262324700     50\n",
       "495105918     48\n",
       "538160656     43\n",
       "527809339     41"
      ]
     },
     "execution_count": 15,
     "metadata": {},
     "output_type": "execute_result"
    },
    {
     "name": "stdout",
     "output_type": "stream",
     "text": [
      "time: 35.8 ms (started: 2021-11-04 20:33:19 +00:00)\n"
     ]
    }
   ],
   "source": [
    "# 10 most frequent companies siren numbers\n",
    "companies_df['siren'].value_counts().to_frame()[:10]"
   ]
  },
  {
   "cell_type": "code",
   "execution_count": 16,
   "id": "49c0e604",
   "metadata": {},
   "outputs": [
    {
     "name": "stdout",
     "output_type": "stream",
     "text": [
      "time: 59.9 ms (started: 2021-11-04 20:33:20 +00:00)\n"
     ]
    }
   ],
   "source": [
    "# add column with siren frequency\n",
    "companies_df['frequenceEtablissement'] = companies_df['siren'].map(companies_df['siren'].value_counts())\n",
    "companies_df.sort_values(by=['frequenceEtablissement'], inplace=True, ascending=False)"
   ]
  },
  {
   "cell_type": "code",
   "execution_count": 17,
   "id": "f7fe5bcd",
   "metadata": {},
   "outputs": [
    {
     "data": {
      "text/plain": [
       "<AxesSubplot:ylabel='None'>"
      ]
     },
     "execution_count": 17,
     "metadata": {},
     "output_type": "execute_result"
    },
    {
     "data": {
      "image/png": "[encoded data removed]",
      "text/plain": [
       "<Figure size 432x288 with 1 Axes>"
      ]
     },
     "metadata": {},
     "output_type": "display_data"
    },
    {
     "name": "stdout",
     "output_type": "stream",
     "text": [
      "time: 145 ms (started: 2021-11-04 20:33:22 +00:00)\n"
     ]
    }
   ],
   "source": [
    "# company frequency\n",
    "companies_df[:700].groupby('denominationUniteLegale').size().plot(kind='pie', autopct='%.2f')"
   ]
  },
  {
   "cell_type": "markdown",
   "id": "63ffc40c",
   "metadata": {},
   "source": [
    "* `La poste` seems to be a winner!"
   ]
  },
  {
   "cell_type": "code",
   "execution_count": 18,
   "id": "334cefea",
   "metadata": {},
   "outputs": [
    {
     "name": "stdout",
     "output_type": "stream",
     "text": [
      "time: 11.3 ms (started: 2021-11-04 20:33:24 +00:00)\n"
     ]
    }
   ],
   "source": [
    "# drop added frequency column\n",
    "companies_df.drop(columns='frequenceEtablissement', inplace=True)"
   ]
  },
  {
   "cell_type": "markdown",
   "id": "d571928b",
   "metadata": {},
   "source": [
    "###### Elasticsearch does not like missing data, and the `null_value` parameter cannot be used with a `text` field. Consequently, the missing data has to be delt with before ingestion. We chose to replace the missing data with a `Non renseigné` string."
   ]
  },
  {
   "cell_type": "code",
   "execution_count": 19,
   "id": "814236a0",
   "metadata": {},
   "outputs": [
    {
     "name": "stdout",
     "output_type": "stream",
     "text": [
      "time: 106 ms (started: 2021-11-04 20:33:25 +00:00)\n"
     ]
    }
   ],
   "source": [
    "# replace missing values\n",
    "companies_df.fillna(\"Non renseigne\", inplace=True)"
   ]
  },
  {
   "cell_type": "code",
   "execution_count": 20,
   "id": "a63202f9",
   "metadata": {},
   "outputs": [
    {
     "data": {
      "text/plain": [
       "siren                              0\n",
       "siret                              0\n",
       "denominationUniteLegale            0\n",
       "sigleUniteLegale                   0\n",
       "enseigne1Etablissement             0\n",
       "activitePrincipaleEtablissement    0\n",
       "geo_adresse                        0\n",
       "geo_score                          0\n",
       "categorieJuridiqueUniteLegale      0\n",
       "codeCommuneEtablissement           0\n",
       "dep                                0\n",
       "dtype: int64"
      ]
     },
     "execution_count": 20,
     "metadata": {},
     "output_type": "execute_result"
    },
    {
     "name": "stdout",
     "output_type": "stream",
     "text": [
      "time: 34.4 ms (started: 2021-11-04 20:33:26 +00:00)\n"
     ]
    }
   ],
   "source": [
    "companies_df.isnull().sum()"
   ]
  },
  {
   "cell_type": "code",
   "execution_count": 21,
   "id": "adac73ef",
   "metadata": {},
   "outputs": [
    {
     "data": {
      "text/plain": [
       "(0, 11)"
      ]
     },
     "execution_count": 21,
     "metadata": {},
     "output_type": "execute_result"
    },
    {
     "name": "stdout",
     "output_type": "stream",
     "text": [
      "time: 65.3 ms (started: 2021-11-04 20:33:26 +00:00)\n"
     ]
    }
   ],
   "source": [
    "# let's look for duplicates\n",
    "duplicate_rows_df = companies_df[companies_df.duplicated()]\n",
    "duplicate_rows_df.shape"
   ]
  },
  {
   "cell_type": "markdown",
   "id": "0552f7f0",
   "metadata": {},
   "source": [
    "##### There are no duplicates!"
   ]
  },
  {
   "cell_type": "markdown",
   "id": "708da680",
   "metadata": {},
   "source": [
    "### c. Split data"
   ]
  },
  {
   "cell_type": "markdown",
   "id": "fc19f5a8",
   "metadata": {},
   "source": [
    "* We can filter on the `dep` directly when ingesting data. But we prefer to keep the dataframes in memory for possible use later on."
   ]
  },
  {
   "cell_type": "code",
   "execution_count": 22,
   "id": "0011ee0d",
   "metadata": {},
   "outputs": [
    {
     "data": {
      "text/plain": [
       "(23294, 11)"
      ]
     },
     "execution_count": 22,
     "metadata": {},
     "output_type": "execute_result"
    },
    {
     "name": "stdout",
     "output_type": "stream",
     "text": [
      "time: 9.52 ms (started: 2021-11-04 20:33:29 +00:00)\n"
     ]
    }
   ],
   "source": [
    "companies_creuse = companies_df.loc[companies_df['dep']==23]\n",
    "companies_creuse.shape"
   ]
  },
  {
   "cell_type": "code",
   "execution_count": 23,
   "id": "2a0556e3",
   "metadata": {},
   "outputs": [
    {
     "data": {
      "text/plain": [
       "(19008, 11)"
      ]
     },
     "execution_count": 23,
     "metadata": {},
     "output_type": "execute_result"
    },
    {
     "name": "stdout",
     "output_type": "stream",
     "text": [
      "time: 7.89 ms (started: 2021-11-04 20:33:29 +00:00)\n"
     ]
    }
   ],
   "source": [
    "companies_lozere=companies_df.loc[companies_df['dep']==48]\n",
    "companies_lozere.shape"
   ]
  },
  {
   "cell_type": "markdown",
   "id": "8778df6b",
   "metadata": {},
   "source": [
    "## 2. Elasticsearch"
   ]
  },
  {
   "cell_type": "markdown",
   "id": "92cb0d80",
   "metadata": {},
   "source": [
    "Warning: If not using a jupyter docker container, substitue `host.docker.internal`with `localhost`in all URLs."
   ]
  },
  {
   "cell_type": "markdown",
   "id": "5ed58f36",
   "metadata": {},
   "source": [
    "### a. Check Elasticsearch"
   ]
  },
  {
   "cell_type": "code",
   "execution_count": 24,
   "id": "1a2439ae",
   "metadata": {},
   "outputs": [
    {
     "name": "stdout",
     "output_type": "stream",
     "text": [
      "time: 95.2 ms (started: 2021-11-04 20:33:32 +00:00)\n"
     ]
    }
   ],
   "source": [
    "# make sure ES is up and running\n",
    "response = requests.get('http://host.docker.internal:9200', auth=HTTPBasicAuth('elastic', 'elastic'))"
   ]
  },
  {
   "cell_type": "code",
   "execution_count": 25,
   "id": "b9b3fd5f",
   "metadata": {},
   "outputs": [
    {
     "name": "stdout",
     "output_type": "stream",
     "text": [
      "{'cluster_name': 'es-docker-cluster',\n",
      " 'cluster_uuid': 'VOPJ8ZmdR3-kiUTAtf13aA',\n",
      " 'name': 'elastic-sirene',\n",
      " 'tagline': 'You Know, for Search',\n",
      " 'version': {'build_date': '2021-04-20T20:56:39.040728659Z',\n",
      "             'build_flavor': 'default',\n",
      "             'build_hash': '3186837139b9c6b6d23c3200870651f10d3343b7',\n",
      "             'build_snapshot': False,\n",
      "             'build_type': 'docker',\n",
      "             'lucene_version': '8.8.0',\n",
      "             'minimum_index_compatibility_version': '6.0.0-beta1',\n",
      "             'minimum_wire_compatibility_version': '6.8.0',\n",
      "             'number': '7.12.1'}}\n",
      "time: 4.94 ms (started: 2021-11-04 20:33:32 +00:00)\n"
     ]
    }
   ],
   "source": [
    "json_data = json.loads(response.content)\n",
    "pprint(json_data)"
   ]
  },
  {
   "cell_type": "markdown",
   "id": "f2b57c44",
   "metadata": {},
   "source": [
    "Yay! it works :)"
   ]
  },
  {
   "cell_type": "markdown",
   "id": "0368c828",
   "metadata": {},
   "source": [
    "### b. Instantiate a client instance"
   ]
  },
  {
   "cell_type": "code",
   "execution_count": 26,
   "id": "f883702f",
   "metadata": {},
   "outputs": [
    {
     "name": "stdout",
     "output_type": "stream",
     "text": [
      "time: 752 µs (started: 2021-11-04 20:33:34 +00:00)\n"
     ]
    }
   ],
   "source": [
    "# connect to ES instance using the elasticsearch-py library\n",
    "elastic_client = Elasticsearch([{'host': 'host.docker.internal', 'port': 9200}], http_auth=(\"elastic\", \"elastic\"))"
   ]
  },
  {
   "cell_type": "code",
   "execution_count": 27,
   "id": "43527c46",
   "metadata": {},
   "outputs": [
    {
     "data": {
      "text/plain": [
       "{'name': 'elastic-sirene',\n",
       " 'cluster_name': 'es-docker-cluster',\n",
       " 'cluster_uuid': 'VOPJ8ZmdR3-kiUTAtf13aA',\n",
       " 'version': {'number': '7.12.1',\n",
       "  'build_flavor': 'default',\n",
       "  'build_type': 'docker',\n",
       "  'build_hash': '3186837139b9c6b6d23c3200870651f10d3343b7',\n",
       "  'build_date': '2021-04-20T20:56:39.040728659Z',\n",
       "  'build_snapshot': False,\n",
       "  'lucene_version': '8.8.0',\n",
       "  'minimum_wire_compatibility_version': '6.8.0',\n",
       "  'minimum_index_compatibility_version': '6.0.0-beta1'},\n",
       " 'tagline': 'You Know, for Search'}"
      ]
     },
     "execution_count": 27,
     "metadata": {},
     "output_type": "execute_result"
    },
    {
     "name": "stdout",
     "output_type": "stream",
     "text": [
      "time: 19.6 ms (started: 2021-11-04 20:33:35 +00:00)\n"
     ]
    }
   ],
   "source": [
    "elastic_client.info()"
   ]
  },
  {
   "cell_type": "markdown",
   "id": "9d9a0231",
   "metadata": {},
   "source": [
    "### c. Ingest data"
   ]
  },
  {
   "cell_type": "markdown",
   "id": "81862612",
   "metadata": {},
   "source": [
    "#### i. Create indices"
   ]
  },
  {
   "cell_type": "code",
   "execution_count": 30,
   "id": "abc9d13c",
   "metadata": {},
   "outputs": [
    {
     "data": {
      "text/plain": [
       "{}"
      ]
     },
     "execution_count": 30,
     "metadata": {},
     "output_type": "execute_result"
    },
    {
     "name": "stdout",
     "output_type": "stream",
     "text": [
      "time: 7.38 ms (started: 2021-11-04 20:33:54 +00:00)\n"
     ]
    }
   ],
   "source": [
    "# returns a list of all the cluster's indices\n",
    "all_indices = elastic_client.indices.get_alias()\n",
    "all_indices"
   ]
  },
  {
   "cell_type": "code",
   "execution_count": 29,
   "id": "7e55e9ee",
   "metadata": {},
   "outputs": [
    {
     "data": {
      "text/plain": [
       "{'acknowledged': True}"
      ]
     },
     "execution_count": 29,
     "metadata": {},
     "output_type": "execute_result"
    },
    {
     "name": "stdout",
     "output_type": "stream",
     "text": [
      "time: 91.7 ms (started: 2021-11-04 20:33:44 +00:00)\n"
     ]
    }
   ],
   "source": [
    "# delete indices\n",
    "# elastic_client.indices.delete(index='creuse_index')\n",
    "# elastic_client.indices.delete(index='lozere_index')"
   ]
  },
  {
   "cell_type": "markdown",
   "id": "4a07587a",
   "metadata": {},
   "source": [
    "* We chose static mapping instead of dynamic mapping to have absolute control over the fields."
   ]
  },
  {
   "cell_type": "markdown",
   "id": "3c6bb4ff",
   "metadata": {},
   "source": [
    "Mapping schema:\n",
    "- **siren**: *keyword* (becuase it's structured content i.e ID)\n",
    "- **siret**: *keyword* (becuase it's structured content i.e ID)\n",
    "- **denominationUniteLegale**: *text*\n",
    "- **sigleUniteLegale**: *text*\n",
    "- **enseigne1Etablissement**: *text*\n",
    "- **activitePrincipaleEtablissement**: *text*\n",
    "- **geo_adresse**: *text*\n",
    "- **geo_score**: *float*\n",
    "- **categorieJuridiqueUniteLegale**: *text*\n",
    "- **codeCommuneEtablissement**: *integer*\n",
    "- **dep**: *constant keyword* (because it contains the same value)"
   ]
  },
  {
   "cell_type": "code",
   "execution_count": 31,
   "id": "443687c0",
   "metadata": {},
   "outputs": [
    {
     "name": "stdout",
     "output_type": "stream",
     "text": [
      "time: 946 µs (started: 2021-11-04 20:33:57 +00:00)\n"
     ]
    }
   ],
   "source": [
    "mapping = {\n",
    "  \"settings\": { \"number_of_shards\": 1 },\n",
    "  \"mappings\": {\n",
    "      \"properties\" : {\n",
    "        \"siren\" : {\n",
    "          \"type\" :    \"keyword\"\n",
    "        },\n",
    "        \"siret\" : {\n",
    "          \"type\" :    \"keyword\"\n",
    "        },\n",
    "        \"denominationUniteLegale\" : {\n",
    "          \"type\" :   \"text\"\n",
    "        },\n",
    "        \"sigleUniteLegale\" : {\n",
    "          \"type\" :   \"text\"\n",
    "        },\n",
    "        \"enseigne1Etablissement\" : {\n",
    "          \"type\" :   \"text\"\n",
    "        },\n",
    "        \"activitePrincipaleEtablissement\" : {\n",
    "          \"type\" :   \"text\"\n",
    "        },\n",
    "        \"geo_adresse\" : {\n",
    "          \"type\" :   \"text\"\n",
    "        },\n",
    "        \"geo_score\" : {\n",
    "          \"type\" :   \"float\"\n",
    "        },\n",
    "        \"categorieJuridiqueUniteLegale\" : {\n",
    "          \"type\" :   \"text\"\n",
    "        },\n",
    "        \"codeCommuneEtablissement\" : {\n",
    "          \"type\" :   \"integer\"\n",
    "        },\n",
    "        \"dep\" : {\n",
    "          \"type\" :   \"constant_keyword\"\n",
    "        }\n",
    "      }\n",
    "  }\n",
    "}"
   ]
  },
  {
   "cell_type": "code",
   "execution_count": 32,
   "id": "342c3048",
   "metadata": {},
   "outputs": [
    {
     "data": {
      "text/plain": [
       "{'acknowledged': True, 'shards_acknowledged': True, 'index': 'creuse_index'}"
      ]
     },
     "execution_count": 32,
     "metadata": {},
     "output_type": "execute_result"
    },
    {
     "name": "stdout",
     "output_type": "stream",
     "text": [
      "time: 129 ms (started: 2021-11-04 20:33:59 +00:00)\n"
     ]
    }
   ],
   "source": [
    "# create Creuse index\n",
    "elastic_client.indices.create(index='creuse_index', body=mapping)"
   ]
  },
  {
   "cell_type": "code",
   "execution_count": 33,
   "id": "af26160f",
   "metadata": {},
   "outputs": [
    {
     "data": {
      "text/plain": [
       "{'acknowledged': True, 'shards_acknowledged': True, 'index': 'lozere_index'}"
      ]
     },
     "execution_count": 33,
     "metadata": {},
     "output_type": "execute_result"
    },
    {
     "name": "stdout",
     "output_type": "stream",
     "text": [
      "time: 120 ms (started: 2021-11-04 20:33:59 +00:00)\n"
     ]
    }
   ],
   "source": [
    "# create Lozere index\n",
    "elastic_client.indices.create(index='lozere_index', body=mapping)"
   ]
  },
  {
   "cell_type": "code",
   "execution_count": 34,
   "id": "9a197ce9",
   "metadata": {},
   "outputs": [
    {
     "data": {
      "text/plain": [
       "{'lozere_index': {'aliases': {}}, 'creuse_index': {'aliases': {}}}"
      ]
     },
     "execution_count": 34,
     "metadata": {},
     "output_type": "execute_result"
    },
    {
     "name": "stdout",
     "output_type": "stream",
     "text": [
      "time: 8.77 ms (started: 2021-11-04 20:34:14 +00:00)\n"
     ]
    }
   ],
   "source": [
    "# returns a list of all the cluster's indices\n",
    "elastic_client.indices.get_alias()"
   ]
  },
  {
   "cell_type": "markdown",
   "id": "14a57a06",
   "metadata": {},
   "source": [
    "#### ii. Ingest dataframes into indices"
   ]
  },
  {
   "cell_type": "markdown",
   "id": "4b1a5b54",
   "metadata": {},
   "source": [
    "* We do so using [`helpers.bulk`](https://elasticsearch-py.readthedocs.io/en/7.9.1/helpers.html) which requires a generator, which means indexing the dataset without putting it into memory, which in turn saves resources.\n",
    "\n",
    "* Let's start by converting every row in the dataframe into a document to ingest into elasticsearch index:"
   ]
  },
  {
   "cell_type": "code",
   "execution_count": 35,
   "id": "b5536442",
   "metadata": {},
   "outputs": [
    {
     "name": "stdout",
     "output_type": "stream",
     "text": [
      "time: 718 µs (started: 2021-11-04 20:34:17 +00:00)\n"
     ]
    }
   ],
   "source": [
    "# generator loops over every row of the dataframe and converts it into an index and a document(dictionary) to ingest into an ES index\n",
    "def doc_generator(df, elastic_index):\n",
    "    df_iter = df.iterrows()\n",
    "    for index, document in df_iter:\n",
    "        yield {\n",
    "                \"_index\": elastic_index,\n",
    "                \"_id\" : index,\n",
    "                \"_source\": document.to_dict(),\n",
    "            }"
   ]
  },
  {
   "cell_type": "code",
   "execution_count": 36,
   "id": "4f9c7c93",
   "metadata": {},
   "outputs": [
    {
     "data": {
      "text/plain": [
       "(23294, [])"
      ]
     },
     "execution_count": 36,
     "metadata": {},
     "output_type": "execute_result"
    },
    {
     "name": "stdout",
     "output_type": "stream",
     "text": [
      "time: 4.37 s (started: 2021-11-04 20:34:18 +00:00)\n"
     ]
    }
   ],
   "source": [
    "# ingest creuse (23) dataframe into creuse_index using the helpers.bulk method \n",
    "helpers.bulk(elastic_client, doc_generator(companies_creuse, 'creuse_index')) # request_timeout=20 for network latency"
   ]
  },
  {
   "cell_type": "code",
   "execution_count": 37,
   "id": "63bcbd67",
   "metadata": {},
   "outputs": [
    {
     "name": "stdout",
     "output_type": "stream",
     "text": [
      "time: 12.9 ms (started: 2021-11-04 20:34:23 +00:00)\n"
     ]
    }
   ],
   "source": [
    "request_creuse = requests.get('http://host.docker.internal:9200/creuse_index?pretty', auth=HTTPBasicAuth('elastic', 'elastic'))"
   ]
  },
  {
   "cell_type": "code",
   "execution_count": 38,
   "id": "fc61712d",
   "metadata": {},
   "outputs": [
    {
     "name": "stdout",
     "output_type": "stream",
     "text": [
      "{'creuse_index': {'aliases': {},\n",
      "                  'mappings': {'properties': {'activitePrincipaleEtablissement': {'type': 'text'},\n",
      "                                              'categorieJuridiqueUniteLegale': {'type': 'text'},\n",
      "                                              'codeCommuneEtablissement': {'type': 'integer'},\n",
      "                                              'denominationUniteLegale': {'type': 'text'},\n",
      "                                              'dep': {'type': 'constant_keyword',\n",
      "                                                      'value': '23'},\n",
      "                                              'enseigne1Etablissement': {'type': 'text'},\n",
      "                                              'geo_adresse': {'type': 'text'},\n",
      "                                              'geo_score': {'type': 'float'},\n",
      "                                              'sigleUniteLegale': {'type': 'text'},\n",
      "                                              'siren': {'type': 'keyword'},\n",
      "                                              'siret': {'type': 'keyword'}}},\n",
      "                  'settings': {'index': {'creation_date': '1636058039231',\n",
      "                                         'number_of_replicas': '1',\n",
      "                                         'number_of_shards': '1',\n",
      "                                         'provided_name': 'creuse_index',\n",
      "                                         'routing': {'allocation': {'include': {'_tier_preference': 'data_content'}}},\n",
      "                                         'uuid': 'nSyZX9uZT3OZYiahkwdvog',\n",
      "                                         'version': {'created': '7120199'}}}}}\n",
      "time: 16.1 ms (started: 2021-11-04 20:34:23 +00:00)\n"
     ]
    }
   ],
   "source": [
    "pprint(json.loads(request_creuse.content))"
   ]
  },
  {
   "cell_type": "code",
   "execution_count": 39,
   "id": "4b0d85ec",
   "metadata": {},
   "outputs": [
    {
     "name": "stdout",
     "output_type": "stream",
     "text": [
      "{'creuse_index': {'mappings': {'properties': {'activitePrincipaleEtablissement': {'type': 'text'},\n",
      "                                              'categorieJuridiqueUniteLegale': {'type': 'text'},\n",
      "                                              'codeCommuneEtablissement': {'type': 'integer'},\n",
      "                                              'denominationUniteLegale': {'type': 'text'},\n",
      "                                              'dep': {'type': 'constant_keyword',\n",
      "                                                      'value': '23'},\n",
      "                                              'enseigne1Etablissement': {'type': 'text'},\n",
      "                                              'geo_adresse': {'type': 'text'},\n",
      "                                              'geo_score': {'type': 'float'},\n",
      "                                              'sigleUniteLegale': {'type': 'text'},\n",
      "                                              'siren': {'type': 'keyword'},\n",
      "                                              'siret': {'type': 'keyword'}}}}}\n",
      "time: 19.4 ms (started: 2021-11-04 20:34:29 +00:00)\n"
     ]
    }
   ],
   "source": [
    "# to get the index mapping\n",
    "pprint(elastic_client.indices.get_mapping(index='creuse_index'))"
   ]
  },
  {
   "cell_type": "code",
   "execution_count": 40,
   "id": "ff037385",
   "metadata": {},
   "outputs": [
    {
     "data": {
      "text/plain": [
       "{'siren': 528342587,\n",
       " 'siret': 52834258700037,\n",
       " 'denominationUniteLegale': 'SYCORAX',\n",
       " 'sigleUniteLegale': 'Non renseigne',\n",
       " 'enseigne1Etablissement': 'Non renseigne',\n",
       " 'activitePrincipaleEtablissement': '70.22Z',\n",
       " 'geo_adresse': '12 La Marche 23220 Mortroux',\n",
       " 'geo_score': 0.94,\n",
       " 'categorieJuridiqueUniteLegale': 5499.0,\n",
       " 'codeCommuneEtablissement': 23136,\n",
       " 'dep': 23}"
      ]
     },
     "execution_count": 40,
     "metadata": {},
     "output_type": "execute_result"
    },
    {
     "name": "stdout",
     "output_type": "stream",
     "text": [
      "time: 10.5 ms (started: 2021-11-04 20:34:32 +00:00)\n"
     ]
    }
   ],
   "source": [
    "# check if the data was rightly indexed\n",
    "elastic_client.get(index='creuse_index', id=0)['_source']"
   ]
  },
  {
   "cell_type": "code",
   "execution_count": 41,
   "id": "55780b80",
   "metadata": {},
   "outputs": [
    {
     "data": {
      "text/plain": [
       "(19008, [])"
      ]
     },
     "execution_count": 41,
     "metadata": {},
     "output_type": "execute_result"
    },
    {
     "name": "stdout",
     "output_type": "stream",
     "text": [
      "time: 3.39 s (started: 2021-11-04 20:34:35 +00:00)\n"
     ]
    }
   ],
   "source": [
    "# ingest lozere (48) dataframe into creuse index using the helpers.bulk method \n",
    "helpers.bulk(elastic_client, doc_generator(companies_lozere, 'lozere_index'))"
   ]
  },
  {
   "cell_type": "code",
   "execution_count": 42,
   "id": "77ee0ddb",
   "metadata": {},
   "outputs": [
    {
     "name": "stdout",
     "output_type": "stream",
     "text": [
      "time: 14.3 ms (started: 2021-11-04 20:34:41 +00:00)\n"
     ]
    }
   ],
   "source": [
    "request_lozere = requests.get('http://host.docker.internal:9200/lozere_index?pretty', auth=HTTPBasicAuth('elastic', 'elastic'))"
   ]
  },
  {
   "cell_type": "code",
   "execution_count": 43,
   "id": "77d27882",
   "metadata": {},
   "outputs": [
    {
     "name": "stdout",
     "output_type": "stream",
     "text": [
      "{'lozere_index': {'aliases': {},\n",
      "                  'mappings': {'properties': {'activitePrincipaleEtablissement': {'type': 'text'},\n",
      "                                              'categorieJuridiqueUniteLegale': {'type': 'text'},\n",
      "                                              'codeCommuneEtablissement': {'type': 'integer'},\n",
      "                                              'denominationUniteLegale': {'type': 'text'},\n",
      "                                              'dep': {'type': 'constant_keyword',\n",
      "                                                      'value': '48'},\n",
      "                                              'enseigne1Etablissement': {'type': 'text'},\n",
      "                                              'geo_adresse': {'type': 'text'},\n",
      "                                              'geo_score': {'type': 'float'},\n",
      "                                              'sigleUniteLegale': {'type': 'text'},\n",
      "                                              'siren': {'type': 'keyword'},\n",
      "                                              'siret': {'type': 'keyword'}}},\n",
      "                  'settings': {'index': {'creation_date': '1636058039871',\n",
      "                                         'number_of_replicas': '1',\n",
      "                                         'number_of_shards': '1',\n",
      "                                         'provided_name': 'lozere_index',\n",
      "                                         'routing': {'allocation': {'include': {'_tier_preference': 'data_content'}}},\n",
      "                                         'uuid': 'ZYEZG3mERZiAOJ3qv2ZvZw',\n",
      "                                         'version': {'created': '7120199'}}}}}\n",
      "time: 9.57 ms (started: 2021-11-04 20:34:43 +00:00)\n"
     ]
    }
   ],
   "source": [
    "pprint(json.loads(request_lozere.content))"
   ]
  },
  {
   "cell_type": "code",
   "execution_count": 44,
   "id": "ea6b1891",
   "metadata": {},
   "outputs": [
    {
     "data": {
      "text/plain": [
       "{'siren': 903444479,\n",
       " 'siret': 90344447900013,\n",
       " 'denominationUniteLegale': 'BRICOMART',\n",
       " 'sigleUniteLegale': 'Non renseigne',\n",
       " 'enseigne1Etablissement': 'Non renseigne',\n",
       " 'activitePrincipaleEtablissement': '47.52B',\n",
       " 'geo_adresse': '21 Route de Mende 48400 Florac Trois Rivières',\n",
       " 'geo_score': 0.83,\n",
       " 'categorieJuridiqueUniteLegale': 5499.0,\n",
       " 'codeCommuneEtablissement': 48061,\n",
       " 'dep': 48}"
      ]
     },
     "execution_count": 44,
     "metadata": {},
     "output_type": "execute_result"
    },
    {
     "name": "stdout",
     "output_type": "stream",
     "text": [
      "time: 212 ms (started: 2021-11-04 20:34:46 +00:00)\n"
     ]
    }
   ],
   "source": [
    "# check if the data was rightly indexed\n",
    "elastic_client.get(index='lozere_index', id=10)['_source']"
   ]
  },
  {
   "cell_type": "code",
   "execution_count": 45,
   "id": "18e76b6c",
   "metadata": {},
   "outputs": [
    {
     "data": {
      "text/plain": [
       "[{'epoch': '1636058088', 'timestamp': '20:34:48', 'count': '23294'}]"
      ]
     },
     "execution_count": 45,
     "metadata": {},
     "output_type": "execute_result"
    },
    {
     "name": "stdout",
     "output_type": "stream",
     "text": [
      "time: 12.4 ms (started: 2021-11-04 20:34:48 +00:00)\n"
     ]
    }
   ],
   "source": [
    "# quick access to the document count\n",
    "elastic_client.cat.count(index=\"creuse_index\", params={\"format\": \"json\"})"
   ]
  },
  {
   "cell_type": "code",
   "execution_count": 46,
   "id": "62a386f0",
   "metadata": {},
   "outputs": [
    {
     "data": {
      "text/plain": [
       "[{'epoch': '1636058088', 'timestamp': '20:34:48', 'count': '19008'}]"
      ]
     },
     "execution_count": 46,
     "metadata": {},
     "output_type": "execute_result"
    },
    {
     "name": "stdout",
     "output_type": "stream",
     "text": [
      "time: 127 ms (started: 2021-11-04 20:34:48 +00:00)\n"
     ]
    }
   ],
   "source": [
    "# quick access to the document count\n",
    "elastic_client.cat.count(index=\"lozere_index\", params={\"format\": \"json\"})"
   ]
  },
  {
   "cell_type": "markdown",
   "id": "1f25d8c9",
   "metadata": {},
   "source": [
    "### d. Search queries"
   ]
  },
  {
   "cell_type": "markdown",
   "id": "f6e82680",
   "metadata": {},
   "source": [
    "* There are two ways we could go about this; either using the low-level API or the expressive DSL API. For the first question we will test both. As for the remaining questions, we will use the high level DSl library as it is more Pythonic and less verbose."
   ]
  },
  {
   "cell_type": "markdown",
   "id": "952840b1",
   "metadata": {},
   "source": [
    "#### Question 1: All companies in Department 23 where denominationUniteLegale contains word : `boulanger`"
   ]
  },
  {
   "cell_type": "markdown",
   "id": "cb5ead93",
   "metadata": {},
   "source": [
    "#### i. Using the low level API"
   ]
  },
  {
   "cell_type": "code",
   "execution_count": 47,
   "id": "bcc75ad0",
   "metadata": {},
   "outputs": [
    {
     "name": "stdout",
     "output_type": "stream",
     "text": [
      "time: 492 µs (started: 2021-11-04 20:34:53 +00:00)\n"
     ]
    }
   ],
   "source": [
    "# Python dictionary object representing the Elasticsearch JSON query\n",
    "search_query = {\n",
    "    'query': {\n",
    "        'wildcard': {\n",
    "            'denominationUniteLegale': '*boulanger*'\n",
    "        }\n",
    "    }\n",
    "}"
   ]
  },
  {
   "cell_type": "code",
   "execution_count": 48,
   "id": "1b07e081",
   "metadata": {},
   "outputs": [
    {
     "data": {
      "text/plain": [
       "dict"
      ]
     },
     "execution_count": 48,
     "metadata": {},
     "output_type": "execute_result"
    },
    {
     "name": "stdout",
     "output_type": "stream",
     "text": [
      "time: 23.4 ms (started: 2021-11-04 20:34:53 +00:00)\n"
     ]
    }
   ],
   "source": [
    "question_1 = elastic_client.search(index=\"creuse_index\", body=search_query, size=10000)\n",
    "#_source=['siren']: to return only `siren` field\n",
    "type(question_1)"
   ]
  },
  {
   "cell_type": "markdown",
   "id": "ae193956",
   "metadata": {},
   "source": [
    "* The response is a `dict`"
   ]
  },
  {
   "cell_type": "code",
   "execution_count": 49,
   "id": "16b39106",
   "metadata": {},
   "outputs": [
    {
     "name": "stdout",
     "output_type": "stream",
     "text": [
      "There are ** 16 ** hits for your query!\n",
      "time: 868 µs (started: 2021-11-04 20:34:55 +00:00)\n"
     ]
    }
   ],
   "source": [
    "print(f\"There are ** {question_1['hits']['total']['value']} ** hits for your query!\")"
   ]
  },
  {
   "cell_type": "code",
   "execution_count": 51,
   "id": "4baa0c2f",
   "metadata": {},
   "outputs": [
    {
     "name": "stdout",
     "output_type": "stream",
     "text": [
      "[(521552075,\n",
      "  'AMICALE ANCIENS BOULANGERS ET BOULANGERS PATISSIERS DE CREUSE BOURDONNAIS '\n",
      "  'COMBRAILLES'),\n",
      " (521552075,\n",
      "  'AMICALE ANCIENS BOULANGERS ET BOULANGERS PATISSIERS DE CREUSE BOURDONNAIS '\n",
      "  'COMBRAILLES'),\n",
      " (777998741, 'SYNDICAT DES PATRONS BOULANGER'),\n",
      " (478455793, 'BOULANGERIES BG'),\n",
      " (777998741, 'SYNDICAT DES PATRONS BOULANGER'),\n",
      " (377553706, 'POUGHEON BOULANGER PATISSIER'),\n",
      " (342592813, 'BOULANGER PATISSERIE EPICERIE LE GELDON'),\n",
      " (751721689, 'BOULANGERIE ESPAGNE'),\n",
      " (483613022, 'BOULANGERIE PATISSERIE DU SOLEIL'),\n",
      " (342466984, 'BOULANGERIE PATISSERIE DEVOUEZE'),\n",
      " (499646420, 'BOULANGERIE THIOLAS - DUPONT'),\n",
      " (301466520, 'BOULANGERIE PATISSERIE DU CHATEAU'),\n",
      " (330450164, 'EXPLOIT BOULANGER PATISSER MAISON FAURY'),\n",
      " (478695034, 'SOC EQUIPEMENTS BOULANGERIE PATISSERIE'),\n",
      " (512788126, 'BOULANGERIE JUBERT'),\n",
      " (326492139, 'BOULANGERIE MIRAUX')]\n",
      "time: 2.61 ms (started: 2021-11-04 20:35:57 +00:00)\n"
     ]
    }
   ],
   "source": [
    "# print siren and name fields\n",
    "pprint([(i['_source']['siren'], i['_source']['denominationUniteLegale']) for i in question_1[\"hits\"][\"hits\"]])"
   ]
  },
  {
   "cell_type": "code",
   "execution_count": null,
   "id": "87fcbeb3",
   "metadata": {},
   "outputs": [],
   "source": [
    "# print all fields\n",
    "pprint(question_1['hits']['hits'])"
   ]
  },
  {
   "cell_type": "markdown",
   "id": "72021ff5",
   "metadata": {},
   "source": [
    "#### ii. Using Elasticsearch DSL library"
   ]
  },
  {
   "cell_type": "code",
   "execution_count": 53,
   "id": "6cd952a6",
   "metadata": {},
   "outputs": [
    {
     "name": "stdout",
     "output_type": "stream",
     "text": [
      "time: 813 µs (started: 2021-11-04 20:36:14 +00:00)\n"
     ]
    }
   ],
   "source": [
    "search_1 = Search(using=elastic_client, index='creuse_index') \\\n",
    "                .query('wildcard', denominationUniteLegale='*boulanger*')\\\n",
    "                .extra(size=1000)"
   ]
  },
  {
   "cell_type": "code",
   "execution_count": 54,
   "id": "d50c887b",
   "metadata": {},
   "outputs": [
    {
     "name": "stdout",
     "output_type": "stream",
     "text": [
      "Total hits: 16\n",
      "\n",
      "time: 18.1 ms (started: 2021-11-04 20:36:17 +00:00)\n"
     ]
    }
   ],
   "source": [
    "question_1_dsl = search_1.execute()\n",
    "print('Total hits: {}\\n'.format(question_1_dsl['hits']['total']['value']))"
   ]
  },
  {
   "cell_type": "code",
   "execution_count": 55,
   "id": "4e64c9b6",
   "metadata": {},
   "outputs": [
    {
     "data": {
      "text/plain": [
       "elasticsearch_dsl.response.Response"
      ]
     },
     "execution_count": 55,
     "metadata": {},
     "output_type": "execute_result"
    },
    {
     "name": "stdout",
     "output_type": "stream",
     "text": [
      "time: 2.66 ms (started: 2021-11-04 20:36:18 +00:00)\n"
     ]
    }
   ],
   "source": [
    "type(question_1_dsl)"
   ]
  },
  {
   "cell_type": "markdown",
   "id": "fb646f67",
   "metadata": {},
   "source": [
    "* The reponse is a `reponse object`"
   ]
  },
  {
   "cell_type": "code",
   "execution_count": 56,
   "id": "2ea24229",
   "metadata": {},
   "outputs": [
    {
     "name": "stdout",
     "output_type": "stream",
     "text": [
      "[(521552075,\n",
      "  52155207500025,\n",
      "  'AMICALE ANCIENS BOULANGERS ET BOULANGERS PATISSIERS DE CREUSE BOURDONNAIS '\n",
      "  'COMBRAILLES'),\n",
      " (521552075,\n",
      "  52155207500017,\n",
      "  'AMICALE ANCIENS BOULANGERS ET BOULANGERS PATISSIERS DE CREUSE BOURDONNAIS '\n",
      "  'COMBRAILLES'),\n",
      " (777998741, 77799874100022, 'SYNDICAT DES PATRONS BOULANGER'),\n",
      " (478455793, 47845579302756, 'BOULANGERIES BG'),\n",
      " (777998741, 77799874100014, 'SYNDICAT DES PATRONS BOULANGER'),\n",
      " (377553706, 37755370600013, 'POUGHEON BOULANGER PATISSIER'),\n",
      " (342592813, 34259281300014, 'BOULANGER PATISSERIE EPICERIE LE GELDON'),\n",
      " (751721689, 75172168900014, 'BOULANGERIE ESPAGNE'),\n",
      " (483613022, 48361302200019, 'BOULANGERIE PATISSERIE DU SOLEIL'),\n",
      " (342466984, 34246698400016, 'BOULANGERIE PATISSERIE DEVOUEZE'),\n",
      " (499646420, 49964642000012, 'BOULANGERIE THIOLAS - DUPONT'),\n",
      " (301466520, 30146652000014, 'BOULANGERIE PATISSERIE DU CHATEAU'),\n",
      " (330450164, 33045016400018, 'EXPLOIT BOULANGER PATISSER MAISON FAURY'),\n",
      " (478695034, 47869503400031, 'SOC EQUIPEMENTS BOULANGERIE PATISSERIE'),\n",
      " (512788126, 51278812600013, 'BOULANGERIE JUBERT'),\n",
      " (326492139, 32649213900018, 'BOULANGERIE MIRAUX')]\n",
      "time: 4.16 ms (started: 2021-11-04 20:36:25 +00:00)\n"
     ]
    }
   ],
   "source": [
    "# print siren, siret and name fields\n",
    "pprint([(hit.siren, hit.siret, hit.denominationUniteLegale) for hit in question_1_dsl])"
   ]
  },
  {
   "cell_type": "code",
   "execution_count": null,
   "id": "b5e9f496",
   "metadata": {},
   "outputs": [],
   "source": [
    "# to print all fields\n",
    "pprint ([hit._d_ for hit in question_1_dsl])"
   ]
  },
  {
   "cell_type": "markdown",
   "id": "a8799c36",
   "metadata": {},
   "source": [
    "#### iii. Test with Pandas to make sure the search results are correct"
   ]
  },
  {
   "cell_type": "code",
   "execution_count": 57,
   "id": "e25891f9",
   "metadata": {},
   "outputs": [
    {
     "data": {
      "text/plain": [
       "16"
      ]
     },
     "execution_count": 57,
     "metadata": {},
     "output_type": "execute_result"
    },
    {
     "name": "stdout",
     "output_type": "stream",
     "text": [
      "time: 21.7 ms (started: 2021-11-04 20:36:32 +00:00)\n"
     ]
    }
   ],
   "source": [
    "companies_creuse[companies_creuse['denominationUniteLegale'].str.contains('BOULANGER')].shape[0]"
   ]
  },
  {
   "cell_type": "markdown",
   "id": "7d4b0d41",
   "metadata": {},
   "source": [
    "* The results seem to match!"
   ]
  },
  {
   "cell_type": "markdown",
   "id": "24403fb6",
   "metadata": {},
   "source": [
    "#### Question 2: All companies in Department 48 where activitePrincipaleEtablissement is 90.01Z"
   ]
  },
  {
   "cell_type": "code",
   "execution_count": 58,
   "id": "fb0f16a1",
   "metadata": {},
   "outputs": [
    {
     "name": "stdout",
     "output_type": "stream",
     "text": [
      "time: 1.01 ms (started: 2021-11-04 20:36:41 +00:00)\n"
     ]
    }
   ],
   "source": [
    "# we use the `filter` context since we don't care about the score of matching documents, and it's faster than the 'query' context\n",
    "search_2 = Search(using=elastic_client, index='lozere_index') \\\n",
    "                .filter('match', activitePrincipaleEtablissement='90.01Z')\\\n",
    "                .extra(size=1000)"
   ]
  },
  {
   "cell_type": "code",
   "execution_count": 59,
   "id": "dcee39cc",
   "metadata": {},
   "outputs": [
    {
     "name": "stdout",
     "output_type": "stream",
     "text": [
      "Total hits: 167\n",
      "\n",
      "time: 25.7 ms (started: 2021-11-04 20:36:43 +00:00)\n"
     ]
    }
   ],
   "source": [
    "question_2 = search_2.execute()\n",
    "print('Total hits: {}\\n'.format(question_2['hits']['total']['value']))"
   ]
  },
  {
   "cell_type": "code",
   "execution_count": null,
   "id": "55836014",
   "metadata": {},
   "outputs": [],
   "source": [
    "# print siren, siret and activity for matching companies\n",
    "pprint([(hit.siren, hit.siret, hit.activitePrincipaleEtablissement) for hit in question_2])"
   ]
  },
  {
   "cell_type": "code",
   "execution_count": null,
   "id": "26bcd835",
   "metadata": {},
   "outputs": [],
   "source": [
    "# to print all fields\n",
    "pprint ([hit._d_ for hit in question_2])"
   ]
  },
  {
   "cell_type": "markdown",
   "id": "a8d30217",
   "metadata": {},
   "source": [
    "#### Question 3: All companies in Department 23 where codeCommuneEtablissement is 23079 or 23176"
   ]
  },
  {
   "cell_type": "code",
   "execution_count": 61,
   "id": "564efdb9",
   "metadata": {},
   "outputs": [
    {
     "name": "stdout",
     "output_type": "stream",
     "text": [
      "time: 939 µs (started: 2021-11-04 20:36:58 +00:00)\n"
     ]
    }
   ],
   "source": [
    "search_3 = Search(using=elastic_client, index='creuse_index') \\\n",
    "                .filter('terms', codeCommuneEtablissement=['23079','23176'])\\\n",
    "                .extra(size=2000)"
   ]
  },
  {
   "cell_type": "code",
   "execution_count": 62,
   "id": "6221d16f",
   "metadata": {},
   "outputs": [
    {
     "name": "stdout",
     "output_type": "stream",
     "text": [
      "Total hits: 1835\n",
      "\n",
      "time: 212 ms (started: 2021-11-04 20:37:01 +00:00)\n"
     ]
    }
   ],
   "source": [
    "question_3 = search_3.execute()\n",
    "print('Total hits: {}\\n'.format(question_3['hits']['total']['value']))"
   ]
  },
  {
   "cell_type": "code",
   "execution_count": null,
   "id": "8b64ebeb",
   "metadata": {},
   "outputs": [],
   "source": [
    "# list of siren, siret  and codeCommuneEtablissement numbers corresponding to the query\n",
    "pprint([(hit.siren, hit.siret, hit.codeCommuneEtablissement) for hit in question_3])"
   ]
  },
  {
   "cell_type": "code",
   "execution_count": null,
   "id": "d42ce554",
   "metadata": {},
   "outputs": [],
   "source": [
    "pprint ([hit._d_ for hit in question_3])"
   ]
  },
  {
   "cell_type": "markdown",
   "id": "9e225327",
   "metadata": {},
   "source": [
    "#### Question 4: Relevant companies in Departement 48 where terms of query is Théâtre Mende (NB : Mende is the city capital of Department 48)"
   ]
  },
  {
   "cell_type": "code",
   "execution_count": 65,
   "id": "805e5644",
   "metadata": {},
   "outputs": [
    {
     "name": "stdout",
     "output_type": "stream",
     "text": [
      "time: 687 µs (started: 2021-11-04 20:37:57 +00:00)\n"
     ]
    }
   ],
   "source": [
    "# `Or` is the default operator for `query_string`\n",
    "search_4 = Search(using=elastic_client, index='lozere_index') \\\n",
    "                .query('query_string', query='Théâtre Mende')\\\n",
    "                .extra(size=20)"
   ]
  },
  {
   "cell_type": "markdown",
   "id": "3a67d230",
   "metadata": {},
   "source": [
    "* 20 most relevant results based on the Term Frequency/Inverse Document Frequency (TF/IDF) model\n",
    "* If we use the `AND` operator, we get only 6 matches. The most relevant companies."
   ]
  },
  {
   "cell_type": "code",
   "execution_count": 66,
   "id": "df637b71",
   "metadata": {},
   "outputs": [
    {
     "name": "stdout",
     "output_type": "stream",
     "text": [
      "Total hits: 3949\n",
      "\n",
      "time: 19.9 ms (started: 2021-11-04 20:38:04 +00:00)\n"
     ]
    }
   ],
   "source": [
    "question_4 = search_4.execute()\n",
    "print('Total hits: {}\\n'.format(question_4['hits']['total']['value']))"
   ]
  },
  {
   "cell_type": "code",
   "execution_count": 67,
   "id": "ec593f2b",
   "metadata": {
    "scrolled": true
   },
   "outputs": [
    {
     "name": "stdout",
     "output_type": "stream",
     "text": [
      "[(10.07526, 325445260, 32544526000038, 'Rue du Théâtre 48000 Mende'),\n",
      " (9.384995, 317442176, 31744217600770, '1 Rue du Théâtre 48000 Mende'),\n",
      " (9.384995, 775627391, 77562739102199, '1 Rue du Théâtre 48000 Mende'),\n",
      " (9.384995, 775688658, 77568865800746, '1 Rue du Théâtre 48000 Mende'),\n",
      " (9.384995, 423658475, 42365847500029, '7 Rue du Théâtre 48000 Mende'),\n",
      " (9.384995, 776115263, 77611526300035, '1 Rue du Théâtre 48000 Mende'),\n",
      " (8.826167, 805263142, 80526314200020, 'Avenue du 8 Mai 1945 48000 Mende'),\n",
      " (8.826167, 805263142, 80526314200012, 'Rue de Fontanilles 48000 Mende'),\n",
      " (8.386117, 853396992, 85339699200010, 'Théâtre des Quatre Saisons Gradignan'),\n",
      " (7.0839477,\n",
      "  130005481,\n",
      "  13000548120133,\n",
      "  '44b Avenue du 11 Novembre 48000 Mende'),\n",
      " (7.0839477, 160022042, 16002204200636, '12 Avenue Maréchal Foch 48000 Mende'),\n",
      " (5.6914506,\n",
      "  130014772,\n",
      "  13001477200219,\n",
      "  '1 Boulevard Lucien Arnault 48000 Mende'),\n",
      " (5.6914506, 130014772, 13001477200250, '2 Allée Paul Doumer 48000 Mende'),\n",
      " (5.6914506, 130014772, 13001477200227, '2 Allée Paul Doumer 48000 Mende'),\n",
      " (5.6914506, 264800095, 26480009500103, 'Avenue du 8 Mai 1945 48000 Mende'),\n",
      " (5.6914506, 130001563, 13000156300159, 'Rue de la Garenne 48000 Mende'),\n",
      " (5.6914506, 350950135, 35095013500086, 'Avenue de Ramilles 48000 Mende'),\n",
      " (5.6914506, 173101205, 17310120500115, '37 Chemin de Séjalan 48000 Mende'),\n",
      " (5.6914506, 180070047, 18007004700840, '25 Avenue Maréchal Foch 48000 Mende'),\n",
      " (5.6914506, 843183567, 84318356700018, '8 Rue Saint Privat 48000 Mende')]\n",
      "time: 5 ms (started: 2021-11-04 20:38:06 +00:00)\n"
     ]
    }
   ],
   "source": [
    "pprint([(hit.meta.score, hit.siren, hit.siret, hit.geo_adresse) for hit in question_4])"
   ]
  },
  {
   "cell_type": "code",
   "execution_count": null,
   "id": "ff0221f0",
   "metadata": {},
   "outputs": [],
   "source": [
    "# print all fields\n",
    "pprint ([hit._d_ for hit in question_4])"
   ]
  },
  {
   "cell_type": "markdown",
   "id": "1e598b15",
   "metadata": {},
   "source": [
    "And voilà!"
   ]
  }
 ],
 "metadata": {
  "kernelspec": {
   "display_name": "Python 3 (ipykernel)",
   "language": "python",
   "name": "python3"
  },
  "language_info": {
   "codemirror_mode": {
    "name": "ipython",
    "version": 3
   },
   "file_extension": ".py",
   "mimetype": "text/x-python",
   "name": "python",
   "nbconvert_exporter": "python",
   "pygments_lexer": "ipython3",
   "version": "3.9.7"
  }
 },
 "nbformat": 4,
 "nbformat_minor": 5
}
